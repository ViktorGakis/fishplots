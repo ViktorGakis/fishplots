{
 "cells": [
  {
   "cell_type": "code",
   "execution_count": 1,
   "id": "55bcd162-3e30-443d-a83d-8bb289a87fda",
   "metadata": {
    "execution": {
     "iopub.execute_input": "2021-10-08T06:19:31.574812Z",
     "iopub.status.busy": "2021-10-08T06:19:31.574812Z",
     "iopub.status.idle": "2021-10-08T06:19:32.072711Z",
     "shell.execute_reply": "2021-10-08T06:19:32.072711Z",
     "shell.execute_reply.started": "2021-10-08T06:19:31.574812Z"
    },
    "tags": []
   },
   "outputs": [],
   "source": [
    "import matplotlib.pyplot as plt\n",
    "import numpy as np\n",
    "from scipy import special,optimize"
   ]
  },
  {
   "cell_type": "code",
   "execution_count": 2,
   "id": "2f6b8084-6dc3-4cfc-9425-1ffcdc7c0917",
   "metadata": {
    "collapsed": true,
    "execution": {
     "iopub.execute_input": "2021-10-08T06:19:32.823157Z",
     "iopub.status.busy": "2021-10-08T06:19:32.823157Z",
     "iopub.status.idle": "2021-10-08T06:19:32.845100Z",
     "shell.execute_reply": "2021-10-08T06:19:32.845100Z",
     "shell.execute_reply.started": "2021-10-08T06:19:32.823157Z"
    },
    "jupyter": {
     "outputs_hidden": true
    },
    "tags": []
   },
   "outputs": [
    {
     "data": {
      "text/plain": [
       "array([0.        , 0.02020202, 0.04040404, 0.06060606, 0.08080808,\n",
       "       0.1010101 , 0.12121212, 0.14141414, 0.16161616, 0.18181818,\n",
       "       0.2020202 , 0.22222222, 0.24242424, 0.26262626, 0.28282828,\n",
       "       0.3030303 , 0.32323232, 0.34343434, 0.36363636, 0.38383838,\n",
       "       0.4040404 , 0.42424242, 0.44444444, 0.46464646, 0.48484848,\n",
       "       0.50505051, 0.52525253, 0.54545455, 0.56565657, 0.58585859,\n",
       "       0.60606061, 0.62626263, 0.64646465, 0.66666667, 0.68686869,\n",
       "       0.70707071, 0.72727273, 0.74747475, 0.76767677, 0.78787879,\n",
       "       0.80808081, 0.82828283, 0.84848485, 0.86868687, 0.88888889,\n",
       "       0.90909091, 0.92929293, 0.94949495, 0.96969697, 0.98989899,\n",
       "       1.01010101, 1.03030303, 1.05050505, 1.07070707, 1.09090909,\n",
       "       1.11111111, 1.13131313, 1.15151515, 1.17171717, 1.19191919,\n",
       "       1.21212121, 1.23232323, 1.25252525, 1.27272727, 1.29292929,\n",
       "       1.31313131, 1.33333333, 1.35353535, 1.37373737, 1.39393939,\n",
       "       1.41414141, 1.43434343, 1.45454545, 1.47474747, 1.49494949,\n",
       "       1.51515152, 1.53535354, 1.55555556, 1.57575758, 1.5959596 ,\n",
       "       1.61616162, 1.63636364, 1.65656566, 1.67676768, 1.6969697 ,\n",
       "       1.71717172, 1.73737374, 1.75757576, 1.77777778, 1.7979798 ,\n",
       "       1.81818182, 1.83838384, 1.85858586, 1.87878788, 1.8989899 ,\n",
       "       1.91919192, 1.93939394, 1.95959596, 1.97979798, 2.        ])"
      ]
     },
     "execution_count": 2,
     "metadata": {},
     "output_type": "execute_result"
    }
   ],
   "source": [
    "zs = np.linspace(0.0,2.0,100)\n",
    "zs"
   ]
  },
  {
   "cell_type": "code",
   "execution_count": 26,
   "id": "d8b36b85-0430-40f2-9d91-41739ef0bc77",
   "metadata": {
    "execution": {
     "iopub.execute_input": "2021-10-08T06:39:55.903206Z",
     "iopub.status.busy": "2021-10-08T06:39:55.902207Z",
     "iopub.status.idle": "2021-10-08T06:39:55.922173Z",
     "shell.execute_reply": "2021-10-08T06:39:55.921157Z",
     "shell.execute_reply.started": "2021-10-08T06:39:55.903206Z"
    },
    "tags": []
   },
   "outputs": [],
   "source": [
    "def ΗfunctionLCDM(z,y):\n",
    "    omegam = y[0]\n",
    "    h = y[1]\n",
    "    E = (omegam*((1+z)**3)+(1-omegam))**0.5\n",
    "    return 100*h*E"
   ]
  },
  {
   "cell_type": "code",
   "execution_count": 18,
   "id": "4ca434ed-908f-4d41-aaf8-00572847e283",
   "metadata": {
    "collapsed": true,
    "execution": {
     "iopub.execute_input": "2021-10-08T06:18:58.659907Z",
     "iopub.status.busy": "2021-10-08T06:18:58.659907Z",
     "iopub.status.idle": "2021-10-08T06:18:58.669901Z",
     "shell.execute_reply": "2021-10-08T06:18:58.669901Z",
     "shell.execute_reply.started": "2021-10-08T06:18:58.659907Z"
    },
    "jupyter": {
     "outputs_hidden": true
    },
    "tags": []
   },
   "outputs": [
    {
     "data": {
      "text/plain": [
       "array([ 70.        ,  70.64632224,  71.31253777,  71.99859939,\n",
       "        72.70444537,  73.43000035,  74.17517616,  74.93987267,\n",
       "        75.72397867,  76.52737267,  77.34992373,  78.19149228,\n",
       "        79.05193091,  79.93108511,  80.82879402,  81.74489116,\n",
       "        82.67920506,  83.63155994,  84.60177632,  85.5896716 ,\n",
       "        86.59506062,  87.61775614,  88.65756938,  89.71431043,\n",
       "        90.78778868,  91.8778132 ,  92.98419314,  94.106738  ,\n",
       "        95.24525799,  96.39956426,  97.56946919,  98.7547866 ,\n",
       "        99.95533193, 101.17092248, 102.40137751, 103.64651845,\n",
       "       104.90616894, 106.18015505, 107.46830527, 108.77045066,\n",
       "       110.08642487, 111.41606425, 112.75920783, 114.11569742,\n",
       "       115.48537755, 116.86809558, 118.26370166, 119.67204869,\n",
       "       121.09299242, 122.52639134, 123.97210671, 125.43000252,\n",
       "       126.89994551, 128.38180506, 129.87545326, 131.38076476,\n",
       "       132.89761686, 134.42588934, 135.96546455, 137.51622726,\n",
       "       139.07806467, 140.65086636, 142.23452425, 143.82893253,\n",
       "       145.43398764, 147.0495882 , 148.67563501, 150.31203093,\n",
       "       151.9586809 , 153.61549187, 155.28237275, 156.95923437,\n",
       "       158.64598943, 160.34255247, 162.04883982, 163.76476954,\n",
       "       165.4902614 , 167.22523684, 168.96961891, 170.72333225,\n",
       "       172.48630304, 174.25845896, 176.03972916, 177.83004421,\n",
       "       179.6293361 , 181.43753816, 183.25458504, 185.08041269,\n",
       "       186.91495833, 188.75816038, 190.60995848, 192.47029344,\n",
       "       194.33910718, 196.21634274, 198.10194426, 199.9958569 ,\n",
       "       201.89802688, 203.80840138, 205.72692859, 207.65355764])"
      ]
     },
     "execution_count": 18,
     "metadata": {},
     "output_type": "execute_result"
    }
   ],
   "source": [
    "ΗfunctionLCDM(zs,[0.3,0.7])"
   ]
  },
  {
   "cell_type": "code",
   "execution_count": 4,
   "id": "806266a8-18e1-473d-a55c-39550a4b9913",
   "metadata": {
    "execution": {
     "iopub.execute_input": "2021-10-08T06:02:25.339375Z",
     "iopub.status.busy": "2021-10-08T06:02:25.338378Z",
     "iopub.status.idle": "2021-10-08T06:02:25.591186Z",
     "shell.execute_reply": "2021-10-08T06:02:25.591186Z",
     "shell.execute_reply.started": "2021-10-08T06:02:25.338378Z"
    },
    "tags": []
   },
   "outputs": [
    {
     "data": {
      "text/plain": [
       "[<matplotlib.lines.Line2D at 0x28f48663ac0>]"
      ]
     },
     "execution_count": 4,
     "metadata": {},
     "output_type": "execute_result"
    },
    {
     "data": {
      "image/png": "[encoded data removed]",
      "text/plain": [
       "<Figure size 432x288 with 1 Axes>"
      ]
     },
     "metadata": {
      "needs_background": "light"
     },
     "output_type": "display_data"
    }
   ],
   "source": [
    "plt.plot(zs,ΗfunctionLCDM(zs,[0.3,0.7]))"
   ]
  },
  {
   "cell_type": "code",
   "execution_count": 15,
   "id": "95a0821f-3290-4f6c-a595-2c87d9d20c2e",
   "metadata": {
    "execution": {
     "iopub.execute_input": "2021-10-08T06:27:03.653916Z",
     "iopub.status.busy": "2021-10-08T06:27:03.653916Z",
     "iopub.status.idle": "2021-10-08T06:27:03.664887Z",
     "shell.execute_reply": "2021-10-08T06:27:03.663920Z",
     "shell.execute_reply.started": "2021-10-08T06:27:03.653916Z"
    },
    "tags": []
   },
   "outputs": [],
   "source": [
    "def Ηfunctionexp1(z,y):\n",
    "    omegam = y[0]\n",
    "    h = y[1]\n",
    "    \n",
    "    def exp1rhs(x,z,omegam):\n",
    "        '''calculates the rhs of a given f(Q) Hubble rate (peplegmeni morfi os pros H)'''\n",
    "        return (x**2-2*lamda)*np.exp(lamda*(1/x)**2) - omegam*(1+z)**3\n",
    "#     first friedmann eq divided by H0^2\n",
    "\n",
    "    lamda = (0.5 + special.lambertw(omegam/(2*(np.e)**(0.5)), k=0, tol=1e-8)).real\n",
    "    \n",
    "#     print(lamda)\n",
    "\n",
    "    res = optimize.newton(exp1rhs, ΗfunctionLCDM(z,y)/(100*h) , fprime=None, args=(z,omegam), tol=1.48e-08, maxiter=50, fprime2=None, x1=None, rtol=0.0, full_output=False, disp=True)\n",
    "\n",
    "#     print(\"res = \",res)\n",
    "#     print(\"res.real = \",res.real)\n",
    "    \n",
    "    return res*100*h"
   ]
  },
  {
   "cell_type": "code",
   "execution_count": 16,
   "id": "85660f8b-a277-4b38-ad72-673b5ea0195c",
   "metadata": {
    "execution": {
     "iopub.execute_input": "2021-10-08T06:27:07.852627Z",
     "iopub.status.busy": "2021-10-08T06:27:07.852627Z",
     "iopub.status.idle": "2021-10-08T06:27:07.859609Z",
     "shell.execute_reply": "2021-10-08T06:27:07.859609Z",
     "shell.execute_reply.started": "2021-10-08T06:27:07.852627Z"
    },
    "tags": []
   },
   "outputs": [
    {
     "name": "stdout",
     "output_type": "stream",
     "text": [
      "81.71857619753445\n"
     ]
    }
   ],
   "source": [
    "# Ηfunctionexp1(zs,[0.3,0.7])\n",
    "print(Ηfunctionexp1(0,[0.3,0.7]))"
   ]
  },
  {
   "cell_type": "code",
   "execution_count": 17,
   "id": "4e4410d1-2675-4182-ad8f-04d641a6c6ed",
   "metadata": {
    "execution": {
     "iopub.execute_input": "2021-10-08T06:27:11.613205Z",
     "iopub.status.busy": "2021-10-08T06:27:11.613205Z",
     "iopub.status.idle": "2021-10-08T06:27:11.782614Z",
     "shell.execute_reply": "2021-10-08T06:27:11.782614Z",
     "shell.execute_reply.started": "2021-10-08T06:27:11.613205Z"
    },
    "tags": []
   },
   "outputs": [
    {
     "data": {
      "text/plain": [
       "[<matplotlib.lines.Line2D at 0x1f41b72a2b0>]"
      ]
     },
     "execution_count": 17,
     "metadata": {},
     "output_type": "execute_result"
    },
    {
     "data": {
      "image/png": "[encoded data removed]",
      "text/plain": [
       "<Figure size 432x288 with 1 Axes>"
      ]
     },
     "metadata": {
      "needs_background": "light"
     },
     "output_type": "display_data"
    }
   ],
   "source": [
    "plt.plot(zs,ΗfunctionLCDM(zs,[0.3,0.7]))\n",
    "plt.plot(zs,Ηfunctionexp1(zs,[0.3,0.7]))"
   ]
  },
  {
   "cell_type": "code",
   "execution_count": 37,
   "id": "c9ba4b27-2a10-4471-b454-3e1644237402",
   "metadata": {
    "execution": {
     "iopub.execute_input": "2021-10-08T06:54:22.094260Z",
     "iopub.status.busy": "2021-10-08T06:54:22.094260Z",
     "iopub.status.idle": "2021-10-08T06:54:22.258820Z",
     "shell.execute_reply": "2021-10-08T06:54:22.258820Z",
     "shell.execute_reply.started": "2021-10-08T06:54:22.094260Z"
    },
    "tags": []
   },
   "outputs": [
    {
     "data": {
      "text/plain": [
       "[<matplotlib.lines.Line2D at 0x1f41bb0e5e0>]"
      ]
     },
     "execution_count": 37,
     "metadata": {},
     "output_type": "execute_result"
    },
    {
     "data": {
      "image/png": "[encoded data removed]",
      "text/plain": [
       "<Figure size 432x288 with 1 Axes>"
      ]
     },
     "metadata": {
      "needs_background": "light"
     },
     "output_type": "display_data"
    }
   ],
   "source": [
    "# fish plot for LCDM \n",
    "# \\Omega_{\\Lambda} = E^2 -Omega_{m0} (1+z)^3\n",
    "omegam = 0.3\n",
    "h = 0.7\n",
    "def omegalamda(zs,omegam,h):\n",
    "      return 1 - ((100*h)/ΗfunctionLCDM(zs,[omegam,h]))**2*omegam*((1+zs)**3)\n",
    "omegalamda(zs,0.3,0.7)\n",
    "plt.plot(zs,omegalamda(zs,0.3,0.7))\n",
    "plt.plot(zs,((omegam)*((1+zs)**3))/((ΗfunctionLCDM(zs,[omegam,h])/(100*h))**2))\n",
    "# intersection point(transition redshift), to the left accelarated, to the right disaccelerated "
   ]
  },
  {
   "cell_type": "code",
   "execution_count": 38,
   "id": "91183b31-4b7d-41f6-a0fa-21be7a0b36a8",
   "metadata": {
    "execution": {
     "iopub.execute_input": "2021-10-08T06:58:13.276967Z",
     "iopub.status.busy": "2021-10-08T06:58:13.276967Z",
     "iopub.status.idle": "2021-10-08T06:58:13.422218Z",
     "shell.execute_reply": "2021-10-08T06:58:13.422218Z",
     "shell.execute_reply.started": "2021-10-08T06:58:13.276967Z"
    }
   },
   "outputs": [
    {
     "data": {
      "text/plain": [
       "[<matplotlib.lines.Line2D at 0x1f41bb6b580>]"
      ]
     },
     "execution_count": 38,
     "metadata": {},
     "output_type": "execute_result"
    },
    {
     "data": {
      "image/png": "[encoded data removed]",
      "text/plain": [
       "<Figure size 432x288 with 1 Axes>"
      ]
     },
     "metadata": {
      "needs_background": "light"
     },
     "output_type": "display_data"
    }
   ],
   "source": [
    "# fish plot for exp1 \n",
    "def omegalamda(zs,omegam,h):\n",
    "      return 1 - ((100*h)/Ηfunctionexp1(zs,[omegam,h]))**2*omegam*((1+zs)**3)\n",
    "omegalamda(zs,0.3,0.7)\n",
    "plt.plot(zs,omegalamda(zs,0.3,0.7))\n",
    "plt.plot(zs,((omegam)*((1+zs)**3))/((Ηfunctionexp1(zs,[omegam,h])/(100*h))**2))\n",
    "# intersection point, to the left accelarated, to the right disaccelerated "
   ]
  },
  {
   "cell_type": "code",
   "execution_count": null,
   "id": "47354d18-2066-4f40-9e5f-bbe485fae08e",
   "metadata": {},
   "outputs": [],
   "source": []
  }
 ],
 "metadata": {
  "kernelspec": {
   "display_name": "Python 3",
   "language": "python",
   "name": "python3"
  },
  "language_info": {
   "codemirror_mode": {
    "name": "ipython",
    "version": 3
   },
   "file_extension": ".py",
   "mimetype": "text/x-python",
   "name": "python",
   "nbconvert_exporter": "python",
   "pygments_lexer": "ipython3",
   "version": "3.9.5"
  }
 },
 "nbformat": 4,
 "nbformat_minor": 5
}
