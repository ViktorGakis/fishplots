{
 "cells": [
  {
   "cell_type": "markdown",
   "id": "7c1996ed-5c09-487e-a8c6-466ec8753826",
   "metadata": {
    "tags": []
   },
   "source": [
    "## General"
   ]
  },
  {
   "cell_type": "code",
   "execution_count": 3,
   "id": "a77f2baa-18e1-4ee3-91d9-250f4ad60d29",
   "metadata": {
    "tags": []
   },
   "outputs": [],
   "source": [
    "# evaluate all lines in cells\n",
    "from IPython.core.interactiveshell import InteractiveShell\n",
    "InteractiveShell.ast_node_interactivity = \"all\"\n",
    "\n",
    "import datetime\n",
    "# TODAY = datetime.datetime.today()"
   ]
  },
  {
   "cell_type": "code",
   "execution_count": 4,
   "id": "55bcd162-3e30-443d-a83d-8bb289a87fda",
   "metadata": {
    "tags": []
   },
   "outputs": [],
   "source": [
    "import matplotlib.pyplot as plt\n",
    "import numpy as np\n",
    "from scipy import special,optimize"
   ]
  },
  {
   "cell_type": "code",
   "execution_count": 5,
   "id": "2f6b8084-6dc3-4cfc-9425-1ffcdc7c0917",
   "metadata": {
    "tags": []
   },
   "outputs": [
    {
     "data": {
      "text/plain": [
       "array([0.        , 0.02525253, 0.05050505, 0.07575758, 0.1010101 ,\n",
       "       0.12626263, 0.15151515, 0.17676768, 0.2020202 , 0.22727273,\n",
       "       0.25252525, 0.27777778, 0.3030303 , 0.32828283, 0.35353535,\n",
       "       0.37878788, 0.4040404 , 0.42929293, 0.45454545, 0.47979798,\n",
       "       0.50505051, 0.53030303, 0.55555556, 0.58080808, 0.60606061,\n",
       "       0.63131313, 0.65656566, 0.68181818, 0.70707071, 0.73232323,\n",
       "       0.75757576, 0.78282828, 0.80808081, 0.83333333, 0.85858586,\n",
       "       0.88383838, 0.90909091, 0.93434343, 0.95959596, 0.98484848,\n",
       "       1.01010101, 1.03535354, 1.06060606, 1.08585859, 1.11111111,\n",
       "       1.13636364, 1.16161616, 1.18686869, 1.21212121, 1.23737374,\n",
       "       1.26262626, 1.28787879, 1.31313131, 1.33838384, 1.36363636,\n",
       "       1.38888889, 1.41414141, 1.43939394, 1.46464646, 1.48989899,\n",
       "       1.51515152, 1.54040404, 1.56565657, 1.59090909, 1.61616162,\n",
       "       1.64141414, 1.66666667, 1.69191919, 1.71717172, 1.74242424,\n",
       "       1.76767677, 1.79292929, 1.81818182, 1.84343434, 1.86868687,\n",
       "       1.89393939, 1.91919192, 1.94444444, 1.96969697, 1.99494949,\n",
       "       2.02020202, 2.04545455, 2.07070707, 2.0959596 , 2.12121212,\n",
       "       2.14646465, 2.17171717, 2.1969697 , 2.22222222, 2.24747475,\n",
       "       2.27272727, 2.2979798 , 2.32323232, 2.34848485, 2.37373737,\n",
       "       2.3989899 , 2.42424242, 2.44949495, 2.47474747, 2.5       ])"
      ]
     },
     "execution_count": 5,
     "metadata": {},
     "output_type": "execute_result"
    }
   ],
   "source": [
    "zs = np.linspace(0.0,2.5,100)\n",
    "zs"
   ]
  },
  {
   "cell_type": "code",
   "execution_count": 7,
   "id": "d8b36b85-0430-40f2-9d91-41739ef0bc77",
   "metadata": {
    "tags": []
   },
   "outputs": [],
   "source": [
    "def ΗfunctionLCDM(z,y):\n",
    "    omegam = y[0]\n",
    "    h = y[1]\n",
    "    E = (omegam*((1+z)**3)+(1-omegam))**0.5\n",
    "    return 100*h*E"
   ]
  },
  {
   "cell_type": "code",
   "execution_count": 8,
   "id": "4ca434ed-908f-4d41-aaf8-00572847e283",
   "metadata": {
    "tags": []
   },
   "outputs": [
    {
     "data": {
      "text/plain": [
       "array([ 70.        ,  70.81101271,  71.65309135,  72.52613299,\n",
       "        73.43000035,  74.36452438,  75.32950685,  76.32472293,\n",
       "        77.34992373,  78.40483879,  79.48917847,  80.60263631,\n",
       "        81.74489116,  82.91560939,  84.11444678,  85.34105047,\n",
       "        86.59506062,  87.87611207,  89.18383583,  90.51786044,\n",
       "        91.8778132 ,  93.26332132,  94.67401293,  96.10951801,\n",
       "        97.56946919,  99.05350249, 100.5612579 , 102.09238001,\n",
       "       103.64651845, 105.22332825, 106.82247027, 108.4436114 ,\n",
       "       110.08642487, 111.75059035, 113.43579416, 115.1417293 ,\n",
       "       116.86809558, 118.61459963, 120.38095488, 122.16688157,\n",
       "       123.97210671, 125.79636399, 127.63939377, 129.50094292,\n",
       "       131.38076476, 133.27861895, 135.19427137, 137.12749396,\n",
       "       139.07806467, 141.04576724, 143.03039112, 145.0317313 ,\n",
       "       147.0495882 , 149.0837675 , 151.13408002, 153.20034155,\n",
       "       155.28237275, 157.37999899, 159.49305023, 161.62136084,\n",
       "       163.76476954, 165.92311921, 168.09625679, 170.28403317,\n",
       "       172.48630304, 174.70292478, 176.93376036, 179.17867522,\n",
       "       181.43753816, 183.71022123, 185.99659964, 188.29655165,\n",
       "       190.60995848, 192.93670423, 195.27667575, 197.62976259,\n",
       "       199.9958569 , 202.37485337, 204.7666491 , 207.17114358,\n",
       "       209.58823858, 212.0178381 , 214.4598483 , 216.91417739,\n",
       "       219.38073564, 221.85943526, 224.35019037, 226.85291691,\n",
       "       229.36753262, 231.89395698, 234.43211112, 236.98191784,\n",
       "       239.54330147, 242.11618793, 244.70050457, 247.29618022,\n",
       "       249.90314511, 252.52133082, 255.15067025, 257.7910976 ])"
      ]
     },
     "execution_count": 8,
     "metadata": {},
     "output_type": "execute_result"
    }
   ],
   "source": [
    "ΗfunctionLCDM(zs,[0.3,0.7])"
   ]
  },
  {
   "cell_type": "code",
   "execution_count": 6,
   "id": "806266a8-18e1-473d-a55c-39550a4b9913",
   "metadata": {
    "tags": []
   },
   "outputs": [
    {
     "data": {
      "text/plain": [
       "[<matplotlib.lines.Line2D at 0x227892998b0>]"
      ]
     },
     "execution_count": 6,
     "metadata": {},
     "output_type": "execute_result"
    },
    {
     "data": {
      "image/png": "[encoded data removed]",
      "text/plain": [
       "<Figure size 432x288 with 1 Axes>"
      ]
     },
     "metadata": {
      "needs_background": "light"
     },
     "output_type": "display_data"
    }
   ],
   "source": [
    "plt.plot(zs,ΗfunctionLCDM(zs,[0.3,0.7]))"
   ]
  },
  {
   "cell_type": "code",
   "execution_count": 9,
   "id": "d7eefefa-bc65-4136-8114-4e9bd0cb1ab8",
   "metadata": {
    "tags": []
   },
   "outputs": [],
   "source": [
    "def Ηfunction(z,y,equationE):\n",
    "    '''\n",
    "    f(Q) = Qexp(lmbd*Q_0/Q)\n",
    "    '''\n",
    "    global  Om_m0, a, h\n",
    "    a = y[2]\n",
    "    Om_m0 = y[0]\n",
    "    h = y[1]\n",
    "    T_cmb = 2.7255\n",
    "    Omr = Om_m0/(1. + 2.5e4 * Om_m0 * h**2. * (T_cmb/2.7)**(-4.))\n",
    "    expr = (Om_m0 + Omr)/(-2*np.exp(0.5))\n",
    "    H_0 = 100*h\n",
    "    T_cmb = 2.7255\n",
    "    Om_r = Om_m0/(1. + 2.5e4 * Om_m0* h**2. * (T_cmb/2.7)**(-4.))\n",
    "    Og_mod = 31500. * (T_cmb/2.7)**(-4.)\n",
    "    Om_l = 1. - Om_m0- Om_r\n",
    "    x0E = (Om_m0*(1.+z)**3. + Om_r*(1.+ z)**4. + Om_l)**0.5\n",
    "    res = optimize.newton(equationE, x0E, args = (z,)) \n",
    "    return H_0*res"
   ]
  },
  {
   "cell_type": "code",
   "execution_count": 10,
   "id": "6c78d79a-bd9d-46e6-aa50-ae92989b2e47",
   "metadata": {
    "tags": []
   },
   "outputs": [
    {
     "data": {
      "text/plain": [
       "array([0.7       , 0.68405734, 0.66807352, 0.6520863 , 0.63613173,\n",
       "       0.62024391, 0.60445486, 0.58879437, 0.57328997, 0.55796684,\n",
       "       0.54284783, 0.52795344, 0.51330191, 0.49890922, 0.4847892 ,\n",
       "       0.47095363, 0.45741234, 0.4441733 , 0.43124277, 0.41862538,\n",
       "       0.40632432, 0.39434139, 0.38267717, 0.3713311 , 0.36030164,\n",
       "       0.34958633, 0.33918194, 0.32908453, 0.31928953, 0.30979189,\n",
       "       0.3005861 , 0.29166625, 0.28302616, 0.2746594 , 0.26655933,\n",
       "       0.25871918, 0.25113208, 0.24379109, 0.23668926, 0.22981964,\n",
       "       0.22317532, 0.21674942, 0.21053517, 0.20452587, 0.19871495,\n",
       "       0.19309594, 0.18766252, 0.18240849, 0.17732781, 0.17241459,\n",
       "       0.16766309, 0.16306774, 0.15862312, 0.15432398, 0.1501652 ,\n",
       "       0.14614187, 0.14224919, 0.13848255, 0.13483747, 0.13130964,\n",
       "       0.12789488, 0.12458918, 0.12138864, 0.11828952, 0.11528821,\n",
       "       0.11238123, 0.10956522, 0.10683695, 0.10419331, 0.1016313 ,\n",
       "       0.09914803, 0.09674074, 0.09440673, 0.09214344, 0.08994839,\n",
       "       0.08781919, 0.08575355, 0.08374927, 0.08180421, 0.07991634,\n",
       "       0.07808369, 0.07630435, 0.07457652, 0.07289844, 0.07126842,\n",
       "       0.06968484, 0.06814614, 0.0666508 , 0.06519739, 0.06378451,\n",
       "       0.06241082, 0.06107503, 0.05977589, 0.05851221, 0.05728282,\n",
       "       0.05608662, 0.05492255, 0.05378956, 0.05268666, 0.0516129 ])"
      ]
     },
     "execution_count": 10,
     "metadata": {},
     "output_type": "execute_result"
    },
    {
     "data": {
      "text/plain": [
       "[<matplotlib.lines.Line2D at 0x2530ec79730>]"
      ]
     },
     "execution_count": 10,
     "metadata": {},
     "output_type": "execute_result"
    },
    {
     "data": {
      "text/plain": [
       "[<matplotlib.lines.Line2D at 0x2530ec79b50>]"
      ]
     },
     "execution_count": 10,
     "metadata": {},
     "output_type": "execute_result"
    },
    {
     "data": {
      "image/png": "[encoded data removed]",
      "text/plain": [
       "<Figure size 432x288 with 1 Axes>"
      ]
     },
     "metadata": {
      "needs_background": "light"
     },
     "output_type": "display_data"
    }
   ],
   "source": [
    "# fish plot for LCDM \n",
    "# \\Omega_{\\Lambda} = E**2 -Omega_{m0} (1+z)**3\n",
    "omegam = 0.3\n",
    "h = 0.9\n",
    "def omegalamda(zs,omegam,h):\n",
    "      return 1 - ((100*h)/ΗfunctionLCDM(zs,[omegam,h]))**2*omegam*((1+zs)**3)\n",
    "omegalamda(zs,0.3,0.7)\n",
    "plt.plot(zs,omegalamda(zs,0.3,0.7))\n",
    "plt.plot(zs,((omegam)*((1+zs)**3))/((ΗfunctionLCDM(zs,[omegam,h])/(100*h))**2))\n",
    "# intersection point(transition redshift), to the left accelarated, to the right disaccelerated "
   ]
  },
  {
   "cell_type": "markdown",
   "id": "1e09f21e-4ce8-4d36-87b0-43b227459d6b",
   "metadata": {
    "execution": {
     "iopub.execute_input": "2021-10-14T18:21:49.574857Z",
     "iopub.status.busy": "2021-10-14T18:21:49.574857Z",
     "iopub.status.idle": "2021-10-14T18:21:49.591812Z",
     "shell.execute_reply": "2021-10-14T18:21:49.591812Z",
     "shell.execute_reply.started": "2021-10-14T18:21:49.574857Z"
    },
    "tags": []
   },
   "source": [
    "# Model 1"
   ]
  },
  {
   "cell_type": "code",
   "execution_count": 9,
   "id": "6a9b08e4-9f7d-4a96-998a-e9945bf845c7",
   "metadata": {
    "tags": []
   },
   "outputs": [],
   "source": [
    "equation_E1 = lambda E,z: E**2 + E**(2*a)*(-1 + (Om_m0)) - (1 + z)**3*(Om_m0)"
   ]
  },
  {
   "cell_type": "code",
   "execution_count": 10,
   "id": "694a369f-3fd7-4347-9a40-af4e4e1f6b0a",
   "metadata": {
    "tags": []
   },
   "outputs": [
    {
     "name": "stdout",
     "output_type": "stream",
     "text": [
      "70.0\n"
     ]
    }
   ],
   "source": [
    "# Ηfunctionexp1(zs,[0.3,0.7])\n",
    "print(Ηfunction(0,[0.3,0.7,-0.5],equation_E1))"
   ]
  },
  {
   "cell_type": "code",
   "execution_count": 11,
   "id": "37921621-5688-469a-9090-8509ef11168c",
   "metadata": {
    "tags": []
   },
   "outputs": [
    {
     "data": {
      "text/plain": [
       "[<matplotlib.lines.Line2D at 0x22789a755e0>]"
      ]
     },
     "execution_count": 11,
     "metadata": {},
     "output_type": "execute_result"
    },
    {
     "data": {
      "text/plain": [
       "[<matplotlib.lines.Line2D at 0x22789a75820>]"
      ]
     },
     "execution_count": 11,
     "metadata": {},
     "output_type": "execute_result"
    },
    {
     "data": {
      "image/png": "[encoded data removed]",
      "text/plain": [
       "<Figure size 432x288 with 1 Axes>"
      ]
     },
     "metadata": {
      "needs_background": "light"
     },
     "output_type": "display_data"
    }
   ],
   "source": [
    "plt.plot(zs,ΗfunctionLCDM(zs,[0.3,0.7]))\n",
    "plt.plot(zs,Ηfunction(zs,[0.3,0.7,-0.5],equation_E1))"
   ]
  },
  {
   "cell_type": "code",
   "execution_count": 12,
   "id": "869cad73-34ef-4c8e-a314-e5fdf0976cc7",
   "metadata": {
    "tags": []
   },
   "outputs": [
    {
     "data": {
      "text/plain": [
       "array([0.7       , 0.68281644, 0.66548058, 0.64803722, 0.63053068,\n",
       "       0.61300437, 0.5955005 , 0.57805978, 0.56072113, 0.54352144,\n",
       "       0.52649539, 0.50967527, 0.49309086, 0.47676937, 0.46073533,\n",
       "       0.44501063, 0.42961452, 0.41456361, 0.39987201, 0.38555134,\n",
       "       0.37161091, 0.35805778, 0.34489695, 0.33213146, 0.31976254,\n",
       "       0.30778979, 0.29621131, 0.28502383, 0.27422292, 0.26380305,\n",
       "       0.25375778, 0.24407988, 0.23476143, 0.22579397, 0.21716854,\n",
       "       0.20887585, 0.20090633, 0.1932502 , 0.18589756, 0.17883845,\n",
       "       0.17206289, 0.16556097, 0.15932284, 0.15333878, 0.14759924,\n",
       "       0.14209483, 0.13681638, 0.13175493, 0.12690177, 0.12224841,\n",
       "       0.11778666, 0.11350855, 0.1094064 , 0.10547278, 0.10170055,\n",
       "       0.0980828 , 0.09461292, 0.09128452, 0.0880915 , 0.08502797,\n",
       "       0.08208832, 0.07926715, 0.07655929, 0.0739598 , 0.07146395,\n",
       "       0.06906721, 0.06676526, 0.06455396, 0.06242937, 0.06038772,\n",
       "       0.05842539, 0.05653896, 0.05472513, 0.05298078, 0.05130291,\n",
       "       0.04968866, 0.04813532, 0.04664028, 0.04520106, 0.04381529,\n",
       "       0.04248072, 0.04119518, 0.03995663, 0.03876309, 0.03761269,\n",
       "       0.03650366, 0.03543426, 0.03440289, 0.03340798, 0.03244804,\n",
       "       0.03152166, 0.03062747, 0.0297642 , 0.02893059, 0.02812546,\n",
       "       0.0273477 , 0.02659621, 0.02586997, 0.02516799, 0.02448932])"
      ]
     },
     "execution_count": 12,
     "metadata": {},
     "output_type": "execute_result"
    },
    {
     "data": {
      "text/plain": [
       "[<matplotlib.lines.Line2D at 0x22789ada700>]"
      ]
     },
     "execution_count": 12,
     "metadata": {},
     "output_type": "execute_result"
    },
    {
     "data": {
      "text/plain": [
       "[<matplotlib.lines.Line2D at 0x22789adab50>]"
      ]
     },
     "execution_count": 12,
     "metadata": {},
     "output_type": "execute_result"
    },
    {
     "data": {
      "image/png": "[encoded data removed]",
      "text/plain": [
       "<Figure size 432x288 with 1 Axes>"
      ]
     },
     "metadata": {
      "needs_background": "light"
     },
     "output_type": "display_data"
    }
   ],
   "source": [
    "omegam = 0.3\n",
    "h = 0.6\n",
    "a = -0.3\n",
    "def omegalamda(zs,omegam,h):\n",
    "      return 1 - ((100*h)/Ηfunction(zs,[omegam,h,a],equation_E1))**2*omegam*((1+zs)**3)\n",
    "omegalamda(zs,0.3,0.7)\n",
    "plt.plot(zs,omegalamda(zs,0.3,0.7))\n",
    "plt.plot(zs,((omegam)*((1+zs)**3))/((Ηfunction(zs,[omegam,h,a],equation_E1)/(100*h))**2))\n",
    "# intersection point(transition redshift), to the left accelarated, to the right "
   ]
  },
  {
   "cell_type": "markdown",
   "id": "f2b9b5fc-11a2-45c5-af23-d4386604e54a",
   "metadata": {
    "execution": {
     "iopub.execute_input": "2021-10-14T18:21:49.574857Z",
     "iopub.status.busy": "2021-10-14T18:21:49.574857Z",
     "iopub.status.idle": "2021-10-14T18:21:49.591812Z",
     "shell.execute_reply": "2021-10-14T18:21:49.591812Z",
     "shell.execute_reply.started": "2021-10-14T18:21:49.574857Z"
    },
    "tags": []
   },
   "source": [
    "# Model 2"
   ]
  },
  {
   "cell_type": "code",
   "execution_count": 100,
   "id": "6b19ec93-9e5f-4806-8bf4-25dde458ad1e",
   "metadata": {
    "tags": []
   },
   "outputs": [],
   "source": [
    "def Ηfunctionexp1(z,y):\n",
    "    '''\n",
    "    f(Q) = Qexp(lmbd*Q_0/Q)\n",
    "    '''\n",
    "    Om_m0 = y[0]\n",
    "    h = y[1]\n",
    "    T_cmb = 2.7255\n",
    "    Omr = Om_m0/(1. + 2.5e4 * Om_m0 * h**2. * (T_cmb/2.7)**(-4.))\n",
    "    expr = (Om_m0 + Omr)/(-2*np.exp(0.5))\n",
    "    a = (0.5 + special.lambertw(expr,k=0)).real\n",
    "    H_0 = 100*h\n",
    "    T_cmb = 2.7255\n",
    "    Om_r = Om_m0/(1. + 2.5e4 * Om_m0* h**2. * (T_cmb/2.7)**(-4.))\n",
    "    Og_mod = 31500. * (T_cmb/2.7)**(-4.)\n",
    "    Om_l = 1. - Om_m0- Om_r\n",
    "    x0E = (Om_m0*(1.+z)**3. + Om_r*(1.+z)**4. + Om_l)**0.5\n",
    "    equation_E = lambda E: (E**2.- 2*a)* np.exp(a*1./E**2)- Om_m0*(1.+z)**3- Om_r*(1.+z)**4\n",
    "    res = optimize.newton(equation_E, x0E) \n",
    "    return H_0*res"
   ]
  },
  {
   "cell_type": "code",
   "execution_count": 101,
   "id": "cd9228d2-b71d-4380-a284-17fb92861cc0",
   "metadata": {
    "tags": []
   },
   "outputs": [
    {
     "name": "stdout",
     "output_type": "stream",
     "text": [
      "70.0\n"
     ]
    }
   ],
   "source": [
    "# Ηfunctionexp1(zs,[0.3,0.7])\n",
    "print(Ηfunctionexp1(0,[0.3,0.7]))"
   ]
  },
  {
   "cell_type": "code",
   "execution_count": 102,
   "id": "c9ae03a7-f617-4be5-bed3-25e3b027cf2a",
   "metadata": {
    "tags": []
   },
   "outputs": [
    {
     "data": {
      "text/plain": [
       "[<matplotlib.lines.Line2D at 0x7ff97e9588e0>]"
      ]
     },
     "execution_count": 102,
     "metadata": {},
     "output_type": "execute_result"
    },
    {
     "data": {
      "text/plain": [
       "[<matplotlib.lines.Line2D at 0x7ff97e958d30>]"
      ]
     },
     "execution_count": 102,
     "metadata": {},
     "output_type": "execute_result"
    },
    {
     "data": {
      "image/png": "[encoded data removed]",
      "text/plain": [
       "<Figure size 432x288 with 1 Axes>"
      ]
     },
     "metadata": {
      "needs_background": "light"
     },
     "output_type": "display_data"
    }
   ],
   "source": [
    "plt.plot(zs,ΗfunctionLCDM(zs,[0.3,0.7]))\n",
    "plt.plot(zs,Ηfunctionexp1(zs,[0.3,0.7]))"
   ]
  },
  {
   "cell_type": "code",
   "execution_count": 103,
   "id": "bce1de1c-751b-4742-9096-c76a42db3942",
   "metadata": {
    "tags": []
   },
   "outputs": [
    {
     "data": {
      "text/plain": [
       "array([0.7       , 0.68405734, 0.66807352, 0.6520863 , 0.63613173,\n",
       "       0.62024391, 0.60445486, 0.58879437, 0.57328997, 0.55796684,\n",
       "       0.54284783, 0.52795344, 0.51330191, 0.49890922, 0.4847892 ,\n",
       "       0.47095363, 0.45741234, 0.4441733 , 0.43124277, 0.41862538,\n",
       "       0.40632432, 0.39434139, 0.38267717, 0.3713311 , 0.36030164,\n",
       "       0.34958633, 0.33918194, 0.32908453, 0.31928953, 0.30979189,\n",
       "       0.3005861 , 0.29166625, 0.28302616, 0.2746594 , 0.26655933,\n",
       "       0.25871918, 0.25113208, 0.24379109, 0.23668926, 0.22981964,\n",
       "       0.22317532, 0.21674942, 0.21053517, 0.20452587, 0.19871495,\n",
       "       0.19309594, 0.18766252, 0.18240849, 0.17732781, 0.17241459,\n",
       "       0.16766309, 0.16306774, 0.15862312, 0.15432398, 0.1501652 ,\n",
       "       0.14614187, 0.14224919, 0.13848255, 0.13483747, 0.13130964,\n",
       "       0.12789488, 0.12458918, 0.12138864, 0.11828952, 0.11528821,\n",
       "       0.11238123, 0.10956522, 0.10683695, 0.10419331, 0.1016313 ,\n",
       "       0.09914803, 0.09674074, 0.09440673, 0.09214344, 0.08994839,\n",
       "       0.08781919, 0.08575355, 0.08374927, 0.08180421, 0.07991634,\n",
       "       0.07808369, 0.07630435, 0.07457652, 0.07289844, 0.07126842,\n",
       "       0.06968484, 0.06814614, 0.0666508 , 0.06519739, 0.06378451,\n",
       "       0.06241082, 0.06107503, 0.05977589, 0.05851221, 0.05728282,\n",
       "       0.05608662, 0.05492255, 0.05378956, 0.05268666, 0.0516129 ])"
      ]
     },
     "execution_count": 103,
     "metadata": {},
     "output_type": "execute_result"
    },
    {
     "data": {
      "text/plain": [
       "[<matplotlib.lines.Line2D at 0x7ff97e926280>]"
      ]
     },
     "execution_count": 103,
     "metadata": {},
     "output_type": "execute_result"
    },
    {
     "data": {
      "text/plain": [
       "[<matplotlib.lines.Line2D at 0x7ff97e9266d0>]"
      ]
     },
     "execution_count": 103,
     "metadata": {},
     "output_type": "execute_result"
    },
    {
     "data": {
      "image/png": "[encoded data removed]",
      "text/plain": [
       "<Figure size 432x288 with 1 Axes>"
      ]
     },
     "metadata": {
      "needs_background": "light"
     },
     "output_type": "display_data"
    }
   ],
   "source": [
    "# fish plot for LCDM \n",
    "# \\Omega_{\\Lambda} = E**2 -Omega_{m0} (1+z)**3\n",
    "omegam = 0.3\n",
    "h = 0.6\n",
    "def omegalamda(zs,omegam,h):\n",
    "      return 1 - ((100*h)/ΗfunctionLCDM(zs,[omegam,h]))**2*omegam*((1+zs)**3)\n",
    "omegalamda(zs,0.3,0.7)\n",
    "plt.plot(zs,omegalamda(zs,0.3,0.7))\n",
    "plt.plot(zs,((omegam)*((1+zs)**3))/((ΗfunctionLCDM(zs,[omegam,h])/(100*h))**2))\n",
    "# intersection point(transition redshift), to the left accelarated, to the right disaccelerated "
   ]
  },
  {
   "cell_type": "code",
   "execution_count": 104,
   "id": "2f5e2ce2-c0f1-4f0e-95d2-c9cd915bc2d2",
   "metadata": {
    "tags": []
   },
   "outputs": [
    {
     "data": {
      "text/plain": [
       "array([0.7       , 0.6821295 , 0.66405735, 0.64583617, 0.62751906,\n",
       "       0.60915905, 0.59080853, 0.57251874, 0.55433924, 0.53631745,\n",
       "       0.5184982 , 0.50092336, 0.48363152, 0.46665774, 0.45003338,\n",
       "       0.43378596, 0.41793914, 0.40251275, 0.38752285, 0.37298187,\n",
       "       0.3588988 , 0.34527939, 0.33212641, 0.31943988, 0.30721739,\n",
       "       0.29545431, 0.28414412, 0.27327866, 0.26284837, 0.25284256,\n",
       "       0.24324958, 0.23405709, 0.22525219, 0.21682162, 0.20875188,\n",
       "       0.20102937, 0.1936405 , 0.1865718 , 0.17980995, 0.1733419 ,\n",
       "       0.16715487, 0.16123645, 0.15557457, 0.15015759, 0.14497425,\n",
       "       0.14001372, 0.13526561, 0.13071995, 0.12636719, 0.12219821,\n",
       "       0.1182043 , 0.11437714, 0.11070882, 0.1071918 , 0.1038189 ,\n",
       "       0.10058329, 0.09747849, 0.09449834, 0.09163698, 0.08888884,\n",
       "       0.08624865, 0.08371141, 0.08127234, 0.07892694, 0.07667092,\n",
       "       0.07450021, 0.07241096, 0.07039949, 0.06846234, 0.06659618,\n",
       "       0.0647979 , 0.06306451, 0.06139317, 0.05978121, 0.05822606,\n",
       "       0.05672529, 0.0552766 , 0.05387779, 0.05252676, 0.05122154,\n",
       "       0.04996023, 0.04874103, 0.04756221, 0.04642216, 0.04531931,\n",
       "       0.04425217, 0.04321934, 0.04221947, 0.04125126, 0.04031349,\n",
       "       0.03940499, 0.03852463, 0.03767136, 0.03684415, 0.03604202,\n",
       "       0.03526405, 0.03450933, 0.03377702, 0.0330663 , 0.0323764 ])"
      ]
     },
     "execution_count": 104,
     "metadata": {},
     "output_type": "execute_result"
    },
    {
     "data": {
      "text/plain": [
       "[<matplotlib.lines.Line2D at 0x7ff97e8f4490>]"
      ]
     },
     "execution_count": 104,
     "metadata": {},
     "output_type": "execute_result"
    },
    {
     "data": {
      "text/plain": [
       "[<matplotlib.lines.Line2D at 0x7ff97e8f48e0>]"
      ]
     },
     "execution_count": 104,
     "metadata": {},
     "output_type": "execute_result"
    },
    {
     "data": {
      "text/plain": [
       "Text(0.5, 0, '$z$')"
      ]
     },
     "execution_count": 104,
     "metadata": {},
     "output_type": "execute_result"
    },
    {
     "data": {
      "text/plain": [
       "<matplotlib.legend.Legend at 0x7ff97e8f4a60>"
      ]
     },
     "execution_count": 104,
     "metadata": {},
     "output_type": "execute_result"
    },
    {
     "data": {
      "image/png": "[encoded data removed]",
      "text/plain": [
       "<Figure size 432x288 with 1 Axes>"
      ]
     },
     "metadata": {
      "needs_background": "light"
     },
     "output_type": "display_data"
    }
   ],
   "source": [
    "# fish plot for exp1\n",
    "omegam = 0.3\n",
    "h = 0.7\n",
    "def omegalamda(zs,omegam,h):\n",
    "      return 1 - ((100*h)/Ηfunctionexp1(zs,[omegam,h]))**2*omegam*((1+zs)**3)\n",
    "omegalamda(zs,0.3,0.7)\n",
    "plt.plot(zs,omegalamda(zs,omegam,h),label='$\\Omega_{DE}$',color='black')\n",
    "plt.plot(zs,((omegam)*((1+zs)**3))/((Ηfunctionexp1(zs,[omegam,h])/(100*h))**2),label='$\\Omega_{m}$',color='blue')\n",
    "plt.xlabel('$z$')\n",
    "plt.grid()\n",
    "plt.legend()\n",
    "plt.savefig('')\n",
    "# intersection point, to the left accelarated, to the right disaccelerated "
   ]
  },
  {
   "cell_type": "markdown",
   "id": "df267e49-1e3e-451d-866b-1d20aaaec4bd",
   "metadata": {
    "execution": {
     "iopub.execute_input": "2021-10-14T18:21:49.574857Z",
     "iopub.status.busy": "2021-10-14T18:21:49.574857Z",
     "iopub.status.idle": "2021-10-14T18:21:49.591812Z",
     "shell.execute_reply": "2021-10-14T18:21:49.591812Z",
     "shell.execute_reply.started": "2021-10-14T18:21:49.574857Z"
    },
    "tags": []
   },
   "source": [
    "# Model 3"
   ]
  },
  {
   "cell_type": "code",
   "execution_count": 105,
   "id": "87944e9c-ab88-42b5-a119-6863e0a01b8d",
   "metadata": {
    "tags": []
   },
   "outputs": [],
   "source": [
    "equation_E3 = lambda E,z: E**2 - (1 + z)**3*(Om_m0) - E**2*(1 + np.exp(1)**((E**2*(-1 + 2*special.lambertw((np.sqrt(np.exp(1))*(Om_m0))/2).real))/2)*(-1 + E**2 - 2*E**2*special.lambertw((np.sqrt(np.exp(1))*(Om_m0))/2).real))"
   ]
  },
  {
   "cell_type": "code",
   "execution_count": 106,
   "id": "87a9db70-39fb-454d-815a-6a4b20e0ca23",
   "metadata": {
    "tags": []
   },
   "outputs": [
    {
     "name": "stdout",
     "output_type": "stream",
     "text": [
      "70.0\n"
     ]
    }
   ],
   "source": [
    "# Ηfunctionexp1(zs,[0.3,0.7])\n",
    "print(Ηfunction(0,[0.3,0.7,-0.5],equation_E3))"
   ]
  },
  {
   "cell_type": "code",
   "execution_count": 107,
   "id": "547fac91-dd88-4438-bc62-148c5c45d275",
   "metadata": {
    "tags": []
   },
   "outputs": [
    {
     "data": {
      "text/plain": [
       "[<matplotlib.lines.Line2D at 0x7ff97e81b220>]"
      ]
     },
     "execution_count": 107,
     "metadata": {},
     "output_type": "execute_result"
    },
    {
     "name": "stderr",
     "output_type": "stream",
     "text": [
      "/home/fotis/miniconda3/lib/python3.8/site-packages/scipy/optimize/zeros.py:445: RuntimeWarning: RMS of 124.862 reached\n",
      "  warnings.warn(\n"
     ]
    },
    {
     "data": {
      "text/plain": [
       "[<matplotlib.lines.Line2D at 0x7ff97e81b490>]"
      ]
     },
     "execution_count": 107,
     "metadata": {},
     "output_type": "execute_result"
    },
    {
     "data": {
      "image/png": "[encoded data removed]",
      "text/plain": [
       "<Figure size 432x288 with 1 Axes>"
      ]
     },
     "metadata": {
      "needs_background": "light"
     },
     "output_type": "display_data"
    }
   ],
   "source": [
    "plt.plot(zs,ΗfunctionLCDM(zs,[0.3,0.7]))\n",
    "plt.plot(zs,Ηfunction(zs,[0.3,0.7,-0.5],equation_E3))"
   ]
  },
  {
   "cell_type": "code",
   "execution_count": 77,
   "id": "e770f987-6e21-48ee-a31f-ee47bcaba7b9",
   "metadata": {
    "tags": []
   },
   "outputs": [
    {
     "name": "stderr",
     "output_type": "stream",
     "text": [
      "/home/fotis/miniconda3/lib/python3.8/site-packages/scipy/optimize/zeros.py:445: RuntimeWarning: RMS of 152.282 reached\n",
      "  warnings.warn(\n"
     ]
    },
    {
     "data": {
      "text/plain": [
       "array([1.        , 1.        , 1.        , 1.        , 1.        ,\n",
       "       1.        , 1.        , 1.        , 1.        , 1.        ,\n",
       "       1.        , 1.        , 0.9998484 , 0.99994663, 0.99999962,\n",
       "       0.99985173, 1.        , 1.        , 1.        , 0.94019419,\n",
       "       0.92892854, 0.91592556, 0.90087163, 0.88334774, 0.86276872,\n",
       "       0.83826756, 0.80844796, 0.77075256, 0.71928051, 0.62840636,\n",
       "       0.99929357, 1.        , 1.        , 1.        , 1.        ,\n",
       "       1.        , 1.        , 1.        , 1.        , 1.        ,\n",
       "       1.        , 1.        , 1.        , 1.        , 1.        ,\n",
       "       1.        , 1.        , 0.9999492 , 1.        , 1.        ,\n",
       "       1.        , 1.        , 1.        , 1.        , 1.        ,\n",
       "       1.        , 0.99987109, 1.        , 1.        , 1.        ,\n",
       "       0.99988676, 1.        , 1.        , 1.        , 1.        ,\n",
       "       1.        , 1.        , 1.        , 1.        , 1.        ,\n",
       "       1.        , 1.        , 1.        , 1.        , 1.        ,\n",
       "       1.        , 1.        , 1.        , 1.        , 1.        ,\n",
       "       1.        , 1.        , 1.        , 1.        , 1.        ,\n",
       "       0.99790577, 1.        , 1.        , 1.        , 1.        ,\n",
       "       1.        , 1.        , 1.        , 1.        , 1.        ,\n",
       "       1.        , 0.99663227, 1.        , 1.        , 1.        ])"
      ]
     },
     "execution_count": 77,
     "metadata": {},
     "output_type": "execute_result"
    },
    {
     "data": {
      "text/plain": [
       "[<matplotlib.lines.Line2D at 0x7ff97edd01c0>]"
      ]
     },
     "execution_count": 77,
     "metadata": {},
     "output_type": "execute_result"
    },
    {
     "name": "stderr",
     "output_type": "stream",
     "text": [
      "/home/fotis/miniconda3/lib/python3.8/site-packages/scipy/optimize/zeros.py:445: RuntimeWarning: RMS of 152.282 reached\n",
      "  warnings.warn(\n"
     ]
    },
    {
     "data": {
      "text/plain": [
       "[<matplotlib.lines.Line2D at 0x7ff97edd0550>]"
      ]
     },
     "execution_count": 77,
     "metadata": {},
     "output_type": "execute_result"
    },
    {
     "data": {
      "image/png": "[encoded data removed]",
      "text/plain": [
       "<Figure size 432x288 with 1 Axes>"
      ]
     },
     "metadata": {
      "needs_background": "light"
     },
     "output_type": "display_data"
    }
   ],
   "source": [
    "# fish plot for Ηfunction\n",
    "def omegalamda(zs,omegam,h):\n",
    "      return 1 - ((100*h)/Ηfunction(zs,[omegam,h,1,-0.5],equation_E3))**2*omegam*((1+zs)**3)\n",
    "omegalamda(zs,0.3,0.7)\n",
    "plt.plot(zs,omegalamda(zs,0.3,0.7))\n",
    "plt.plot(zs,((omegam)*((1+zs)**3))/((Ηfunction(zs,[omegam,h,-0.5],equation_E3)/(100*h))**2))\n",
    "# intersection point, to the left accelarated, to the right disaccelerated "
   ]
  },
  {
   "cell_type": "markdown",
   "id": "2097b89f-baf5-47f2-b04f-cc1ad60fec50",
   "metadata": {
    "tags": []
   },
   "source": [
    "# Model 4"
   ]
  },
  {
   "cell_type": "code",
   "execution_count": 11,
   "id": "1e7e77f5-d020-4706-b241-23b91c4557f4",
   "metadata": {
    "tags": []
   },
   "outputs": [],
   "source": [
    "equation_E4 = lambda E,z: E**2 - (100**(2.7755575615628914*(10**-17)*np.exp(1)**(a - special.lambertw((np.exp(1)**(-1/2 + a)*(-1 + (Om_m0)))/2).real))*\n",
    "    h**(np.exp(1)**(a - special.lambertw((np.exp(1)**(-1/2 + a)*(-1 + (Om_m0)))/2).real)*(-0.18201499873448362 + \n",
    "       0.6065306597126335*(Om_m0)))*\n",
    "    (h*E)**(2*a + np.exp(1)**(a - special.lambertw((np.exp(1)**(-1/2 + a)*(-1 + (Om_m0)))/2).real)*\n",
    "       (0.18201499873448365 - 0.6065306597126335*(Om_m0)))*\n",
    "    (np.exp(1)**(((-1 + E**2)*(1 - 2*a + 2*special.lambertw((np.exp(1)**(-1/2 + a)*(-1 + (Om_m0)))/2).real))/2)*\n",
    "      (-0.3000919999999996 + 0.9999999999999998*E**2) + \n",
    "     np.exp(1)**((E**2*(1 - 2*a + 2*special.lambertw((np.exp(1)**(-1/2 + a)*(-1 + (Om_m0)))/2).real))/2)*\n",
    "      (0.9999999999999998 - 1.9999999999999996*a - 0.9999999999999998*E**2 + \n",
    "       1.9999999999999996*a*E**2)) + \n",
    "   (100**(2.7755575615628914*(10**-17)*np.exp(1)**(a - special.lambertw((np.exp(1)**(-1/2 + a)*(-1 + (Om_m0)))/2).real))*\n",
    "      np.exp(1)**(((-1 + E**2)*(1 - 2*a + 2*special.lambertw((np.exp(1)**(-1/2 + a)*(-1 + (Om_m0)))/2).real))/2)*\n",
    "      h**(np.exp(1)**(a - special.lambertw((np.exp(1)**(-1/2 + a)*(-1 + (Om_m0)))/2).real)*(-0.18201499873448362 + \n",
    "         0.6065306597126335*(Om_m0)))*\n",
    "      (h*E)**(2*a + np.exp(1)**(a - special.lambertw((np.exp(1)**(-1/2 + a)*(-1 + (Om_m0)))/2).real)*\n",
    "         (0.18201499873448365 - 0.6065306597126335*(Om_m0)))*(0.9999999999999998 - \n",
    "       0.9999999999999998*E**2) + 1.*h**(2*a)*(1. + 1.*z)**3)*(Om_m0))/h**(2*a)\n",
    "# fix friedmann"
   ]
  },
  {
   "cell_type": "code",
   "execution_count": 12,
   "id": "fd42c448-ded1-4b0f-9c50-29a4c61d8928",
   "metadata": {
    "tags": []
   },
   "outputs": [
    {
     "name": "stdout",
     "output_type": "stream",
     "text": [
      "69.99932012446848\n"
     ]
    }
   ],
   "source": [
    "# Ηfunctionexp1(zs,[0.3,0.7])\n",
    "print(Ηfunction(0,[0.3,0.7,-0.5],equation_E4))"
   ]
  },
  {
   "cell_type": "code",
   "execution_count": 13,
   "id": "08d31e78-4141-4367-a7c8-bb0dd5499b31",
   "metadata": {
    "tags": []
   },
   "outputs": [
    {
     "data": {
      "text/plain": [
       "[<matplotlib.lines.Line2D at 0x2530f3eeac0>]"
      ]
     },
     "execution_count": 13,
     "metadata": {},
     "output_type": "execute_result"
    },
    {
     "data": {
      "text/plain": [
       "[<matplotlib.lines.Line2D at 0x2530f3eeee0>]"
      ]
     },
     "execution_count": 13,
     "metadata": {},
     "output_type": "execute_result"
    },
    {
     "data": {
      "image/png": "[encoded data removed]",
      "text/plain": [
       "<Figure size 432x288 with 1 Axes>"
      ]
     },
     "metadata": {
      "needs_background": "light"
     },
     "output_type": "display_data"
    }
   ],
   "source": [
    "plt.plot(zs,ΗfunctionLCDM(zs,[0.3,0.7]))\n",
    "plt.plot(zs,Ηfunction(zs,[0.3,0.7,1],equation_E4))"
   ]
  },
  {
   "cell_type": "code",
   "execution_count": 14,
   "id": "f544dc87-0470-4ab1-b91c-63d01032970f",
   "metadata": {
    "tags": []
   },
   "outputs": [
    {
     "data": {
      "text/plain": [
       "array([0.69995839, 0.68759196, 0.67540178, 0.66340118, 0.65160086,\n",
       "       0.64000905, 0.62863173, 0.61747288, 0.60653468, 0.59581768,\n",
       "       0.58532105, 0.57504274, 0.56497966, 0.55512786, 0.54548264,\n",
       "       0.53603872, 0.52679034, 0.51773139, 0.50885551, 0.50015614,\n",
       "       0.49162664, 0.48326033, 0.47505057, 0.46699077, 0.45907449,\n",
       "       0.45129541, 0.44364741, 0.43612457, 0.42872118, 0.42143177,\n",
       "       0.41425113, 0.40717428, 0.40019652, 0.39331339, 0.3865207 ,\n",
       "       0.37981451, 0.37319114, 0.36664713, 0.3601793 , 0.35378469,\n",
       "       0.34746054, 0.34120434, 0.33501379, 0.32888678, 0.32282139,\n",
       "       0.31681589, 0.31086873, 0.30497852, 0.29914403, 0.29336417,\n",
       "       0.28763802, 0.28196475, 0.27634369, 0.27077428, 0.26525606,\n",
       "       0.25978868, 0.25437189, 0.24900553, 0.24368951, 0.23842383,\n",
       "       0.23320856, 0.22804384, 0.22292986, 0.21786688, 0.2128552 ,\n",
       "       0.20789517, 0.20298719, 0.19813168, 0.19332911, 0.18857997,\n",
       "       0.18388479, 0.1792441 , 0.17465848, 0.17012849, 0.16565473,\n",
       "       0.16123781, 0.15687832, 0.15257688, 0.1483341 , 0.14415059,\n",
       "       0.14002696, 0.1359638 , 0.13196171, 0.12802126, 0.12414302,\n",
       "       0.12032754, 0.11657534, 0.11288693, 0.1092628 , 0.10570341,\n",
       "       0.1022092 , 0.09878056, 0.09541788, 0.09212149, 0.08889171,\n",
       "       0.08572881, 0.08263301, 0.07960453, 0.0766435 , 0.07375006])"
      ]
     },
     "execution_count": 14,
     "metadata": {},
     "output_type": "execute_result"
    },
    {
     "data": {
      "text/plain": [
       "[<matplotlib.lines.Line2D at 0x2530f4606d0>]"
      ]
     },
     "execution_count": 14,
     "metadata": {},
     "output_type": "execute_result"
    },
    {
     "data": {
      "text/plain": [
       "[<matplotlib.lines.Line2D at 0x2530f460b20>]"
      ]
     },
     "execution_count": 14,
     "metadata": {},
     "output_type": "execute_result"
    },
    {
     "data": {
      "image/png": "[encoded data removed]",
      "text/plain": [
       "<Figure size 432x288 with 1 Axes>"
      ]
     },
     "metadata": {
      "needs_background": "light"
     },
     "output_type": "display_data"
    }
   ],
   "source": [
    "# fish plot for Ηfunction\n",
    "n = 0.25\n",
    "h = 0.68\n",
    "omegam = 0.3\n",
    "def omegalamda(zs,omegam,h):\n",
    "      return 1 - (((100*h)/Ηfunction(zs,[omegam,h,n],equation_E4))**2)*omegam*((1+zs)**3)\n",
    "omegalamda(zs,omegam,h)\n",
    "plt.plot(zs,omegalamda(zs,omegam,h))\n",
    "plt.plot(zs,((omegam)*((1+zs)**3))/((Ηfunction(zs,[omegam,h,n],equation_E4)/(100*h))**2))\n",
    "# intersection point, to the left accelarated, to the right disaccelerated "
   ]
  },
  {
   "cell_type": "code",
   "execution_count": 15,
   "id": "8b60590a",
   "metadata": {},
   "outputs": [
    {
     "name": "stderr",
     "output_type": "stream",
     "text": [
      "C:\\Users\\Viktor G\\.conda\\envs\\jupyterlab\\lib\\site-packages\\scipy\\optimize\\zeros.py:459: RuntimeWarning: some failed to converge after 50 iterations\n",
      "  warnings.warn(msg, RuntimeWarning)\n",
      "C:\\Users\\VIKTOR~1\\AppData\\Local\\Temp/ipykernel_6132/2047795963.py:4: RuntimeWarning: invalid value encountered in power\n",
      "  (h*E)**(2*a + np.exp(1)**(a - special.lambertw((np.exp(1)**(-1/2 + a)*(-1 + (Om_m0)))/2).real)*\n",
      "C:\\Users\\VIKTOR~1\\AppData\\Local\\Temp/ipykernel_6132/2047795963.py:15: RuntimeWarning: invalid value encountered in power\n",
      "  (h*E)**(2*a + np.exp(1)**(a - special.lambertw((np.exp(1)**(-1/2 + a)*(-1 + (Om_m0)))/2).real)*\n"
     ]
    },
    {
     "name": "stdout",
     "output_type": "stream",
     "text": [
      "[-10.0, -9.97997997997998, -9.95995995995996, -9.93993993993994, -9.91991991991992, -9.8998998998999, -9.87987987987988, -9.85985985985986, -9.83983983983984, -9.81981981981982, -9.7997997997998, -9.77977977977978, -9.75975975975976, -9.73973973973974, -9.71971971971972, -9.6996996996997, -9.67967967967968, -9.65965965965966, -9.63963963963964, -9.61961961961962, -9.5995995995996, -9.57957957957958, -9.55955955955956, -9.53953953953954, -9.51951951951952, -9.4994994994995, -9.47947947947948, -9.45945945945946, -9.43943943943944, -9.41941941941942, -9.3993993993994, -9.37937937937938, -9.35935935935936, -9.33933933933934, -9.31931931931932, -9.2992992992993, -9.27927927927928, -9.25925925925926, -9.23923923923924, -9.21921921921922, -9.1991991991992, -9.17917917917918, -9.15915915915916, -9.13913913913914, -9.11911911911912, -9.0990990990991, -9.07907907907908, -9.05905905905906, -9.03903903903904, -9.01901901901902, -8.998998998999, -8.97897897897898, -8.95895895895896, -8.93893893893894, -8.91891891891892, -8.8988988988989, -8.87887887887888, -8.85885885885886, -8.83883883883884, -8.81881881881882, -8.7987987987988, -8.77877877877878, -8.75875875875876, -8.73873873873874, -8.71871871871872, -8.6986986986987, -8.67867867867868, -8.65865865865866, -8.63863863863864, -8.618618618618619, -8.598598598598599, -8.578578578578579, -8.558558558558559, -8.538538538538539, -8.518518518518519, -8.498498498498499, -8.478478478478479, -8.458458458458459, -8.438438438438439, -8.418418418418419, -8.398398398398399, -8.378378378378379, -8.358358358358359, -8.338338338338339, -8.318318318318319, -8.298298298298299, -8.278278278278279, -8.258258258258259, -8.238238238238239, -8.218218218218219, -8.198198198198199, -8.178178178178179, -8.158158158158159, -8.138138138138139, -8.118118118118119, -8.098098098098099, -8.078078078078079, -8.058058058058059, -8.038038038038039, -8.018018018018019, -7.997997997997998, -7.977977977977978, -7.957957957957958, -7.937937937937938, -7.917917917917918, -7.897897897897898, -7.877877877877878, -7.857857857857858, -7.837837837837838, -7.817817817817818, -7.797797797797798, -7.777777777777778, -7.757757757757758, -7.737737737737738, -7.717717717717718, -7.697697697697698, -7.677677677677678, -7.657657657657658, -7.637637637637638, -7.617617617617618, -7.597597597597598, -7.5775775775775776, -7.5575575575575575, -7.5375375375375375, -7.5175175175175175, -7.4974974974974975, -7.4774774774774775, -7.4574574574574575, -7.4374374374374375, -7.4174174174174174, -7.397397397397397, -7.377377377377377, -7.357357357357357, -7.337337337337337, -7.317317317317317, -7.297297297297297, -7.277277277277277, -7.257257257257257, -7.237237237237237, -7.217217217217217, -7.197197197197197, -7.177177177177177, -7.157157157157157, -7.137137137137137, -7.117117117117117, -7.097097097097097, -7.077077077077077, -7.057057057057057, -7.037037037037037, -7.017017017017017, -6.996996996996997, -6.976976976976977, -6.956956956956957, -6.936936936936937, -6.916916916916917, -6.896896896896897, -6.876876876876877, -6.856856856856857, -6.836836836836837, -6.816816816816817, -6.796796796796797, -6.776776776776776, -6.756756756756756, -6.736736736736736, -6.716716716716716, -6.696696696696696, -6.676676676676676, -6.656656656656656, -6.636636636636636, -6.616616616616616, -6.596596596596596, -6.576576576576576, -6.556556556556556, -6.536536536536536, -6.516516516516516, -6.496496496496496, -6.476476476476476, -6.456456456456456, -6.436436436436436, -6.416416416416416, -6.396396396396396, -6.376376376376376, -6.356356356356356, -6.336336336336336, -6.316316316316316, -6.296296296296296, -6.276276276276276, -6.256256256256256, -6.236236236236236, -6.216216216216216, -6.196196196196196, -6.176176176176176, -6.156156156156156, -6.136136136136136, -6.116116116116116, -6.096096096096096, -6.076076076076076, -6.056056056056056, -6.036036036036036, -6.016016016016016, -5.995995995995996, -5.975975975975976, -5.955955955955956, -5.935935935935936, -5.915915915915916, -5.895895895895896, -5.875875875875876, -5.8558558558558556, -5.8358358358358355, -5.8158158158158155, -5.7957957957957955, -5.7757757757757755, -5.7557557557557555, -5.7357357357357355, -5.7157157157157155, -5.6956956956956954, -5.675675675675675, -5.655655655655655, -5.635635635635635, -5.615615615615615, -5.595595595595595, -5.575575575575575, -5.555555555555555, -5.535535535535535, -5.515515515515515, -5.495495495495495, -5.475475475475475, -5.455455455455455, -5.435435435435435, -5.415415415415415, -5.395395395395395, -5.375375375375375, -5.355355355355355, -5.335335335335335, -5.315315315315315, -5.295295295295295, -5.275275275275275, -5.255255255255255, -5.235235235235235, -5.215215215215215, -5.195195195195195, -5.175175175175175, -5.155155155155155, -5.135135135135135, -5.115115115115115, -5.095095095095095, -5.075075075075075, -5.055055055055055, -5.035035035035035, -5.015015015015015, -4.994994994994995, -4.974974974974975, -4.954954954954955, -4.934934934934935, -4.914914914914915, -4.894894894894895, -4.874874874874875, -4.854854854854855, -4.834834834834835, -4.814814814814815, -4.794794794794795, -4.774774774774775, -4.754754754754755, -4.734734734734735, -4.714714714714715, -4.694694694694695, -4.674674674674675, -4.654654654654655, -4.634634634634635, -4.614614614614615, -4.594594594594595, -4.574574574574575, -4.554554554554555, -4.534534534534535, -4.514514514514515, -4.494494494494495, -4.474474474474475, -4.454454454454455, -4.434434434434435, -4.414414414414415, -4.394394394394395, -4.374374374374375, -4.354354354354355, -4.334334334334335, -4.314314314314315, -4.2942942942942945, -4.2742742742742745, -4.2542542542542545, -4.2342342342342345, -4.2142142142142145, -4.1941941941941945, -4.1741741741741745, -4.1541541541541545, -4.134134134134134, -4.114114114114114, -4.094094094094094, -4.074074074074074, -4.054054054054054, -4.034034034034034, -4.014014014014014, -3.9939939939939944, -3.9739739739739743, -3.9539539539539543, -3.9339339339339343, -3.9139139139139143, -3.8938938938938943, -3.8738738738738743, -3.8538538538538543, -3.8338338338338342, -3.8138138138138142, -3.7937937937937942, -3.773773773773774, -3.753753753753754, -3.733733733733734, -3.713713713713714, -3.693693693693694, -3.673673673673674, -3.653653653653654, -3.633633633633634, -3.613613613613614, -3.593593593593594, -3.573573573573573, -3.553553553553553, -3.533533533533533, -3.513513513513513, -3.493493493493493, -3.473473473473473, -3.453453453453453, -3.433433433433433, -3.413413413413413, -3.393393393393393, -3.373373373373373, -3.353353353353353, -3.333333333333333, -3.313313313313313, -3.293293293293293, -3.273273273273273, -3.253253253253253, -3.233233233233233, -3.213213213213213, -3.193193193193193, -3.173173173173173, -3.153153153153153, -3.133133133133133, -3.113113113113113, -3.093093093093093, -3.073073073073073, -3.053053053053053, -3.033033033033033, -3.013013013013013, -2.992992992992993, -2.972972972972973, -2.952952952952953, -2.932932932932933, -2.9129129129129128, -2.8928928928928928, -2.8728728728728727, -2.8528528528528527, -2.8328328328328327, -2.8128128128128127, -2.7927927927927927, -2.7727727727727727, -2.7527527527527527, -2.7327327327327327, -2.7127127127127126, -2.6926926926926926, -2.6726726726726726, -2.6526526526526526, -2.6326326326326326, -2.6126126126126126, -2.5925925925925926, -2.5725725725725725, -2.5525525525525525, -2.5325325325325325, -2.5125125125125125, -2.4924924924924925, -2.4724724724724725, -2.4524524524524525, -2.4324324324324325, -2.4124124124124124, -2.3923923923923924, -2.3723723723723724, -2.3523523523523524, -2.3323323323323324, -2.3123123123123124, -2.2922922922922924, -2.2722722722722724, -2.2522522522522523, -2.2322322322322323, -2.2122122122122123, -2.1921921921921923, -2.1721721721721723, -2.1521521521521523, -2.1321321321321323, -2.1121121121121122, -2.0920920920920922, -2.0720720720720722, -2.052052052052052, -2.032032032032032, -2.012012012012012, -1.9919919919919913, -1.9719719719719713, -1.9519519519519513, -1.9319319319319312, -1.9119119119119112, -1.8918918918918912, -1.8718718718718712, -1.8518518518518512, -1.8318318318318312, -1.8118118118118112, -1.7917917917917912, -1.7717717717717711, -1.7517517517517511, -1.7317317317317311, -1.711711711711711, -1.691691691691691, -1.671671671671671, -1.651651651651651, -1.631631631631631, -1.611611611611611, -1.591591591591591, -1.571571571571571, -1.551551551551551, -1.531531531531531, -1.511511511511511, -1.491491491491491, -1.471471471471471, -1.451451451451451, -1.431431431431431, -1.411411411411411, -1.391391391391391, -1.3713713713713709, -1.3513513513513509, -1.3313313313313309, -1.3113113113113108, -1.2912912912912908, -1.2712712712712708, -1.2512512512512508, -1.2312312312312308, -1.2112112112112108, -1.1911911911911908, -1.1711711711711708, -1.1511511511511507, -1.1311311311311307, -1.1111111111111107, -1.0910910910910907, -1.0710710710710707, -1.0510510510510507, -1.0310310310310307, -1.0110110110110107, -0.9909909909909906, -0.9709709709709706, -0.9509509509509506, -0.9309309309309306, -0.9109109109109106, -0.8908908908908906, -0.8708708708708706, -0.8508508508508505, -0.8308308308308305, -0.8108108108108105, -0.7907907907907905, -0.7707707707707705, -0.7507507507507505, -0.7307307307307305, -0.7107107107107105, -0.6906906906906904, -0.6706706706706704, -0.6506506506506504, -0.6306306306306304, -0.6106106106106104, -0.5905905905905904, -0.5705705705705704, -0.5505505505505504, -0.5305305305305303, -0.5105105105105103, -0.4904904904904903, -0.4704704704704703, -0.4504504504504503, -0.4304304304304303, -0.41041041041041026, -0.39039039039039025, -0.37037037037037024, -0.3503503503503502, -0.3303303303303302, -0.3103103103103102, -0.2902902902902902, -0.2702702702702702, -0.25025025025025016, -0.23023023023023015, -0.21021021021021014, -0.19019019019019012, -0.1701701701701701, -0.1501501501501501, -0.13013013013013008, -0.11011011011011007, -0.09009009009009006, -0.07007007007007005, -0.05005005005005003, -0.03003003003003002, -0.010010010010010006, 0.010010010010010006, 0.03003003003003002, 0.05005005005005003, 0.07007007007007005, 0.09009009009009006, 0.11011011011011007, 0.13013013013013008, 0.1501501501501501, 0.1701701701701701, 0.19019019019019012, 0.21021021021021014, 0.23023023023023015, 0.25025025025025016, 0.2702702702702702, 0.2902902902902902, 0.3103103103103102, 0.3303303303303302, 0.3503503503503502, 0.37037037037037024, 0.39039039039039025, 0.41041041041041026, 0.4304304304304303, 0.4504504504504503, 0.4704704704704703, 0.4904904904904903, 0.5105105105105103, 0.5305305305305303, 0.5505505505505504, 0.5705705705705704, 0.5905905905905904, 0.6106106106106104, 0.6306306306306304, 0.6506506506506504, 0.6706706706706704, 0.6906906906906904, 0.7107107107107105, 0.7307307307307305, 0.7507507507507505, 0.7707707707707705, 0.7907907907907905, 0.8108108108108105, 0.8308308308308305, 0.8508508508508505, 0.8708708708708706, 0.8908908908908906, 0.9109109109109106, 0.9309309309309306, 0.9509509509509506, 0.9709709709709706, 0.9909909909909906, 1.0110110110110107, 1.0310310310310307, 1.0510510510510507, 1.0710710710710707, 1.0910910910910907, 1.1111111111111107, 1.1311311311311307, 1.1911911911911908]\n"
     ]
    }
   ],
   "source": [
    "def omegalamda(n, zs = zs,omegam = 0.3,h = 0.68):\n",
    "      return 1 - (((100*h)/Ηfunction(zs,[omegam,h,n],equation_E4))**2)*omegam*((1+zs)**3)\n",
    "ns = np.linspace(-10.0,10.0,1000)\n",
    "nvalid = []\n",
    "for n in ns:\n",
    "    if 0<=omegalamda(n).all()<=1 and np.isnan(omegalamda(n)).all() == False and np.isfinite(omegalamda(n)).all() == True:\n",
    "        nvalid.append(n)\n",
    "print(nvalid)"
   ]
  },
  {
   "cell_type": "markdown",
   "id": "d6e74098-52d9-4493-ab76-bb365a962c04",
   "metadata": {
    "execution": {
     "iopub.execute_input": "2021-10-14T18:21:49.574857Z",
     "iopub.status.busy": "2021-10-14T18:21:49.574857Z",
     "iopub.status.idle": "2021-10-14T18:21:49.591812Z",
     "shell.execute_reply": "2021-10-14T18:21:49.591812Z",
     "shell.execute_reply.started": "2021-10-14T18:21:49.574857Z"
    },
    "tags": []
   },
   "source": [
    "# Model 5"
   ]
  },
  {
   "cell_type": "code",
   "execution_count": 82,
   "id": "ff48219d-cf42-41e8-b002-8705e5aef029",
   "metadata": {
    "tags": []
   },
   "outputs": [],
   "source": [
    "equation_E5 = lambda E,z: -E + E**2 - (-E + (1 + z)**3)*(Om_m0)"
   ]
  },
  {
   "cell_type": "code",
   "execution_count": 83,
   "id": "e0593366-ae39-47a9-8710-8170f26c791c",
   "metadata": {
    "tags": []
   },
   "outputs": [
    {
     "name": "stdout",
     "output_type": "stream",
     "text": [
      "70.0\n"
     ]
    }
   ],
   "source": [
    "# Ηfunctionexp1(zs,[0.3,0.7])\n",
    "print(Ηfunction(0,[0.3,0.7,-0.5],equation_E5))"
   ]
  },
  {
   "cell_type": "code",
   "execution_count": 84,
   "id": "3c6aa4fc-9bc0-429f-89ad-4cbd80ffe32d",
   "metadata": {
    "tags": []
   },
   "outputs": [
    {
     "data": {
      "text/plain": [
       "[<matplotlib.lines.Line2D at 0x7ff97ecfefa0>]"
      ]
     },
     "execution_count": 84,
     "metadata": {},
     "output_type": "execute_result"
    },
    {
     "data": {
      "text/plain": [
       "[<matplotlib.lines.Line2D at 0x7ff97ec99220>]"
      ]
     },
     "execution_count": 84,
     "metadata": {},
     "output_type": "execute_result"
    },
    {
     "data": {
      "image/png": "[encoded data removed]",
      "text/plain": [
       "<Figure size 432x288 with 1 Axes>"
      ]
     },
     "metadata": {
      "needs_background": "light"
     },
     "output_type": "display_data"
    }
   ],
   "source": [
    "plt.plot(zs,ΗfunctionLCDM(zs,[0.3,0.7]))\n",
    "plt.plot(zs,Ηfunction(zs,[0.3,0.7,1],equation_E5))"
   ]
  },
  {
   "cell_type": "code",
   "execution_count": 85,
   "id": "b3cdadf1-1dc2-4b2e-bcc6-9a7f7bfb1590",
   "metadata": {
    "tags": []
   },
   "outputs": [
    {
     "data": {
      "text/plain": [
       "array([1.        , 0.99997295, 0.99978367, 0.99927062, 0.99827454,\n",
       "       0.99664099, 0.99422375, 0.99088896, 0.98651953, 0.98101955,\n",
       "       0.97431821, 0.96637277, 0.95717022, 0.94672742, 0.9350896 ,\n",
       "       0.92232742, 0.90853289, 0.89381449, 0.87829201, 0.86209145,\n",
       "       0.84534038, 0.82816396, 0.81068173, 0.79300524, 0.77523647,\n",
       "       0.75746688, 0.73977709, 0.72223697, 0.70490605, 0.68783423,\n",
       "       0.67106248, 0.65462381, 0.63854405, 0.62284279, 0.60753415,\n",
       "       0.5926276 , 0.57812858, 0.56403919, 0.5503587 , 0.53708409,\n",
       "       0.52421039, 0.51173116, 0.49963869, 0.48792437, 0.47657884,\n",
       "       0.46559225, 0.45495436, 0.44465471, 0.43468275, 0.42502787,\n",
       "       0.41567956, 0.40662738, 0.39786109, 0.38937062, 0.38114616,\n",
       "       0.37317812, 0.36545722, 0.35797444, 0.35072104, 0.34368858,\n",
       "       0.33686893, 0.33025422, 0.3238369 , 0.31760969, 0.31156558,\n",
       "       0.30569783, 0.3       , 0.29446586, 0.28908945, 0.28386506,\n",
       "       0.27878718, 0.27385055, 0.26905012, 0.26438104, 0.25983865,\n",
       "       0.25541851, 0.25111632, 0.24692798, 0.24284956, 0.23887728,\n",
       "       0.23500751, 0.23123678, 0.22756174, 0.2239792 , 0.22048607,\n",
       "       0.2170794 , 0.21375636, 0.21051421, 0.20735035, 0.20426225,\n",
       "       0.2012475 , 0.19830377, 0.19542883, 0.19262053, 0.1898768 ,\n",
       "       0.18719565, 0.18457516, 0.1820135 , 0.17950889, 0.17705962])"
      ]
     },
     "execution_count": 85,
     "metadata": {},
     "output_type": "execute_result"
    },
    {
     "data": {
      "text/plain": [
       "[<matplotlib.lines.Line2D at 0x7ff97ec7a5e0>]"
      ]
     },
     "execution_count": 85,
     "metadata": {},
     "output_type": "execute_result"
    },
    {
     "data": {
      "text/plain": [
       "[<matplotlib.lines.Line2D at 0x7ff97ec7a970>]"
      ]
     },
     "execution_count": 85,
     "metadata": {},
     "output_type": "execute_result"
    },
    {
     "data": {
      "image/png": "[encoded data removed]",
      "text/plain": [
       "<Figure size 432x288 with 1 Axes>"
      ]
     },
     "metadata": {
      "needs_background": "light"
     },
     "output_type": "display_data"
    }
   ],
   "source": [
    "# fish plot for Ηfunction\n",
    "def omegalamda(zs,omegam,h):\n",
    "      return 1 - ((100*h)/Ηfunction(zs,[omegam,h,2],equation_E5))**2*omegam*((1+zs)**3)\n",
    "omegalamda(zs,0.3,0.7)\n",
    "plt.plot(zs,omegalamda(zs,0.3,0.7))\n",
    "plt.plot(zs,((omegam)*((1+zs)**3))/((Ηfunction(zs,[omegam,h,1],equation_E5)/(100*h))**2))\n",
    "# intersection point, to the left accelarated, to the right disaccelerated "
   ]
  },
  {
   "cell_type": "markdown",
   "id": "cbf6bed7-abf4-4ca3-8747-efd1fdc6e987",
   "metadata": {
    "execution": {
     "iopub.execute_input": "2021-10-14T18:21:49.574857Z",
     "iopub.status.busy": "2021-10-14T18:21:49.574857Z",
     "iopub.status.idle": "2021-10-14T18:21:49.591812Z",
     "shell.execute_reply": "2021-10-14T18:21:49.591812Z",
     "shell.execute_reply.started": "2021-10-14T18:21:49.574857Z"
    },
    "tags": []
   },
   "source": [
    "# Model 6"
   ]
  },
  {
   "cell_type": "code",
   "execution_count": 86,
   "id": "52235ac9-ff60-4777-ad85-3e59f776d6b6",
   "metadata": {
    "tags": []
   },
   "outputs": [],
   "source": [
    "equation_E6 = lambda E,z: E**2 - (1 + z)**3*(Om_m0) - (E**(-2 + 2*a)*(-1 + (Om_m0))*(-2*(1/(np.cosh(E**(-2))))**2 + (-1 + 2*a)*E**2*np.tanh(E**(-2))))/(2*(1/(np.cosh(1)))**2 + np.tanh(1) - 2*a*np.tanh(1))"
   ]
  },
  {
   "cell_type": "code",
   "execution_count": 87,
   "id": "c32da258-4a2f-4899-b67c-7a7556260b5f",
   "metadata": {
    "tags": []
   },
   "outputs": [
    {
     "name": "stdout",
     "output_type": "stream",
     "text": [
      "70.0\n"
     ]
    }
   ],
   "source": [
    "# Ηfunctionexp1(zs,[0.3,0.7])\n",
    "print(Ηfunction(0,[0.3,0.7,-0.5],equation_E6))"
   ]
  },
  {
   "cell_type": "code",
   "execution_count": 88,
   "id": "50e03305-c635-4b8f-a546-eae2003495d6",
   "metadata": {
    "tags": []
   },
   "outputs": [
    {
     "data": {
      "text/plain": [
       "[<matplotlib.lines.Line2D at 0x7ff97ebdaf40>]"
      ]
     },
     "execution_count": 88,
     "metadata": {},
     "output_type": "execute_result"
    },
    {
     "name": "stderr",
     "output_type": "stream",
     "text": [
      "/tmp/ipykernel_9774/3068505768.py:1: RuntimeWarning: overflow encountered in cosh\n",
      "  equation_E6 = lambda E,z: E**2 - (1 + z)**3*(Om_m0) - (E**(-2 + 2*a)*(-1 + (Om_m0))*(-2*(1/(np.cosh(E**(-2))))**2 + (-1 + 2*a)*E**2*np.tanh(E**(-2))))/(2*(1/(np.cosh(1)))**2 + np.tanh(1) - 2*a*np.tanh(1))\n"
     ]
    },
    {
     "data": {
      "text/plain": [
       "[<matplotlib.lines.Line2D at 0x7ff97ebe8400>]"
      ]
     },
     "execution_count": 88,
     "metadata": {},
     "output_type": "execute_result"
    },
    {
     "data": {
      "image/png": "[encoded data removed]",
      "text/plain": [
       "<Figure size 432x288 with 1 Axes>"
      ]
     },
     "metadata": {
      "needs_background": "light"
     },
     "output_type": "display_data"
    }
   ],
   "source": [
    "plt.plot(zs,ΗfunctionLCDM(zs,[0.3,0.7]))\n",
    "plt.plot(zs,Ηfunction(zs,[0.3,0.7,0.5],equation_E6))"
   ]
  },
  {
   "cell_type": "code",
   "execution_count": 89,
   "id": "1afda828-01d2-40db-922e-0c66e184b9ad",
   "metadata": {
    "tags": []
   },
   "outputs": [
    {
     "name": "stderr",
     "output_type": "stream",
     "text": [
      "/tmp/ipykernel_9774/3068505768.py:1: RuntimeWarning: invalid value encountered in power\n",
      "  equation_E6 = lambda E,z: E**2 - (1 + z)**3*(Om_m0) - (E**(-2 + 2*a)*(-1 + (Om_m0))*(-2*(1/(np.cosh(E**(-2))))**2 + (-1 + 2*a)*E**2*np.tanh(E**(-2))))/(2*(1/(np.cosh(1)))**2 + np.tanh(1) - 2*a*np.tanh(1))\n",
      "/home/fotis/miniconda3/lib/python3.8/site-packages/scipy/optimize/zeros.py:426: RuntimeWarning: invalid value encountered in greater_equal\n",
      "  failures[nz_der] = np.abs(dp) >= tol  # not yet converged\n"
     ]
    },
    {
     "data": {
      "text/plain": [
       "array([       nan,        nan,        nan,        nan,        nan,\n",
       "              nan,        nan,        nan,        nan,        nan,\n",
       "              nan,        nan,        nan,        nan,        nan,\n",
       "              nan, 0.12414633, 0.15026394, 0.18131249,        nan,\n",
       "              nan, 0.32847005,        nan, 0.74616019, 0.74896112,\n",
       "       0.74152438, 0.73056667, 0.71783146, 0.70406254, 0.68966577,\n",
       "       0.67490101, 0.65995425, 0.64496933, 0.63006333, 0.61533455,\n",
       "       0.60086677, 0.58673164, 0.57299004, 0.55969278, 0.54688123,\n",
       "       0.53458761, 0.52283553, 0.51164037, 0.50100989, 0.4909449 ,\n",
       "       0.48143996, 0.47248421, 0.46406224, 0.45615488, 0.44874008,\n",
       "       0.44179365, 0.43529003, 0.42920288, 0.42350563, 0.41817198,\n",
       "       0.41317622, 0.40849354, 0.40410025, 0.39997392, 0.39609345,\n",
       "       0.39243913, 0.38899265, 0.38573707, 0.3826568 , 0.3797375 ,\n",
       "       0.37696604, 0.37433041, 0.37181966, 0.36942381, 0.36713378,\n",
       "       0.3649413 , 0.36283885, 0.3608196 , 0.35887734, 0.35700642,\n",
       "       0.35520171, 0.35345854, 0.35177264, 0.35014014, 0.34855751,\n",
       "       0.34702153, 0.34552923, 0.34407794, 0.34266517, 0.34128868,\n",
       "       0.33994638, 0.33863636, 0.33735688, 0.33610632, 0.33488319,\n",
       "       0.3336861 , 0.3325138 , 0.33136509, 0.33023889, 0.32913419,\n",
       "       0.32805003, 0.32698554, 0.3259399 , 0.32491235, 0.32390217])"
      ]
     },
     "execution_count": 89,
     "metadata": {},
     "output_type": "execute_result"
    },
    {
     "data": {
      "text/plain": [
       "[<matplotlib.lines.Line2D at 0x7ff97eb46f40>]"
      ]
     },
     "execution_count": 89,
     "metadata": {},
     "output_type": "execute_result"
    },
    {
     "name": "stderr",
     "output_type": "stream",
     "text": [
      "/tmp/ipykernel_9774/3068505768.py:1: RuntimeWarning: invalid value encountered in power\n",
      "  equation_E6 = lambda E,z: E**2 - (1 + z)**3*(Om_m0) - (E**(-2 + 2*a)*(-1 + (Om_m0))*(-2*(1/(np.cosh(E**(-2))))**2 + (-1 + 2*a)*E**2*np.tanh(E**(-2))))/(2*(1/(np.cosh(1)))**2 + np.tanh(1) - 2*a*np.tanh(1))\n",
      "/home/fotis/miniconda3/lib/python3.8/site-packages/scipy/optimize/zeros.py:426: RuntimeWarning: invalid value encountered in greater_equal\n",
      "  failures[nz_der] = np.abs(dp) >= tol  # not yet converged\n"
     ]
    },
    {
     "data": {
      "text/plain": [
       "[<matplotlib.lines.Line2D at 0x7ff97eb52370>]"
      ]
     },
     "execution_count": 89,
     "metadata": {},
     "output_type": "execute_result"
    },
    {
     "data": {
      "image/png": "[encoded data removed]",
      "text/plain": [
       "<Figure size 432x288 with 1 Axes>"
      ]
     },
     "metadata": {
      "needs_background": "light"
     },
     "output_type": "display_data"
    }
   ],
   "source": [
    "# fish plot for Ηfunction\n",
    "a = 1.9\n",
    "def omegalamda(zs,omegam,h):\n",
    "      return 1 - ((100*h)/Ηfunction(zs,[omegam,h,a],equation_E6))**2*omegam*((1+zs)**3)\n",
    "omegalamda(zs,0.3,0.7)\n",
    "plt.plot(zs,omegalamda(zs,0.3,0.7))\n",
    "plt.plot(zs,((omegam)*((1+zs)**3))/((Ηfunction(zs,[omegam,h,a],equation_E6)/(100*h))**2),label='')\n",
    "# intersection point, to the left accelarated, to the right disaccelerated "
   ]
  },
  {
   "cell_type": "markdown",
   "id": "9fd44cbd-09f1-4c6e-a376-4e5a840a34a6",
   "metadata": {
    "execution": {
     "iopub.execute_input": "2021-10-14T18:21:49.574857Z",
     "iopub.status.busy": "2021-10-14T18:21:49.574857Z",
     "iopub.status.idle": "2021-10-14T18:21:49.591812Z",
     "shell.execute_reply": "2021-10-14T18:21:49.591812Z",
     "shell.execute_reply.started": "2021-10-14T18:21:49.574857Z"
    },
    "tags": []
   },
   "source": [
    "# Model 7"
   ]
  },
  {
   "cell_type": "code",
   "execution_count": 37,
   "id": "47354d18-2066-4f40-9e5f-bbe485fae08e",
   "metadata": {
    "tags": []
   },
   "outputs": [],
   "source": [
    "equation_E7 = lambda E,z: E**2 + (np.exp(1)**(-1 + E**2)*(1 - E**2 + 2*E**4)*(-1 + (Om_m0)))/2 - (1 + z)**3*(Om_m0)"
   ]
  },
  {
   "cell_type": "code",
   "execution_count": 38,
   "id": "7237a755-2e04-4645-b77d-00a5a3b42ce1",
   "metadata": {
    "tags": []
   },
   "outputs": [
    {
     "name": "stdout",
     "output_type": "stream",
     "text": [
      "70.0\n"
     ]
    }
   ],
   "source": [
    "# Ηfunctionexp1(zs,[0.3,0.7])\n",
    "print(Ηfunction(0,[0.3,0.7,-0.5],equation_E7))"
   ]
  },
  {
   "cell_type": "code",
   "execution_count": 39,
   "id": "e43709e7-aee5-4571-8e07-7b4b2444226a",
   "metadata": {
    "tags": []
   },
   "outputs": [
    {
     "name": "stderr",
     "output_type": "stream",
     "text": [
      "/tmp/ipykernel_9774/2306859768.py:1: RuntimeWarning: overflow encountered in power\n",
      "  equation_E7 = lambda E,z: E**2 + (np.exp(1)**(-1 + E**2)*(1 - E**2 + 2*E**4)*(-1 + (Om_m0)))/2 - (1 + z)**3*(Om_m0)\n",
      "/home/fotis/miniconda3/lib/python3.8/site-packages/scipy/optimize/zeros.py:419: RuntimeWarning: invalid value encountered in true_divide\n",
      "  dp = (q1 * (p1 - p))[nz_der] / (q1 - q0)[nz_der]\n",
      "/home/fotis/miniconda3/lib/python3.8/site-packages/scipy/optimize/zeros.py:426: RuntimeWarning: invalid value encountered in greater_equal\n",
      "  failures[nz_der] = np.abs(dp) >= tol  # not yet converged\n",
      "/home/fotis/miniconda3/lib/python3.8/site-packages/scipy/optimize/zeros.py:459: RuntimeWarning: some failed to converge after 50 iterations\n",
      "  warnings.warn(msg, RuntimeWarning)\n"
     ]
    },
    {
     "data": {
      "text/plain": [
       "array([ 7.00000000e-01,  6.65211684e-01,  6.21436635e-01,  5.47966708e-01,\n",
       "       -1.97392254e+00, -6.59329640e+01,  3.94698840e-01, -9.47150613e+01,\n",
       "       -2.51620772e+01,  9.12929238e-01,  4.71169474e-01,  4.68616264e-01,\n",
       "       -2.20574868e+00, -2.12741052e+01,             nan, -5.99491637e+02,\n",
       "       -1.95225515e+02, -5.33971484e-01,  9.43136900e-01, -1.04111430e+00,\n",
       "       -3.55817717e+01, -1.40385174e+02, -1.52205833e+01, -1.17569915e+01,\n",
       "       -1.05702212e+01, -9.27845356e+00, -1.96338114e+00, -1.63280580e+00,\n",
       "                   nan, -6.23550723e+00,             nan, -2.10177660e+01,\n",
       "       -8.09405316e+00, -5.10891501e+00,             nan, -2.46832757e+00,\n",
       "       -3.56601303e+00, -9.10686133e+02,  8.92436319e-01,  7.66965844e-01,\n",
       "                   nan,  8.13872471e-01,             nan, -3.07529137e+02,\n",
       "       -3.36731319e+01, -1.00582808e+01, -5.72361171e+00, -5.22086711e+00,\n",
       "       -2.99330957e+01, -8.63945726e+01, -1.38799836e+01, -7.01550540e+00,\n",
       "       -1.01437961e+01, -7.66293416e+01, -5.00028537e+01,             nan,\n",
       "       -6.71843346e+00,             nan, -3.24722571e+02,             nan,\n",
       "       -8.49994301e+00,             nan, -9.39562096e+02,             nan,\n",
       "       -9.19413677e+00,             nan, -1.85280187e+02, -1.75107823e+01,\n",
       "                   nan, -1.00966791e+02,             nan, -1.25472076e+01,\n",
       "                   nan, -1.90900671e+02, -1.80063443e+01, -3.31872616e+00,\n",
       "       -4.81484178e+03, -2.38335663e+01, -1.76608165e+00, -9.77041483e+03,\n",
       "       -2.69246758e+01, -2.06680297e+06, -6.21245505e+04, -2.52391602e+01,\n",
       "       -4.93386422e+00,             nan, -2.06648867e+01,             nan,\n",
       "                   nan, -1.59872745e+01,             nan, -3.29809849e+01,\n",
       "                   nan,             nan, -1.85856873e+01,             nan,\n",
       "       -3.19492680e+01,             nan,             nan, -3.78292084e+00])"
      ]
     },
     "execution_count": 39,
     "metadata": {},
     "output_type": "execute_result"
    },
    {
     "data": {
      "text/plain": [
       "[<matplotlib.lines.Line2D at 0x7ff97f9e6b20>]"
      ]
     },
     "execution_count": 39,
     "metadata": {},
     "output_type": "execute_result"
    },
    {
     "name": "stderr",
     "output_type": "stream",
     "text": [
      "/tmp/ipykernel_9774/2306859768.py:1: RuntimeWarning: overflow encountered in power\n",
      "  equation_E7 = lambda E,z: E**2 + (np.exp(1)**(-1 + E**2)*(1 - E**2 + 2*E**4)*(-1 + (Om_m0)))/2 - (1 + z)**3*(Om_m0)\n",
      "/home/fotis/miniconda3/lib/python3.8/site-packages/scipy/optimize/zeros.py:419: RuntimeWarning: invalid value encountered in true_divide\n",
      "  dp = (q1 * (p1 - p))[nz_der] / (q1 - q0)[nz_der]\n",
      "/home/fotis/miniconda3/lib/python3.8/site-packages/scipy/optimize/zeros.py:426: RuntimeWarning: invalid value encountered in greater_equal\n",
      "  failures[nz_der] = np.abs(dp) >= tol  # not yet converged\n",
      "/home/fotis/miniconda3/lib/python3.8/site-packages/scipy/optimize/zeros.py:459: RuntimeWarning: some failed to converge after 50 iterations\n",
      "  warnings.warn(msg, RuntimeWarning)\n"
     ]
    },
    {
     "data": {
      "text/plain": [
       "[<matplotlib.lines.Line2D at 0x7ff97f9f91f0>]"
      ]
     },
     "execution_count": 39,
     "metadata": {},
     "output_type": "execute_result"
    },
    {
     "data": {
      "image/png": "[encoded data removed]",
      "text/plain": [
       "<Figure size 432x288 with 1 Axes>"
      ]
     },
     "metadata": {
      "needs_background": "light"
     },
     "output_type": "display_data"
    }
   ],
   "source": [
    "# fish plot for Ηfunction\n",
    "def omegalamda(zs,omegam,h):\n",
    "      return 1 - ((100*h)/Ηfunction(zs,[omegam,h,0.5],equation_E7))**2*omegam*((1+zs)**3)\n",
    "omegalamda(zs,0.3,0.7)\n",
    "plt.plot(zs,omegalamda(zs,0.3,0.7))\n",
    "plt.plot(zs,((omegam)*((1+zs)**3))/((Ηfunction(zs,[omegam,h,0.5],equation_E7)/(100*h))**2))\n",
    "# intersection point, to the left accelarated, to the right disaccelerated "
   ]
  },
  {
   "cell_type": "code",
   "execution_count": null,
   "id": "becef4e8-a8aa-4c2d-a69c-58f981f4d345",
   "metadata": {},
   "outputs": [],
   "source": []
  },
  {
   "cell_type": "code",
   "execution_count": null,
   "id": "773f7b18",
   "metadata": {},
   "outputs": [],
   "source": []
  }
 ],
 "metadata": {
  "kernelspec": {
   "display_name": "Python 3 (ipykernel)",
   "language": "python",
   "name": "python3"
  },
  "language_info": {
   "codemirror_mode": {
    "name": "ipython",
    "version": 3
   },
   "file_extension": ".py",
   "mimetype": "text/x-python",
   "name": "python",
   "nbconvert_exporter": "python",
   "pygments_lexer": "ipython3",
   "version": "3.9.7"
  }
 },
 "nbformat": 4,
 "nbformat_minor": 5
}
