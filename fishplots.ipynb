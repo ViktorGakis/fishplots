{
 "cells": [
  {
   "cell_type": "markdown",
   "id": "7c1996ed-5c09-487e-a8c6-466ec8753826",
   "metadata": {
    "jp-MarkdownHeadingCollapsed": true,
    "tags": []
   },
   "source": [
    "## General"
   ]
  },
  {
   "cell_type": "code",
   "execution_count": 1,
   "id": "a77f2baa-18e1-4ee3-91d9-250f4ad60d29",
   "metadata": {
    "execution": {
     "iopub.execute_input": "2021-10-15T10:05:30.201129Z",
     "iopub.status.busy": "2021-10-15T10:05:30.201129Z",
     "iopub.status.idle": "2021-10-15T10:05:30.220110Z",
     "shell.execute_reply": "2021-10-15T10:05:30.220110Z",
     "shell.execute_reply.started": "2021-10-15T10:05:30.201129Z"
    },
    "tags": []
   },
   "outputs": [],
   "source": [
    "# evaluate all lines in cells\n",
    "from IPython.core.interactiveshell import InteractiveShell\n",
    "InteractiveShell.ast_node_interactivity = \"all\"\n",
    "\n",
    "import datetime\n",
    "# TODAY = datetime.datetime.today()"
   ]
  },
  {
   "cell_type": "code",
   "execution_count": 2,
   "id": "55bcd162-3e30-443d-a83d-8bb289a87fda",
   "metadata": {
    "execution": {
     "iopub.execute_input": "2021-10-15T10:05:32.458606Z",
     "iopub.status.busy": "2021-10-15T10:05:32.458606Z",
     "iopub.status.idle": "2021-10-15T10:05:38.538737Z",
     "shell.execute_reply": "2021-10-15T10:05:38.537995Z",
     "shell.execute_reply.started": "2021-10-15T10:05:32.458606Z"
    },
    "tags": []
   },
   "outputs": [],
   "source": [
    "import matplotlib.pyplot as plt\n",
    "import numpy as np\n",
    "from scipy import special,optimize"
   ]
  },
  {
   "cell_type": "code",
   "execution_count": 3,
   "id": "2f6b8084-6dc3-4cfc-9425-1ffcdc7c0917",
   "metadata": {
    "execution": {
     "iopub.execute_input": "2021-10-15T10:05:47.007821Z",
     "iopub.status.busy": "2021-10-15T10:05:47.007821Z",
     "iopub.status.idle": "2021-10-15T10:05:47.019821Z",
     "shell.execute_reply": "2021-10-15T10:05:47.019821Z",
     "shell.execute_reply.started": "2021-10-15T10:05:47.007821Z"
    },
    "tags": []
   },
   "outputs": [
    {
     "data": {
      "text/plain": [
       "array([0.        , 0.02020202, 0.04040404, 0.06060606, 0.08080808,\n",
       "       0.1010101 , 0.12121212, 0.14141414, 0.16161616, 0.18181818,\n",
       "       0.2020202 , 0.22222222, 0.24242424, 0.26262626, 0.28282828,\n",
       "       0.3030303 , 0.32323232, 0.34343434, 0.36363636, 0.38383838,\n",
       "       0.4040404 , 0.42424242, 0.44444444, 0.46464646, 0.48484848,\n",
       "       0.50505051, 0.52525253, 0.54545455, 0.56565657, 0.58585859,\n",
       "       0.60606061, 0.62626263, 0.64646465, 0.66666667, 0.68686869,\n",
       "       0.70707071, 0.72727273, 0.74747475, 0.76767677, 0.78787879,\n",
       "       0.80808081, 0.82828283, 0.84848485, 0.86868687, 0.88888889,\n",
       "       0.90909091, 0.92929293, 0.94949495, 0.96969697, 0.98989899,\n",
       "       1.01010101, 1.03030303, 1.05050505, 1.07070707, 1.09090909,\n",
       "       1.11111111, 1.13131313, 1.15151515, 1.17171717, 1.19191919,\n",
       "       1.21212121, 1.23232323, 1.25252525, 1.27272727, 1.29292929,\n",
       "       1.31313131, 1.33333333, 1.35353535, 1.37373737, 1.39393939,\n",
       "       1.41414141, 1.43434343, 1.45454545, 1.47474747, 1.49494949,\n",
       "       1.51515152, 1.53535354, 1.55555556, 1.57575758, 1.5959596 ,\n",
       "       1.61616162, 1.63636364, 1.65656566, 1.67676768, 1.6969697 ,\n",
       "       1.71717172, 1.73737374, 1.75757576, 1.77777778, 1.7979798 ,\n",
       "       1.81818182, 1.83838384, 1.85858586, 1.87878788, 1.8989899 ,\n",
       "       1.91919192, 1.93939394, 1.95959596, 1.97979798, 2.        ])"
      ]
     },
     "execution_count": 3,
     "metadata": {},
     "output_type": "execute_result"
    }
   ],
   "source": [
    "zs = np.linspace(0.0,2.0,100)\n",
    "zs"
   ]
  },
  {
   "cell_type": "code",
   "execution_count": 4,
   "id": "d8b36b85-0430-40f2-9d91-41739ef0bc77",
   "metadata": {
    "execution": {
     "iopub.execute_input": "2021-10-15T10:05:49.704583Z",
     "iopub.status.busy": "2021-10-15T10:05:49.704583Z",
     "iopub.status.idle": "2021-10-15T10:05:49.715554Z",
     "shell.execute_reply": "2021-10-15T10:05:49.715554Z",
     "shell.execute_reply.started": "2021-10-15T10:05:49.704583Z"
    },
    "tags": []
   },
   "outputs": [],
   "source": [
    "def ΗfunctionLCDM(z,y):\n",
    "    omegam = y[0]\n",
    "    h = y[1]\n",
    "    E = (omegam*((1+z)**3)+(1-omegam))**0.5\n",
    "    return 100*h*E"
   ]
  },
  {
   "cell_type": "code",
   "execution_count": 5,
   "id": "4ca434ed-908f-4d41-aaf8-00572847e283",
   "metadata": {
    "execution": {
     "iopub.execute_input": "2021-10-15T10:05:50.755303Z",
     "iopub.status.busy": "2021-10-15T10:05:50.755303Z",
     "iopub.status.idle": "2021-10-15T10:05:50.775282Z",
     "shell.execute_reply": "2021-10-15T10:05:50.775282Z",
     "shell.execute_reply.started": "2021-10-15T10:05:50.755303Z"
    },
    "tags": []
   },
   "outputs": [
    {
     "data": {
      "text/plain": [
       "array([ 70.        ,  70.64632224,  71.31253777,  71.99859939,\n",
       "        72.70444537,  73.43000035,  74.17517616,  74.93987267,\n",
       "        75.72397867,  76.52737267,  77.34992373,  78.19149228,\n",
       "        79.05193091,  79.93108511,  80.82879402,  81.74489116,\n",
       "        82.67920506,  83.63155994,  84.60177632,  85.5896716 ,\n",
       "        86.59506062,  87.61775614,  88.65756938,  89.71431043,\n",
       "        90.78778868,  91.8778132 ,  92.98419314,  94.106738  ,\n",
       "        95.24525799,  96.39956426,  97.56946919,  98.7547866 ,\n",
       "        99.95533193, 101.17092248, 102.40137751, 103.64651845,\n",
       "       104.90616894, 106.18015505, 107.46830527, 108.77045066,\n",
       "       110.08642487, 111.41606425, 112.75920783, 114.11569742,\n",
       "       115.48537755, 116.86809558, 118.26370166, 119.67204869,\n",
       "       121.09299242, 122.52639134, 123.97210671, 125.43000252,\n",
       "       126.89994551, 128.38180506, 129.87545326, 131.38076476,\n",
       "       132.89761686, 134.42588934, 135.96546455, 137.51622726,\n",
       "       139.07806467, 140.65086636, 142.23452425, 143.82893253,\n",
       "       145.43398764, 147.0495882 , 148.67563501, 150.31203093,\n",
       "       151.9586809 , 153.61549187, 155.28237275, 156.95923437,\n",
       "       158.64598943, 160.34255247, 162.04883982, 163.76476954,\n",
       "       165.4902614 , 167.22523684, 168.96961891, 170.72333225,\n",
       "       172.48630304, 174.25845896, 176.03972916, 177.83004421,\n",
       "       179.6293361 , 181.43753816, 183.25458504, 185.08041269,\n",
       "       186.91495833, 188.75816038, 190.60995848, 192.47029344,\n",
       "       194.33910718, 196.21634274, 198.10194426, 199.9958569 ,\n",
       "       201.89802688, 203.80840138, 205.72692859, 207.65355764])"
      ]
     },
     "execution_count": 5,
     "metadata": {},
     "output_type": "execute_result"
    }
   ],
   "source": [
    "ΗfunctionLCDM(zs,[0.3,0.7])"
   ]
  },
  {
   "cell_type": "code",
   "execution_count": 6,
   "id": "806266a8-18e1-473d-a55c-39550a4b9913",
   "metadata": {
    "execution": {
     "iopub.execute_input": "2021-10-15T10:05:53.180900Z",
     "iopub.status.busy": "2021-10-15T10:05:53.180900Z",
     "iopub.status.idle": "2021-10-15T10:05:53.394994Z",
     "shell.execute_reply": "2021-10-15T10:05:53.394994Z",
     "shell.execute_reply.started": "2021-10-15T10:05:53.180900Z"
    },
    "tags": []
   },
   "outputs": [
    {
     "data": {
      "text/plain": [
       "[<matplotlib.lines.Line2D at 0x220a4756df0>]"
      ]
     },
     "execution_count": 6,
     "metadata": {},
     "output_type": "execute_result"
    },
    {
     "data": {
      "image/png": "[encoded data removed]",
      "text/plain": [
       "<Figure size 432x288 with 1 Axes>"
      ]
     },
     "metadata": {
      "needs_background": "light"
     },
     "output_type": "display_data"
    }
   ],
   "source": [
    "plt.plot(zs,ΗfunctionLCDM(zs,[0.3,0.7]))"
   ]
  },
  {
   "cell_type": "code",
   "execution_count": 89,
   "id": "d7eefefa-bc65-4136-8114-4e9bd0cb1ab8",
   "metadata": {
    "execution": {
     "iopub.execute_input": "2021-10-15T11:25:33.336691Z",
     "iopub.status.busy": "2021-10-15T11:25:33.335691Z",
     "iopub.status.idle": "2021-10-15T11:25:33.357636Z",
     "shell.execute_reply": "2021-10-15T11:25:33.356633Z",
     "shell.execute_reply.started": "2021-10-15T11:25:33.336691Z"
    },
    "tags": []
   },
   "outputs": [],
   "source": [
    "def Ηfunction(z,y,equationE):\n",
    "    '''\n",
    "    f(Q) = Qexp(lmbd*Q_0/Q)\n",
    "    '''\n",
    "    global  Om_m0, a, h\n",
    "    a = y[2]\n",
    "    Om_m0 = y[0]\n",
    "    h = y[1]\n",
    "    T_cmb = 2.7255\n",
    "    Omr = Om_m0/(1. + 2.5e4 * Om_m0 * h**2. * (T_cmb/2.7)**(-4.))\n",
    "    expr = (Om_m0 + Omr)/(-2*np.exp(0.5))\n",
    "    H_0 = 100*h\n",
    "    T_cmb = 2.7255\n",
    "    Om_r = Om_m0/(1. + 2.5e4 * Om_m0* h**2. * (T_cmb/2.7)**(-4.))\n",
    "    Og_mod = 31500. * (T_cmb/2.7)**(-4.)\n",
    "    Om_l = 1. - Om_m0- Om_r\n",
    "    x0E = (Om_m0*(1.+z)**3. + Om_r*(1.+ z)**4. + Om_l)**0.5\n",
    "    res = optimize.newton(equationE, x0E, args = (z,)) \n",
    "    return H_0*res"
   ]
  },
  {
   "cell_type": "code",
   "execution_count": 94,
   "id": "6c78d79a-bd9d-46e6-aa50-ae92989b2e47",
   "metadata": {
    "execution": {
     "iopub.execute_input": "2021-10-15T11:27:24.888487Z",
     "iopub.status.busy": "2021-10-15T11:27:24.888487Z",
     "iopub.status.idle": "2021-10-15T11:27:25.088494Z",
     "shell.execute_reply": "2021-10-15T11:27:25.087496Z",
     "shell.execute_reply.started": "2021-10-15T11:27:24.888487Z"
    },
    "tags": []
   },
   "outputs": [
    {
     "data": {
      "text/plain": [
       "array([0.7       , 0.6872504 , 0.67446953, 0.66167698, 0.64889165,\n",
       "       0.63613173, 0.62341457, 0.61075667, 0.59817364, 0.58568016,\n",
       "       0.57328997, 0.56101583, 0.54886957, 0.53686205, 0.52500317,\n",
       "       0.51330191, 0.50176635, 0.49040369, 0.47922024, 0.46822155,\n",
       "       0.45741234, 0.44679661, 0.43637763, 0.42615803, 0.41613979,\n",
       "       0.40632432, 0.39671248, 0.38730462, 0.37810062, 0.36909994,\n",
       "       0.36030164, 0.35170441, 0.34330663, 0.33510638, 0.32710149,\n",
       "       0.31928953, 0.31166789, 0.30423376, 0.29698418, 0.28991605,\n",
       "       0.28302616, 0.2763112 , 0.26976779, 0.26339246, 0.25718174,\n",
       "       0.25113208, 0.24523993, 0.23950174, 0.23391394, 0.22847297,\n",
       "       0.22317532, 0.21801745, 0.2129959 , 0.20810723, 0.20334803,\n",
       "       0.19871495, 0.1942047 , 0.18981402, 0.18553972, 0.18137867,\n",
       "       0.17732781, 0.17338411, 0.16954464, 0.16580652, 0.16216693,\n",
       "       0.15862312, 0.15517241, 0.15181219, 0.14853989, 0.14535303,\n",
       "       0.14224919, 0.13922601, 0.13628119, 0.1334125 , 0.13061777,\n",
       "       0.12789488, 0.12524178, 0.12265648, 0.12013702, 0.11768155,\n",
       "       0.11528821, 0.11295524, 0.11068091, 0.10846356, 0.10630155,\n",
       "       0.10419331, 0.10213731, 0.10013207, 0.09817615, 0.09626815,\n",
       "       0.09440673, 0.09259056, 0.09081837, 0.08908893, 0.08740105,\n",
       "       0.08575355, 0.08414532, 0.08257526, 0.08104231, 0.07954545])"
      ]
     },
     "execution_count": 94,
     "metadata": {},
     "output_type": "execute_result"
    },
    {
     "data": {
      "text/plain": [
       "[<matplotlib.lines.Line2D at 0x220a6510d30>]"
      ]
     },
     "execution_count": 94,
     "metadata": {},
     "output_type": "execute_result"
    },
    {
     "data": {
      "text/plain": [
       "[<matplotlib.lines.Line2D at 0x220a6303a90>]"
      ]
     },
     "execution_count": 94,
     "metadata": {},
     "output_type": "execute_result"
    },
    {
     "data": {
      "image/png": "[encoded data removed]",
      "text/plain": [
       "<Figure size 432x288 with 1 Axes>"
      ]
     },
     "metadata": {
      "needs_background": "light"
     },
     "output_type": "display_data"
    }
   ],
   "source": [
    "# fish plot for LCDM \n",
    "# \\Omega_{\\Lambda} = E**2 -Omega_{m0} (1+z)**3\n",
    "omegam = 0.2\n",
    "h = 0.6\n",
    "def omegalamda(zs,omegam,h):\n",
    "      return 1 - ((100*h)/ΗfunctionLCDM(zs,[omegam,h]))**2*omegam*((1+zs)**3)\n",
    "omegalamda(zs,0.3,0.7)\n",
    "plt.plot(zs,omegalamda(zs,0.3,0.7))\n",
    "plt.plot(zs,((omegam)*((1+zs)**3))/((ΗfunctionLCDM(zs,[omegam,h])/(100*h))**2))\n",
    "# intersection point(transition redshift), to the left accelarated, to the right disaccelerated "
   ]
  },
  {
   "cell_type": "markdown",
   "id": "1e09f21e-4ce8-4d36-87b0-43b227459d6b",
   "metadata": {
    "execution": {
     "iopub.execute_input": "2021-10-14T18:21:49.574857Z",
     "iopub.status.busy": "2021-10-14T18:21:49.574857Z",
     "iopub.status.idle": "2021-10-14T18:21:49.591812Z",
     "shell.execute_reply": "2021-10-14T18:21:49.591812Z",
     "shell.execute_reply.started": "2021-10-14T18:21:49.574857Z"
    },
    "jp-MarkdownHeadingCollapsed": true,
    "tags": []
   },
   "source": [
    "# Model 1"
   ]
  },
  {
   "cell_type": "code",
   "execution_count": 43,
   "id": "6a9b08e4-9f7d-4a96-998a-e9945bf845c7",
   "metadata": {
    "execution": {
     "iopub.execute_input": "2021-10-15T10:47:15.492369Z",
     "iopub.status.busy": "2021-10-15T10:47:15.492369Z",
     "iopub.status.idle": "2021-10-15T10:47:15.495359Z",
     "shell.execute_reply": "2021-10-15T10:47:15.495359Z",
     "shell.execute_reply.started": "2021-10-15T10:47:15.492369Z"
    },
    "tags": []
   },
   "outputs": [],
   "source": [
    "equation_E1 = lambda E,z: Ε**2 + Ε**(2*a)*(-1 + (Om_m0)) - (1 + z)**3*(Om_m0)"
   ]
  },
  {
   "cell_type": "code",
   "execution_count": 115,
   "id": "694a369f-3fd7-4347-9a40-af4e4e1f6b0a",
   "metadata": {
    "execution": {
     "iopub.execute_input": "2021-10-15T19:54:14.436342Z",
     "iopub.status.busy": "2021-10-15T19:54:14.432421Z",
     "iopub.status.idle": "2021-10-15T19:54:14.465680Z",
     "shell.execute_reply": "2021-10-15T19:54:14.464678Z",
     "shell.execute_reply.started": "2021-10-15T19:54:14.436342Z"
    },
    "tags": []
   },
   "outputs": [
    {
     "name": "stdout",
     "output_type": "stream",
     "text": [
      "70.0\n"
     ]
    }
   ],
   "source": [
    "# Ηfunctionexp1(zs,[0.3,0.7])\n",
    "print(Ηfunction(0,[0.3,0.7,-0.5],equation_E1))"
   ]
  },
  {
   "cell_type": "code",
   "execution_count": 117,
   "id": "37921621-5688-469a-9090-8509ef11168c",
   "metadata": {
    "execution": {
     "iopub.execute_input": "2021-10-15T19:54:45.131917Z",
     "iopub.status.busy": "2021-10-15T19:54:45.130916Z",
     "iopub.status.idle": "2021-10-15T19:54:45.544537Z",
     "shell.execute_reply": "2021-10-15T19:54:45.543540Z",
     "shell.execute_reply.started": "2021-10-15T19:54:45.131917Z"
    },
    "tags": []
   },
   "outputs": [
    {
     "data": {
      "text/plain": [
       "[<matplotlib.lines.Line2D at 0x220a664d910>]"
      ]
     },
     "execution_count": 117,
     "metadata": {},
     "output_type": "execute_result"
    },
    {
     "data": {
      "text/plain": [
       "[<matplotlib.lines.Line2D at 0x220a6609dc0>]"
      ]
     },
     "execution_count": 117,
     "metadata": {},
     "output_type": "execute_result"
    },
    {
     "data": {
      "image/png": "[encoded data removed]",
      "text/plain": [
       "<Figure size 432x288 with 1 Axes>"
      ]
     },
     "metadata": {
      "needs_background": "light"
     },
     "output_type": "display_data"
    }
   ],
   "source": [
    "plt.plot(zs,ΗfunctionLCDM(zs,[0.3,0.7]))\n",
    "plt.plot(zs,Ηfunction(zs,[0.3,0.7,-0.5],equation_E1))"
   ]
  },
  {
   "cell_type": "code",
   "execution_count": 146,
   "id": "869cad73-34ef-4c8e-a314-e5fdf0976cc7",
   "metadata": {
    "execution": {
     "iopub.execute_input": "2021-10-15T22:10:17.950690Z",
     "iopub.status.busy": "2021-10-15T22:10:17.950690Z",
     "iopub.status.idle": "2021-10-15T22:10:18.126645Z",
     "shell.execute_reply": "2021-10-15T22:10:18.125641Z",
     "shell.execute_reply.started": "2021-10-15T22:10:17.950690Z"
    },
    "tags": []
   },
   "outputs": [
    {
     "name": "stderr",
     "output_type": "stream",
     "text": [
      "C:\\Users\\Viktor G\\.conda\\envs\\jupyterlab\\lib\\site-packages\\scipy\\optimize\\zeros.py:459: RuntimeWarning: some failed to converge after 50 iterations\n",
      "  warnings.warn(msg, RuntimeWarning)\n"
     ]
    },
    {
     "data": {
      "text/plain": [
       "array([ 7.00000000e-01,  6.64358995e-01,  6.16202998e-01,  4.31765819e-01,\n",
       "        4.02445562e-01,  2.89163802e-01, -2.27060998e+00,  4.71422374e-01,\n",
       "        3.70114088e-01,  9.76766866e-01, -1.21816352e+05,  1.63487215e-02,\n",
       "        6.58528773e-01, -1.23653785e+03,  2.71258961e-01,  6.03753303e-01,\n",
       "       -9.28465933e-01,  9.99252970e-01, -1.74864296e+03, -1.06745497e+03,\n",
       "       -1.51794326e+02, -1.93828776e-01, -3.90396581e+02, -4.22112534e+02,\n",
       "       -1.62058604e+03, -7.59881477e+02, -7.10544013e+02, -6.58308089e+02,\n",
       "       -6.38693034e+02, -6.02977174e+02, -7.06241244e+02, -1.23439758e+04,\n",
       "       -3.60733767e+03, -2.65864744e+03, -1.99326747e+03, -8.63676200e+02,\n",
       "       -7.15119189e+02, -5.36626148e+02, -3.88645914e+00, -3.85851093e+02,\n",
       "        9.94678079e-01, -3.82191791e+02, -8.75463264e+02, -2.92475081e+02,\n",
       "       -3.41168673e+02, -3.33578013e+02, -2.99422725e+02, -2.85084608e+02,\n",
       "        9.63560592e-01,  9.80863661e-01,  9.83655059e-01,  9.84393403e-01,\n",
       "        9.84668380e-01,  9.84812330e-01,  9.85026599e-01,  9.85550304e-01,\n",
       "        9.86736186e-01,  9.89106888e-01,  9.93141803e-01,  9.97962152e-01,\n",
       "        9.99978431e-01,  9.97505038e-01,  9.93377981e-01,  9.89706965e-01,\n",
       "        9.86820596e-01,  9.84511462e-01,  9.82552361e-01,  9.80778702e-01,\n",
       "        9.79074738e-01,  9.77350327e-01,  9.75520146e-01,  9.73481490e-01,\n",
       "        9.71080475e-01,  9.68041804e-01,  9.63782224e-01,  9.56771490e-01,\n",
       "        9.41616860e-01,  9.24415856e-01,  9.99993286e-01, -8.26517852e+00,\n",
       "        9.62998471e-01, -1.25118781e+02, -6.15746025e+01, -1.14834978e+02,\n",
       "       -3.78277679e+02, -1.09787741e+02, -8.64566995e+01, -1.67824549e+02,\n",
       "       -4.12481144e+02, -2.96697011e+01,  9.48723036e-01, -2.62363746e+01,\n",
       "       -1.01718900e+03, -8.63908238e+00, -1.18046287e+01, -2.04845411e+01,\n",
       "       -3.60698485e+01, -5.39934124e+01, -7.32239158e+01, -9.56183332e+01])"
      ]
     },
     "execution_count": 146,
     "metadata": {},
     "output_type": "execute_result"
    },
    {
     "data": {
      "text/plain": [
       "[<matplotlib.lines.Line2D at 0x220a7ead8e0>]"
      ]
     },
     "execution_count": 146,
     "metadata": {},
     "output_type": "execute_result"
    },
    {
     "data": {
      "text/plain": [
       "[<matplotlib.lines.Line2D at 0x220a7eadd00>]"
      ]
     },
     "execution_count": 146,
     "metadata": {},
     "output_type": "execute_result"
    },
    {
     "data": {
      "image/png": "[encoded data removed]",
      "text/plain": [
       "<Figure size 432x288 with 1 Axes>"
      ]
     },
     "metadata": {
      "needs_background": "light"
     },
     "output_type": "display_data"
    }
   ],
   "source": [
    "# fish plot for Ηfunction\n",
    "def omegalamda(zs,omegam,h):\n",
    "      return 1 - ((100*h)/Ηfunction(zs,[omegam,h,1,-10],equation_E1))**2*omegam*((1+zs)**3)\n",
    "omegalamda(zs,0.3,0.7)\n",
    "plt.plot(zs,omegalamda(zs,0.3,0.7))\n",
    "plt.plot(zs,((omegam)*((1+zs)**3))/((Ηfunction(zs,[omegam,h,-10],equation_E1)/(100*h))**2))\n",
    "# intersection point, to the left accelarated, to the right disaccelerated "
   ]
  },
  {
   "cell_type": "markdown",
   "id": "f2b9b5fc-11a2-45c5-af23-d4386604e54a",
   "metadata": {
    "execution": {
     "iopub.execute_input": "2021-10-14T18:21:49.574857Z",
     "iopub.status.busy": "2021-10-14T18:21:49.574857Z",
     "iopub.status.idle": "2021-10-14T18:21:49.591812Z",
     "shell.execute_reply": "2021-10-14T18:21:49.591812Z",
     "shell.execute_reply.started": "2021-10-14T18:21:49.574857Z"
    },
    "jp-MarkdownHeadingCollapsed": true,
    "tags": []
   },
   "source": [
    "# Model 2"
   ]
  },
  {
   "cell_type": "code",
   "execution_count": 8,
   "id": "6b19ec93-9e5f-4806-8bf4-25dde458ad1e",
   "metadata": {
    "execution": {
     "iopub.execute_input": "2021-10-14T18:18:55.216436Z",
     "iopub.status.busy": "2021-10-14T18:18:55.216436Z",
     "iopub.status.idle": "2021-10-14T18:18:55.230401Z",
     "shell.execute_reply": "2021-10-14T18:18:55.229400Z",
     "shell.execute_reply.started": "2021-10-14T18:18:55.216436Z"
    },
    "tags": []
   },
   "outputs": [],
   "source": [
    "def Ηfunctionexp1(z,y):\n",
    "    '''\n",
    "    f(Q) = Qexp(lmbd*Q_0/Q)\n",
    "    '''\n",
    "    Om_m0 = y[0]\n",
    "    h = y[1]\n",
    "    T_cmb = 2.7255\n",
    "    Omr = Om_m0/(1. + 2.5e4 * Om_m0 * h**2. * (T_cmb/2.7)**(-4.))\n",
    "    expr = (Om_m0 + Omr)/(-2*np.exp(0.5))\n",
    "    a = (0.5 + special.lambertw(expr,k=0)).real\n",
    "    H_0 = 100*h\n",
    "    T_cmb = 2.7255\n",
    "    Om_r = Om_m0/(1. + 2.5e4 * Om_m0* h**2. * (T_cmb/2.7)**(-4.))\n",
    "    Og_mod = 31500. * (T_cmb/2.7)**(-4.)\n",
    "    Om_l = 1. - Om_m0- Om_r\n",
    "    x0E = (Om_m0*(1.+z)**3. + Om_r*(1.+z)**4. + Om_l)**0.5\n",
    "    equation_E = lambda E: (E**2.- 2*a)* np.exp(a*1./E**2)- Om_m0*(1.+z)**3- Om_r*(1.+z)**4\n",
    "    res = optimize.newton(equation_E, x0E) \n",
    "    return H_0*res"
   ]
  },
  {
   "cell_type": "code",
   "execution_count": 17,
   "id": "cd9228d2-b71d-4380-a284-17fb92861cc0",
   "metadata": {
    "execution": {
     "iopub.execute_input": "2021-10-14T18:31:49.965801Z",
     "iopub.status.busy": "2021-10-14T18:31:49.965801Z",
     "iopub.status.idle": "2021-10-14T18:31:49.970786Z",
     "shell.execute_reply": "2021-10-14T18:31:49.970786Z",
     "shell.execute_reply.started": "2021-10-14T18:31:49.965801Z"
    },
    "tags": []
   },
   "outputs": [
    {
     "name": "stdout",
     "output_type": "stream",
     "text": [
      "70.0\n"
     ]
    }
   ],
   "source": [
    "# Ηfunctionexp1(zs,[0.3,0.7])\n",
    "print(Ηfunctionexp1(0,[0.3,0.7]))"
   ]
  },
  {
   "cell_type": "code",
   "execution_count": 10,
   "id": "c9ae03a7-f617-4be5-bed3-25e3b027cf2a",
   "metadata": {
    "execution": {
     "iopub.execute_input": "2021-10-14T18:19:05.071080Z",
     "iopub.status.busy": "2021-10-14T18:19:05.070098Z",
     "iopub.status.idle": "2021-10-14T18:19:05.199729Z",
     "shell.execute_reply": "2021-10-14T18:19:05.199729Z",
     "shell.execute_reply.started": "2021-10-14T18:19:05.071080Z"
    },
    "tags": []
   },
   "outputs": [
    {
     "data": {
      "text/plain": [
       "[<matplotlib.lines.Line2D at 0x22f7d086160>]"
      ]
     },
     "execution_count": 10,
     "metadata": {},
     "output_type": "execute_result"
    },
    {
     "data": {
      "image/png": "[encoded data removed]",
      "text/plain": [
       "<Figure size 432x288 with 1 Axes>"
      ]
     },
     "metadata": {
      "needs_background": "light"
     },
     "output_type": "display_data"
    }
   ],
   "source": [
    "plt.plot(zs,ΗfunctionLCDM(zs,[0.3,0.7]))\n",
    "plt.plot(zs,Ηfunctionexp1(zs,[0.3,0.7]))"
   ]
  },
  {
   "cell_type": "code",
   "execution_count": 22,
   "id": "bce1de1c-751b-4742-9096-c76a42db3942",
   "metadata": {
    "tags": []
   },
   "outputs": [
    {
     "data": {
      "text/plain": [
       "[<matplotlib.lines.Line2D at 0x7f37bec71be0>]"
      ]
     },
     "execution_count": 22,
     "metadata": {},
     "output_type": "execute_result"
    },
    {
     "data": {
      "image/png": "[encoded data removed]",
      "text/plain": [
       "<Figure size 432x288 with 1 Axes>"
      ]
     },
     "metadata": {
      "needs_background": "light"
     },
     "output_type": "display_data"
    }
   ],
   "source": [
    "# fish plot for LCDM \n",
    "# \\Omega_{\\Lambda} = E**2 -Omega_{m0} (1+z)**3\n",
    "omegam = 0.2\n",
    "h = 0.6\n",
    "def omegalamda(zs,omegam,h):\n",
    "      return 1 - ((100*h)/ΗfunctionLCDM(zs,[omegam,h]))**2*omegam*((1+zs)**3)\n",
    "omegalamda(zs,0.3,0.7)\n",
    "plt.plot(zs,omegalamda(zs,0.3,0.7))\n",
    "plt.plot(zs,((omegam)*((1+zs)**3))/((ΗfunctionLCDM(zs,[omegam,h])/(100*h))**2))\n",
    "# intersection point(transition redshift), to the left accelarated, to the right disaccelerated "
   ]
  },
  {
   "cell_type": "code",
   "execution_count": 23,
   "id": "2f5e2ce2-c0f1-4f0e-95d2-c9cd915bc2d2",
   "metadata": {
    "tags": []
   },
   "outputs": [
    {
     "data": {
      "text/plain": [
       "[<matplotlib.lines.Line2D at 0x7f37bebf16d0>]"
      ]
     },
     "execution_count": 23,
     "metadata": {},
     "output_type": "execute_result"
    },
    {
     "data": {
      "image/png": "[encoded data removed]",
      "text/plain": [
       "<Figure size 432x288 with 1 Axes>"
      ]
     },
     "metadata": {
      "needs_background": "light"
     },
     "output_type": "display_data"
    }
   ],
   "source": [
    "# fish plot for exp1 \n",
    "def omegalamda(zs,omegam,h):\n",
    "      return 1 - ((100*h)/Ηfunctionexp1(zs,[omegam,h]))**2*omegam*((1+zs)**3)\n",
    "omegalamda(zs,0.3,0.7)\n",
    "plt.plot(zs,omegalamda(zs,0.3,0.7))\n",
    "plt.plot(zs,((omegam)*((1+zs)**3))/((Ηfunctionexp1(zs,[omegam,h])/(100*h))**2))\n",
    "# intersection point, to the left accelarated, to the right disaccelerated "
   ]
  },
  {
   "cell_type": "markdown",
   "id": "df267e49-1e3e-451d-866b-1d20aaaec4bd",
   "metadata": {
    "execution": {
     "iopub.execute_input": "2021-10-14T18:21:49.574857Z",
     "iopub.status.busy": "2021-10-14T18:21:49.574857Z",
     "iopub.status.idle": "2021-10-14T18:21:49.591812Z",
     "shell.execute_reply": "2021-10-14T18:21:49.591812Z",
     "shell.execute_reply.started": "2021-10-14T18:21:49.574857Z"
    },
    "jp-MarkdownHeadingCollapsed": true,
    "tags": []
   },
   "source": [
    "# Model 3"
   ]
  },
  {
   "cell_type": "code",
   "execution_count": 131,
   "id": "87944e9c-ab88-42b5-a119-6863e0a01b8d",
   "metadata": {
    "execution": {
     "iopub.execute_input": "2021-10-15T21:34:46.714771Z",
     "iopub.status.busy": "2021-10-15T21:34:46.714771Z",
     "iopub.status.idle": "2021-10-15T21:34:46.719759Z",
     "shell.execute_reply": "2021-10-15T21:34:46.719759Z",
     "shell.execute_reply.started": "2021-10-15T21:34:46.714771Z"
    },
    "tags": []
   },
   "outputs": [],
   "source": [
    "equation_E3 = lambda E,z: E**2 - (1 + z)**3*(Om_m0) - E**2*(1 + np.exp(1)**((E**2*(-1 + 2*special.lambertw((np.sqrt(np.exp(1))*(Om_m0))/2).real))/2)*(-1 + E**2 - 2*E**2*special.lambertw((np.sqrt(np.exp(1))*(Om_m0))/2).real))"
   ]
  },
  {
   "cell_type": "code",
   "execution_count": 132,
   "id": "87a9db70-39fb-454d-815a-6a4b20e0ca23",
   "metadata": {
    "execution": {
     "iopub.execute_input": "2021-10-15T21:34:49.172481Z",
     "iopub.status.busy": "2021-10-15T21:34:49.172481Z",
     "iopub.status.idle": "2021-10-15T21:34:49.179462Z",
     "shell.execute_reply": "2021-10-15T21:34:49.179462Z",
     "shell.execute_reply.started": "2021-10-15T21:34:49.172481Z"
    },
    "tags": []
   },
   "outputs": [
    {
     "name": "stdout",
     "output_type": "stream",
     "text": [
      "70.0\n"
     ]
    }
   ],
   "source": [
    "# Ηfunctionexp1(zs,[0.3,0.7])\n",
    "print(Ηfunction(0,[0.3,0.7,-0.5],equation_E3))"
   ]
  },
  {
   "cell_type": "code",
   "execution_count": 133,
   "id": "547fac91-dd88-4438-bc62-148c5c45d275",
   "metadata": {
    "execution": {
     "iopub.execute_input": "2021-10-15T21:34:53.484399Z",
     "iopub.status.busy": "2021-10-15T21:34:53.484399Z",
     "iopub.status.idle": "2021-10-15T21:34:53.679908Z",
     "shell.execute_reply": "2021-10-15T21:34:53.679908Z",
     "shell.execute_reply.started": "2021-10-15T21:34:53.484399Z"
    },
    "tags": []
   },
   "outputs": [
    {
     "data": {
      "text/plain": [
       "[<matplotlib.lines.Line2D at 0x220a7be21c0>]"
      ]
     },
     "execution_count": 133,
     "metadata": {},
     "output_type": "execute_result"
    },
    {
     "name": "stderr",
     "output_type": "stream",
     "text": [
      "C:\\Users\\Viktor G\\.conda\\envs\\jupyterlab\\lib\\site-packages\\scipy\\optimize\\zeros.py:445: RuntimeWarning: RMS of 590.685 reached\n",
      "  warnings.warn(\n"
     ]
    },
    {
     "data": {
      "text/plain": [
       "[<matplotlib.lines.Line2D at 0x220a7be25e0>]"
      ]
     },
     "execution_count": 133,
     "metadata": {},
     "output_type": "execute_result"
    },
    {
     "data": {
      "image/png": "[encoded data removed]",
      "text/plain": [
       "<Figure size 432x288 with 1 Axes>"
      ]
     },
     "metadata": {
      "needs_background": "light"
     },
     "output_type": "display_data"
    }
   ],
   "source": [
    "plt.plot(zs,ΗfunctionLCDM(zs,[0.3,0.7]))\n",
    "plt.plot(zs,Ηfunction(zs,[0.3,0.7,-0.5],equation_E3))"
   ]
  },
  {
   "cell_type": "code",
   "execution_count": 134,
   "id": "e770f987-6e21-48ee-a31f-ee47bcaba7b9",
   "metadata": {
    "execution": {
     "iopub.execute_input": "2021-10-15T21:35:11.930961Z",
     "iopub.status.busy": "2021-10-15T21:35:11.930961Z",
     "iopub.status.idle": "2021-10-15T21:35:12.108025Z",
     "shell.execute_reply": "2021-10-15T21:35:12.107027Z",
     "shell.execute_reply.started": "2021-10-15T21:35:11.930961Z"
    },
    "tags": []
   },
   "outputs": [
    {
     "name": "stderr",
     "output_type": "stream",
     "text": [
      "C:\\Users\\Viktor G\\.conda\\envs\\jupyterlab\\lib\\site-packages\\scipy\\optimize\\zeros.py:445: RuntimeWarning: RMS of 590.685 reached\n",
      "  warnings.warn(\n"
     ]
    },
    {
     "data": {
      "text/plain": [
       "array([0.7       , 0.64766996, 0.55914107, 0.99891664, 1.        ,\n",
       "       1.        , 1.        , 1.        , 1.        , 1.        ,\n",
       "       1.        , 0.99980195, 1.        , 1.        , 1.        ,\n",
       "       1.        , 1.        , 1.        , 1.        , 1.        ,\n",
       "       1.        , 1.        , 1.        , 1.        , 1.        ,\n",
       "       1.        , 1.        , 1.        , 1.        , 1.        ,\n",
       "       1.        , 1.        , 1.        , 1.        , 1.        ,\n",
       "       1.        , 1.        , 1.        , 1.        , 1.        ,\n",
       "       1.        , 1.        , 1.        , 1.        , 1.        ,\n",
       "       1.        , 1.        , 1.        , 1.        , 1.        ,\n",
       "       1.        , 1.        , 1.        , 1.        , 0.99999945,\n",
       "       0.99997611, 0.99987715, 1.        , 1.        , 1.        ,\n",
       "       1.        , 1.        , 1.        , 1.        , 1.        ,\n",
       "       1.        , 1.        , 1.        , 1.        , 1.        ,\n",
       "       1.        , 1.        , 1.        , 1.        , 1.        ,\n",
       "       1.        , 1.        , 1.        , 1.        , 1.        ,\n",
       "       1.        , 1.        , 1.        , 1.        , 1.        ,\n",
       "       1.        , 1.        , 1.        , 1.        , 1.        ,\n",
       "       1.        , 1.        , 1.        , 0.99973092, 1.        ,\n",
       "       1.        , 1.        , 1.        , 1.        , 1.        ])"
      ]
     },
     "execution_count": 134,
     "metadata": {},
     "output_type": "execute_result"
    },
    {
     "data": {
      "text/plain": [
       "[<matplotlib.lines.Line2D at 0x220a7c40cd0>]"
      ]
     },
     "execution_count": 134,
     "metadata": {},
     "output_type": "execute_result"
    },
    {
     "name": "stderr",
     "output_type": "stream",
     "text": [
      "C:\\Users\\Viktor G\\.conda\\envs\\jupyterlab\\lib\\site-packages\\scipy\\optimize\\zeros.py:445: RuntimeWarning: RMS of 406.899 reached\n",
      "  warnings.warn(\n"
     ]
    },
    {
     "data": {
      "text/plain": [
       "[<matplotlib.lines.Line2D at 0x220a7c4e220>]"
      ]
     },
     "execution_count": 134,
     "metadata": {},
     "output_type": "execute_result"
    },
    {
     "data": {
      "image/png": "[encoded data removed]",
      "text/plain": [
       "<Figure size 432x288 with 1 Axes>"
      ]
     },
     "metadata": {
      "needs_background": "light"
     },
     "output_type": "display_data"
    }
   ],
   "source": [
    "# fish plot for Ηfunction\n",
    "def omegalamda(zs,omegam,h):\n",
    "      return 1 - ((100*h)/Ηfunction(zs,[omegam,h,1,-0.5],equation_E3))**2*omegam*((1+zs)**3)\n",
    "omegalamda(zs,0.3,0.7)\n",
    "plt.plot(zs,omegalamda(zs,0.3,0.7))\n",
    "plt.plot(zs,((omegam)*((1+zs)**3))/((Ηfunction(zs,[omegam,h,-0.5],equation_E3)/(100*h))**2))\n",
    "# intersection point, to the left accelarated, to the right disaccelerated "
   ]
  },
  {
   "cell_type": "markdown",
   "id": "2097b89f-baf5-47f2-b04f-cc1ad60fec50",
   "metadata": {
    "jp-MarkdownHeadingCollapsed": true,
    "tags": []
   },
   "source": [
    "# Model 4"
   ]
  },
  {
   "cell_type": "code",
   "execution_count": 139,
   "id": "1e7e77f5-d020-4706-b241-23b91c4557f4",
   "metadata": {
    "execution": {
     "iopub.execute_input": "2021-10-15T22:07:22.577343Z",
     "iopub.status.busy": "2021-10-15T22:07:22.576356Z",
     "iopub.status.idle": "2021-10-15T22:07:22.588318Z",
     "shell.execute_reply": "2021-10-15T22:07:22.588318Z",
     "shell.execute_reply.started": "2021-10-15T22:07:22.577343Z"
    },
    "tags": []
   },
   "outputs": [],
   "source": [
    "equation_E4 = lambda E,z: E**2 - (100**(2.7755575615628914*(10**-17)*np.exp(1)**(a - special.lambertw((np.exp(1)**(-1/2 + a)*(-1 + (Om_m0)))/2).real))*\n",
    "    h**(np.exp(1)**(a - special.lambertw((np.exp(1)**(-1/2 + a)*(-1 + (Om_m0)))/2).real)*(-0.18201499873448362 + \n",
    "       0.6065306597126335*(Om_m0)))*\n",
    "    (h*E)**(2*a + np.exp(1)**(a - special.lambertw((np.exp(1)**(-1/2 + a)*(-1 + (Om_m0)))/2).real)*\n",
    "       (0.18201499873448365 - 0.6065306597126335*(Om_m0)))*\n",
    "    (np.exp(1)**(((-1 + E**2)*(1 - 2*a + 2*special.lambertw((np.exp(1)**(-1/2 + a)*(-1 + (Om_m0)))/2).real))/2)*\n",
    "      (-0.3000919999999996 + 0.9999999999999998*E**2) + \n",
    "     np.exp(1)**((E**2*(1 - 2*a + 2*special.lambertw((np.exp(1)**(-1/2 + a)*(-1 + (Om_m0)))/2).real))/2)*\n",
    "      (0.9999999999999998 - 1.9999999999999996*a - 0.9999999999999998*E**2 + \n",
    "       1.9999999999999996*a*E**2)) + \n",
    "   (100**(2.7755575615628914*(10**-17)*np.exp(1)**(a - special.lambertw((np.exp(1)**(-1/2 + a)*(-1 + (Om_m0)))/2).real))*\n",
    "      np.exp(1)**(((-1 + E**2)*(1 - 2*a + 2*special.lambertw((np.exp(1)**(-1/2 + a)*(-1 + (Om_m0)))/2).real))/2)*\n",
    "      h**(np.exp(1)**(a - special.lambertw((np.exp(1)**(-1/2 + a)*(-1 + (Om_m0)))/2).real)*(-0.18201499873448362 + \n",
    "         0.6065306597126335*(Om_m0)))*\n",
    "      (h*E)**(2*a + np.exp(1)**(a - special.lambertw((np.exp(1)**(-1/2 + a)*(-1 + (Om_m0)))/2).real)*\n",
    "         (0.18201499873448365 - 0.6065306597126335*(Om_m0)))*(0.9999999999999998 - \n",
    "       0.9999999999999998*E**2) + 1.*h**(2*a)*(1. + 1.*z)**3)*(Om_m0))/h**(2*a)\n",
    "# fix friedmann"
   ]
  },
  {
   "cell_type": "code",
   "execution_count": 140,
   "id": "fd42c448-ded1-4b0f-9c50-29a4c61d8928",
   "metadata": {
    "execution": {
     "iopub.execute_input": "2021-10-15T22:07:24.028893Z",
     "iopub.status.busy": "2021-10-15T22:07:24.028893Z",
     "iopub.status.idle": "2021-10-15T22:07:24.045881Z",
     "shell.execute_reply": "2021-10-15T22:07:24.045881Z",
     "shell.execute_reply.started": "2021-10-15T22:07:24.028893Z"
    },
    "tags": []
   },
   "outputs": [
    {
     "name": "stdout",
     "output_type": "stream",
     "text": [
      "69.99932012446848\n"
     ]
    }
   ],
   "source": [
    "# Ηfunctionexp1(zs,[0.3,0.7])\n",
    "print(Ηfunction(0,[0.3,0.7,-0.5],equation_E4))"
   ]
  },
  {
   "cell_type": "code",
   "execution_count": 143,
   "id": "08d31e78-4141-4367-a7c8-bb0dd5499b31",
   "metadata": {
    "execution": {
     "iopub.execute_input": "2021-10-15T22:07:44.934785Z",
     "iopub.status.busy": "2021-10-15T22:07:44.934785Z",
     "iopub.status.idle": "2021-10-15T22:07:45.099346Z",
     "shell.execute_reply": "2021-10-15T22:07:45.099346Z",
     "shell.execute_reply.started": "2021-10-15T22:07:44.934785Z"
    },
    "tags": []
   },
   "outputs": [
    {
     "data": {
      "text/plain": [
       "[<matplotlib.lines.Line2D at 0x220a7d7bc10>]"
      ]
     },
     "execution_count": 143,
     "metadata": {},
     "output_type": "execute_result"
    },
    {
     "data": {
      "text/plain": [
       "[<matplotlib.lines.Line2D at 0x220a7d890a0>]"
      ]
     },
     "execution_count": 143,
     "metadata": {},
     "output_type": "execute_result"
    },
    {
     "data": {
      "image/png": "[encoded data removed]",
      "text/plain": [
       "<Figure size 432x288 with 1 Axes>"
      ]
     },
     "metadata": {
      "needs_background": "light"
     },
     "output_type": "display_data"
    }
   ],
   "source": [
    "plt.plot(zs,ΗfunctionLCDM(zs,[0.3,0.7]))\n",
    "plt.plot(zs,Ηfunction(zs,[0.3,0.7,1],equation_E4))"
   ]
  },
  {
   "cell_type": "code",
   "execution_count": 145,
   "id": "f544dc87-0470-4ab1-b91c-63d01032970f",
   "metadata": {
    "execution": {
     "iopub.execute_input": "2021-10-15T22:08:13.740872Z",
     "iopub.status.busy": "2021-10-15T22:08:13.740872Z",
     "iopub.status.idle": "2021-10-15T22:08:13.914373Z",
     "shell.execute_reply": "2021-10-15T22:08:13.914373Z",
     "shell.execute_reply.started": "2021-10-15T22:08:13.740872Z"
    },
    "tags": []
   },
   "outputs": [
    {
     "data": {
      "text/plain": [
       "array([0.69979565, 0.70978296, 0.71019945, 0.70716652, 0.70227583,\n",
       "       0.69619611, 0.68927417, 0.68171396, 0.67364616, 0.66516004,\n",
       "       0.65631971, 0.64717319, 0.63775773, 0.62810316, 0.61823401,\n",
       "       0.60817096, 0.59793187, 0.58753244, 0.57698673, 0.56630757,\n",
       "       0.5555068 , 0.54459549, 0.53358415, 0.52248278, 0.51130104,\n",
       "       0.5000483 , 0.48873372, 0.47736629, 0.46595487, 0.45450823,\n",
       "       0.44303511, 0.43154417, 0.42004409, 0.40854355, 0.39705123,\n",
       "       0.38557583, 0.37412612, 0.36271088, 0.35133894, 0.34001919,\n",
       "       0.32876056, 0.31757204, 0.30646267, 0.29544153, 0.28451774,\n",
       "       0.27370048, 0.26299892, 0.25242227, 0.24197976, 0.23168059,\n",
       "       0.22153393, 0.21154895, 0.20173471, 0.19210021, 0.18265434,\n",
       "       0.17340582, 0.16436324, 0.15553493, 0.14692901, 0.13855328,\n",
       "       0.13041521, 0.1225219 , 0.11487998, 0.1074956 , 0.10037436,\n",
       "       0.09352126, 0.0869406 , 0.08063597, 0.0746102 , 0.06886522,\n",
       "       0.06340212, 0.05822102, 0.05332108, 0.04870045, 0.04435625,\n",
       "       0.04028456, 0.03648046, 0.03293801, 0.0296503 , 0.02660951,\n",
       "       0.02380699, 0.0212333 , 0.01887836, 0.0167315 , 0.01478162,\n",
       "       0.01301729, 0.01142687, 0.00999864, 0.00872091, 0.00758215,\n",
       "       0.00657106, 0.00567669, 0.00488853, 0.00419652, 0.00359116,\n",
       "       0.00306353, 0.00260529, 0.00220874, 0.00186679, 0.00157293])"
      ]
     },
     "execution_count": 145,
     "metadata": {},
     "output_type": "execute_result"
    },
    {
     "data": {
      "text/plain": [
       "[<matplotlib.lines.Line2D at 0x220a7e40d30>]"
      ]
     },
     "execution_count": 145,
     "metadata": {},
     "output_type": "execute_result"
    },
    {
     "data": {
      "text/plain": [
       "[<matplotlib.lines.Line2D at 0x220a7e54190>]"
      ]
     },
     "execution_count": 145,
     "metadata": {},
     "output_type": "execute_result"
    },
    {
     "data": {
      "image/png": "[encoded data removed]",
      "text/plain": [
       "<Figure size 432x288 with 1 Axes>"
      ]
     },
     "metadata": {
      "needs_background": "light"
     },
     "output_type": "display_data"
    }
   ],
   "source": [
    "# fish plot for Ηfunction\n",
    "def omegalamda(zs,omegam,h):\n",
    "      return 1 - ((100*h)/Ηfunction(zs,[omegam,h,1,-1],equation_E4))**2*omegam*((1+zs)**3)\n",
    "omegalamda(zs,0.3,0.7)\n",
    "plt.plot(zs,omegalamda(zs,0.3,0.7))\n",
    "plt.plot(zs,((omegam)*((1+zs)**3))/((Ηfunction(zs,[omegam,h,-1],equation_E4)/(100*h))**2))\n",
    "# intersection point, to the left accelarated, to the right disaccelerated "
   ]
  },
  {
   "cell_type": "markdown",
   "id": "d6e74098-52d9-4493-ab76-bb365a962c04",
   "metadata": {
    "execution": {
     "iopub.execute_input": "2021-10-14T18:21:49.574857Z",
     "iopub.status.busy": "2021-10-14T18:21:49.574857Z",
     "iopub.status.idle": "2021-10-14T18:21:49.591812Z",
     "shell.execute_reply": "2021-10-14T18:21:49.591812Z",
     "shell.execute_reply.started": "2021-10-14T18:21:49.574857Z"
    },
    "jp-MarkdownHeadingCollapsed": true,
    "tags": []
   },
   "source": [
    "# Model 5"
   ]
  },
  {
   "cell_type": "code",
   "execution_count": 87,
   "id": "ff48219d-cf42-41e8-b002-8705e5aef029",
   "metadata": {
    "execution": {
     "iopub.execute_input": "2021-10-15T11:25:29.216900Z",
     "iopub.status.busy": "2021-10-15T11:25:29.216900Z",
     "iopub.status.idle": "2021-10-15T11:25:29.224902Z",
     "shell.execute_reply": "2021-10-15T11:25:29.224902Z",
     "shell.execute_reply.started": "2021-10-15T11:25:29.216900Z"
    },
    "tags": []
   },
   "outputs": [],
   "source": [
    "equation_E5 = lambda E,z: -E + E**2 - (-E + (1 + z)**3)*(Om_m0)"
   ]
  },
  {
   "cell_type": "code",
   "execution_count": 100,
   "id": "e0593366-ae39-47a9-8710-8170f26c791c",
   "metadata": {
    "execution": {
     "iopub.execute_input": "2021-10-15T11:40:36.766081Z",
     "iopub.status.busy": "2021-10-15T11:40:36.766081Z",
     "iopub.status.idle": "2021-10-15T11:40:36.786000Z",
     "shell.execute_reply": "2021-10-15T11:40:36.785001Z",
     "shell.execute_reply.started": "2021-10-15T11:40:36.766081Z"
    },
    "tags": []
   },
   "outputs": [
    {
     "name": "stdout",
     "output_type": "stream",
     "text": [
      "70.0\n"
     ]
    }
   ],
   "source": [
    "# Ηfunctionexp1(zs,[0.3,0.7])\n",
    "print(Ηfunction(0,[0.3,0.7,-0.5],equation_list[4]))"
   ]
  },
  {
   "cell_type": "code",
   "execution_count": 101,
   "id": "3c6aa4fc-9bc0-429f-89ad-4cbd80ffe32d",
   "metadata": {
    "execution": {
     "iopub.execute_input": "2021-10-15T11:40:38.395719Z",
     "iopub.status.busy": "2021-10-15T11:40:38.395719Z",
     "iopub.status.idle": "2021-10-15T11:40:38.579195Z",
     "shell.execute_reply": "2021-10-15T11:40:38.579195Z",
     "shell.execute_reply.started": "2021-10-15T11:40:38.395719Z"
    },
    "tags": []
   },
   "outputs": [
    {
     "data": {
      "text/plain": [
       "[<matplotlib.lines.Line2D at 0x220a66aa970>]"
      ]
     },
     "execution_count": 101,
     "metadata": {},
     "output_type": "execute_result"
    },
    {
     "data": {
      "text/plain": [
       "[<matplotlib.lines.Line2D at 0x220a66aad60>]"
      ]
     },
     "execution_count": 101,
     "metadata": {},
     "output_type": "execute_result"
    },
    {
     "data": {
      "image/png": "[encoded data removed]",
      "text/plain": [
       "<Figure size 432x288 with 1 Axes>"
      ]
     },
     "metadata": {
      "needs_background": "light"
     },
     "output_type": "display_data"
    }
   ],
   "source": [
    "plt.plot(zs,ΗfunctionLCDM(zs,[0.3,0.7]))\n",
    "plt.plot(zs,Ηfunction(zs,[0.3,0.7,1],equation_list[4]))"
   ]
  },
  {
   "cell_type": "code",
   "execution_count": 102,
   "id": "b3cdadf1-1dc2-4b2e-bcc6-9a7f7bfb1590",
   "metadata": {
    "execution": {
     "iopub.execute_input": "2021-10-15T11:41:28.762405Z",
     "iopub.status.busy": "2021-10-15T11:41:28.761405Z",
     "iopub.status.idle": "2021-10-15T11:41:28.958878Z",
     "shell.execute_reply": "2021-10-15T11:41:28.957885Z",
     "shell.execute_reply.started": "2021-10-15T11:41:28.762405Z"
    },
    "tags": []
   },
   "outputs": [
    {
     "data": {
      "text/plain": [
       "array([0.7       , 0.69025555, 0.6806075 , 0.67106248, 0.66162636,\n",
       "       0.6523042 , 0.64310039, 0.63401864, 0.62506206, 0.61623322,\n",
       "       0.60753415, 0.59896645, 0.59053128, 0.58222939, 0.57406122,\n",
       "       0.56602688, 0.55812618, 0.5503587 , 0.54272379, 0.53522058,\n",
       "       0.52784803, 0.52060496, 0.51349003, 0.5065018 , 0.49963869,\n",
       "       0.49289908, 0.48628123, 0.47978336, 0.47340363, 0.46714017,\n",
       "       0.46099106, 0.45495436, 0.4490281 , 0.44321033, 0.43749906,\n",
       "       0.43189232, 0.42638813, 0.42098453, 0.41567956, 0.41047129,\n",
       "       0.40535779, 0.40033716, 0.39540753, 0.39056703, 0.38581384,\n",
       "       0.38114616, 0.3765622 , 0.37206022, 0.36763851, 0.36329537,\n",
       "       0.35902916, 0.35483825, 0.35072104, 0.34667596, 0.3427015 ,\n",
       "       0.33879615, 0.33495843, 0.33118692, 0.3274802 , 0.3238369 ,\n",
       "       0.32025567, 0.31673519, 0.31327418, 0.30987137, 0.30652553,\n",
       "       0.30323547, 0.3       , 0.29681798, 0.29368828, 0.29060981,\n",
       "       0.2875815 , 0.2846023 , 0.28167119, 0.27878718, 0.27594928,\n",
       "       0.27315655, 0.27040806, 0.2677029 , 0.26504019, 0.26241905,\n",
       "       0.25983865, 0.25729817, 0.25479678, 0.25233372, 0.24990821,\n",
       "       0.2475195 , 0.24516685, 0.24284956, 0.24056693, 0.23831826,\n",
       "       0.2361029 , 0.2339202 , 0.23176952, 0.22965023, 0.22756174,\n",
       "       0.22550345, 0.22347477, 0.22147515, 0.21950404, 0.21756088])"
      ]
     },
     "execution_count": 102,
     "metadata": {},
     "output_type": "execute_result"
    },
    {
     "data": {
      "text/plain": [
       "[<matplotlib.lines.Line2D at 0x220a6716af0>]"
      ]
     },
     "execution_count": 102,
     "metadata": {},
     "output_type": "execute_result"
    },
    {
     "data": {
      "text/plain": [
       "[<matplotlib.lines.Line2D at 0x220a6716dc0>]"
      ]
     },
     "execution_count": 102,
     "metadata": {},
     "output_type": "execute_result"
    },
    {
     "data": {
      "image/png": "[encoded data removed]",
      "text/plain": [
       "<Figure size 432x288 with 1 Axes>"
      ]
     },
     "metadata": {
      "needs_background": "light"
     },
     "output_type": "display_data"
    }
   ],
   "source": [
    "# fish plot for Ηfunction\n",
    "def omegalamda(zs,omegam,h):\n",
    "      return 1 - ((100*h)/Ηfunction(zs,[omegam,h,1],equation_list[4]))**2*omegam*((1+zs)**3)\n",
    "omegalamda(zs,0.3,0.7)\n",
    "plt.plot(zs,omegalamda(zs,0.3,0.7))\n",
    "plt.plot(zs,((omegam)*((1+zs)**3))/((Ηfunction(zs,[omegam,h,1],equation_list[4])/(100*h))**2))\n",
    "# intersection point, to the left accelarated, to the right disaccelerated "
   ]
  },
  {
   "cell_type": "markdown",
   "id": "cbf6bed7-abf4-4ca3-8747-efd1fdc6e987",
   "metadata": {
    "execution": {
     "iopub.execute_input": "2021-10-14T18:21:49.574857Z",
     "iopub.status.busy": "2021-10-14T18:21:49.574857Z",
     "iopub.status.idle": "2021-10-14T18:21:49.591812Z",
     "shell.execute_reply": "2021-10-14T18:21:49.591812Z",
     "shell.execute_reply.started": "2021-10-14T18:21:49.574857Z"
    },
    "jp-MarkdownHeadingCollapsed": true,
    "tags": []
   },
   "source": [
    "# Model 6"
   ]
  },
  {
   "cell_type": "code",
   "execution_count": 104,
   "id": "52235ac9-ff60-4777-ad85-3e59f776d6b6",
   "metadata": {
    "execution": {
     "iopub.execute_input": "2021-10-15T11:42:18.361209Z",
     "iopub.status.busy": "2021-10-15T11:42:18.361209Z",
     "iopub.status.idle": "2021-10-15T11:42:18.371182Z",
     "shell.execute_reply": "2021-10-15T11:42:18.371182Z",
     "shell.execute_reply.started": "2021-10-15T11:42:18.361209Z"
    },
    "tags": []
   },
   "outputs": [],
   "source": [
    "equation_E6 = lambda E,z: E**2 - (1 + z)**3*(Om_m0) - (E**(-2 + 2*a)*(-1 + (Om_m0))*(-2*(1/(np.cosh(E**(-2))))**2 + (-1 + 2*a)*E**2*np.tanh(E**(-2))))/(2*(1/(np.cosh(1)))**2 + np.tanh(1) - 2*a*np.tanh(1))"
   ]
  },
  {
   "cell_type": "code",
   "execution_count": 107,
   "id": "c32da258-4a2f-4899-b67c-7a7556260b5f",
   "metadata": {
    "execution": {
     "iopub.execute_input": "2021-10-15T11:42:37.465171Z",
     "iopub.status.busy": "2021-10-15T11:42:37.465171Z",
     "iopub.status.idle": "2021-10-15T11:42:37.483112Z",
     "shell.execute_reply": "2021-10-15T11:42:37.483112Z",
     "shell.execute_reply.started": "2021-10-15T11:42:37.465171Z"
    },
    "tags": []
   },
   "outputs": [
    {
     "name": "stdout",
     "output_type": "stream",
     "text": [
      "70.0\n"
     ]
    }
   ],
   "source": [
    "# Ηfunctionexp1(zs,[0.3,0.7])\n",
    "print(Ηfunction(0,[0.3,0.7,-0.5],equation_list[5]))"
   ]
  },
  {
   "cell_type": "code",
   "execution_count": 109,
   "id": "50e03305-c635-4b8f-a546-eae2003495d6",
   "metadata": {
    "execution": {
     "iopub.execute_input": "2021-10-15T11:43:47.431108Z",
     "iopub.status.busy": "2021-10-15T11:43:47.431108Z",
     "iopub.status.idle": "2021-10-15T11:43:47.600652Z",
     "shell.execute_reply": "2021-10-15T11:43:47.600652Z",
     "shell.execute_reply.started": "2021-10-15T11:43:47.431108Z"
    },
    "tags": []
   },
   "outputs": [
    {
     "data": {
      "text/plain": [
       "[<matplotlib.lines.Line2D at 0x220a67dd700>]"
      ]
     },
     "execution_count": 109,
     "metadata": {},
     "output_type": "execute_result"
    },
    {
     "data": {
      "text/plain": [
       "[<matplotlib.lines.Line2D at 0x220a67ddb50>]"
      ]
     },
     "execution_count": 109,
     "metadata": {},
     "output_type": "execute_result"
    },
    {
     "data": {
      "image/png": "[encoded data removed]",
      "text/plain": [
       "<Figure size 432x288 with 1 Axes>"
      ]
     },
     "metadata": {
      "needs_background": "light"
     },
     "output_type": "display_data"
    }
   ],
   "source": [
    "plt.plot(zs,ΗfunctionLCDM(zs,[0.3,0.7]))\n",
    "plt.plot(zs,Ηfunction(zs,[0.3,0.7,0.5],equation_list[5]))"
   ]
  },
  {
   "cell_type": "code",
   "execution_count": 110,
   "id": "1afda828-01d2-40db-922e-0c66e184b9ad",
   "metadata": {
    "execution": {
     "iopub.execute_input": "2021-10-15T11:44:16.631692Z",
     "iopub.status.busy": "2021-10-15T11:44:16.631692Z",
     "iopub.status.idle": "2021-10-15T11:44:16.859116Z",
     "shell.execute_reply": "2021-10-15T11:44:16.858128Z",
     "shell.execute_reply.started": "2021-10-15T11:44:16.631692Z"
    },
    "tags": []
   },
   "outputs": [
    {
     "data": {
      "text/plain": [
       "array([0.7       , 0.69845543, 0.6938855 , 0.68773315, 0.68058677,\n",
       "       0.67274946, 0.66440026, 0.65565522, 0.646595  , 0.63727883,\n",
       "       0.62775221, 0.6180514 , 0.60820631, 0.5982422 , 0.58818096,\n",
       "       0.57804193, 0.56784242, 0.55759819, 0.54732372, 0.53703242,\n",
       "       0.52673683, 0.51644869, 0.50617908, 0.49593848, 0.48573682,\n",
       "       0.47558349, 0.46548744, 0.45545712, 0.44550058, 0.43562542,\n",
       "       0.42583883, 0.41614761, 0.40655815, 0.39707644, 0.3877081 ,\n",
       "       0.37845836, 0.36933205, 0.36033367, 0.3514673 , 0.34273671,\n",
       "       0.33414526, 0.32569599, 0.31739159, 0.3092344 , 0.30122646,\n",
       "       0.29336944, 0.28566476, 0.27811348, 0.27071641, 0.26347407,\n",
       "       0.25638669, 0.24945428, 0.24267659, 0.23605312, 0.22958317,\n",
       "       0.22326584, 0.21710001, 0.21108441, 0.20521757, 0.19949789,\n",
       "       0.19392361, 0.18849284, 0.18320359, 0.17805374, 0.17304107,\n",
       "       0.16816329, 0.16341803, 0.15880286, 0.15431528, 0.14995275,\n",
       "       0.1457127 , 0.14159252, 0.13758958, 0.13370125, 0.12992487,\n",
       "       0.1262578 , 0.12269738, 0.11924098, 0.11588598, 0.11262977,\n",
       "       0.10946979, 0.10640348, 0.10342831, 0.10054181, 0.09774153,\n",
       "       0.09502505, 0.09239001, 0.08983408, 0.08735498, 0.08495047,\n",
       "       0.08261837, 0.08035653, 0.07816286, 0.07603532, 0.07397191,\n",
       "       0.07197068, 0.07002974, 0.06814723, 0.06632136, 0.06455038])"
      ]
     },
     "execution_count": 110,
     "metadata": {},
     "output_type": "execute_result"
    },
    {
     "data": {
      "text/plain": [
       "[<matplotlib.lines.Line2D at 0x220a684b220>]"
      ]
     },
     "execution_count": 110,
     "metadata": {},
     "output_type": "execute_result"
    },
    {
     "data": {
      "text/plain": [
       "[<matplotlib.lines.Line2D at 0x220a684b640>]"
      ]
     },
     "execution_count": 110,
     "metadata": {},
     "output_type": "execute_result"
    },
    {
     "data": {
      "image/png": "[encoded data removed]",
      "text/plain": [
       "<Figure size 432x288 with 1 Axes>"
      ]
     },
     "metadata": {
      "needs_background": "light"
     },
     "output_type": "display_data"
    }
   ],
   "source": [
    "# fish plot for Ηfunction\n",
    "def omegalamda(zs,omegam,h):\n",
    "      return 1 - ((100*h)/Ηfunction(zs,[omegam,h,0.5],equation_list[5]))**2*omegam*((1+zs)**3)\n",
    "omegalamda(zs,0.3,0.7)\n",
    "plt.plot(zs,omegalamda(zs,0.3,0.7))\n",
    "plt.plot(zs,((omegam)*((1+zs)**3))/((Ηfunction(zs,[omegam,h,0.5],equation_list[5])/(100*h))**2))\n",
    "# intersection point, to the left accelarated, to the right disaccelerated "
   ]
  },
  {
   "cell_type": "markdown",
   "id": "9fd44cbd-09f1-4c6e-a376-4e5a840a34a6",
   "metadata": {
    "execution": {
     "iopub.execute_input": "2021-10-14T18:21:49.574857Z",
     "iopub.status.busy": "2021-10-14T18:21:49.574857Z",
     "iopub.status.idle": "2021-10-14T18:21:49.591812Z",
     "shell.execute_reply": "2021-10-14T18:21:49.591812Z",
     "shell.execute_reply.started": "2021-10-14T18:21:49.574857Z"
    },
    "jp-MarkdownHeadingCollapsed": true,
    "tags": []
   },
   "source": [
    "# Model 7"
   ]
  },
  {
   "cell_type": "code",
   "execution_count": 96,
   "id": "47354d18-2066-4f40-9e5f-bbe485fae08e",
   "metadata": {
    "execution": {
     "iopub.execute_input": "2021-10-15T11:28:04.471291Z",
     "iopub.status.busy": "2021-10-15T11:28:04.470294Z",
     "iopub.status.idle": "2021-10-15T11:28:04.478274Z",
     "shell.execute_reply": "2021-10-15T11:28:04.477276Z",
     "shell.execute_reply.started": "2021-10-15T11:28:04.471291Z"
    },
    "tags": []
   },
   "outputs": [],
   "source": [
    "equation_E7 = lambda E,z: E**2 + (np.exp(1)**(-1 + E**2)*(1 - E**2 + 2*E**4)*(-1 + (Om_m0)))/2 - (1 + z)**3*(Om_m0)"
   ]
  },
  {
   "cell_type": "code",
   "execution_count": 111,
   "id": "7237a755-2e04-4645-b77d-00a5a3b42ce1",
   "metadata": {
    "execution": {
     "iopub.execute_input": "2021-10-15T11:45:44.074055Z",
     "iopub.status.busy": "2021-10-15T11:45:44.074055Z",
     "iopub.status.idle": "2021-10-15T11:45:44.090039Z",
     "shell.execute_reply": "2021-10-15T11:45:44.090039Z",
     "shell.execute_reply.started": "2021-10-15T11:45:44.074055Z"
    },
    "tags": []
   },
   "outputs": [
    {
     "name": "stdout",
     "output_type": "stream",
     "text": [
      "70.0\n"
     ]
    }
   ],
   "source": [
    "# Ηfunctionexp1(zs,[0.3,0.7])\n",
    "print(Ηfunction(0,[0.3,0.7,-0.5],equation_list[6]))"
   ]
  },
  {
   "cell_type": "code",
   "execution_count": 114,
   "id": "e43709e7-aee5-4571-8e07-7b4b2444226a",
   "metadata": {
    "execution": {
     "iopub.execute_input": "2021-10-15T11:47:21.013975Z",
     "iopub.status.busy": "2021-10-15T11:47:21.013018Z",
     "iopub.status.idle": "2021-10-15T11:47:21.199923Z",
     "shell.execute_reply": "2021-10-15T11:47:21.199923Z",
     "shell.execute_reply.started": "2021-10-15T11:47:21.013975Z"
    },
    "tags": []
   },
   "outputs": [
    {
     "name": "stderr",
     "output_type": "stream",
     "text": [
      "C:\\Users\\VIKTOR~1\\AppData\\Local\\Temp/ipykernel_15012/2306859768.py:1: RuntimeWarning: overflow encountered in power\n",
      "  equation_E7 = lambda E,z: E**2 + (np.exp(1)**(-1 + E**2)*(1 - E**2 + 2*E**4)*(-1 + (Om_m0)))/2 - (1 + z)**3*(Om_m0)\n",
      "C:\\Users\\Viktor G\\.conda\\envs\\jupyterlab\\lib\\site-packages\\scipy\\optimize\\zeros.py:419: RuntimeWarning: invalid value encountered in true_divide\n",
      "  dp = (q1 * (p1 - p))[nz_der] / (q1 - q0)[nz_der]\n",
      "C:\\Users\\Viktor G\\.conda\\envs\\jupyterlab\\lib\\site-packages\\scipy\\optimize\\zeros.py:459: RuntimeWarning: some failed to converge after 50 iterations\n",
      "  warnings.warn(msg, RuntimeWarning)\n"
     ]
    },
    {
     "data": {
      "text/plain": [
       "array([ 7.00000000e-01,  6.72710583e-01,  6.40485141e-01,  5.99015894e-01,\n",
       "        5.05227402e-01, -2.14527630e+00,  5.31629233e-01, -1.50848972e-01,\n",
       "       -2.49368691e+03,  3.47702826e-01, -2.51620772e+01,  6.31404684e-01,\n",
       "                   nan,  4.78342911e-01,             nan, -2.20574868e+00,\n",
       "       -2.55802973e+01, -4.73009753e+00, -3.17549055e+01,             nan,\n",
       "       -1.95225515e+02,             nan,  9.51483961e-01,  4.24530759e-01,\n",
       "       -1.67984222e+01, -3.55817717e+01, -5.40374084e+02, -2.52975019e+01,\n",
       "       -1.28450549e+01, -1.15088941e+01, -1.05702212e+01, -9.55834430e+00,\n",
       "       -8.31318111e+00, -1.81487551e+00, -2.26272074e+00,             nan,\n",
       "       -3.15650937e+00, -7.83326970e+01, -9.18964946e+01, -1.59445317e+01,\n",
       "       -8.09405316e+00, -5.49565844e+00, -3.61448152e+00, -2.87056362e+00,\n",
       "       -1.67396619e+00, -3.56601303e+00, -1.08751852e+02, -7.82720251e+01,\n",
       "        8.31065807e-01, -7.90720499e+00,             nan,  7.94616086e-01,\n",
       "       -2.45723190e-01, -1.06288388e+01,             nan, -3.36731319e+01,\n",
       "       -1.18294261e+01,             nan, -4.89644086e+00, -1.15986759e+00,\n",
       "       -2.99330957e+01, -2.39276260e+02, -2.21439445e+01,             nan,\n",
       "       -6.39052763e+00, -1.01437961e+01, -2.59551703e+01, -2.81995691e+02,\n",
       "       -2.32313518e+01, -1.04493649e+01, -6.71843346e+00,             nan,\n",
       "       -3.54725232e+02, -5.26167021e+01,             nan, -8.49994301e+00,\n",
       "       -2.71248628e+00, -1.35270973e+02, -6.93915978e+01,             nan,\n",
       "       -9.19413677e+00,             nan, -1.09298697e+03, -4.36893554e+01,\n",
       "       -1.44713237e+01,             nan,             nan, -1.85283514e+02,\n",
       "                   nan, -1.09688729e+01,             nan, -1.73947361e+03,\n",
       "                   nan, -1.27933265e+01,             nan, -4.81484177e+03,\n",
       "                   nan, -1.33082521e+01,             nan, -5.08033684e+02])"
      ]
     },
     "execution_count": 114,
     "metadata": {},
     "output_type": "execute_result"
    },
    {
     "data": {
      "text/plain": [
       "[<matplotlib.lines.Line2D at 0x220a6972f10>]"
      ]
     },
     "execution_count": 114,
     "metadata": {},
     "output_type": "execute_result"
    },
    {
     "name": "stderr",
     "output_type": "stream",
     "text": [
      "C:\\Users\\VIKTOR~1\\AppData\\Local\\Temp/ipykernel_15012/2306859768.py:1: RuntimeWarning: overflow encountered in power\n",
      "  equation_E7 = lambda E,z: E**2 + (np.exp(1)**(-1 + E**2)*(1 - E**2 + 2*E**4)*(-1 + (Om_m0)))/2 - (1 + z)**3*(Om_m0)\n",
      "C:\\Users\\Viktor G\\.conda\\envs\\jupyterlab\\lib\\site-packages\\scipy\\optimize\\zeros.py:419: RuntimeWarning: invalid value encountered in true_divide\n",
      "  dp = (q1 * (p1 - p))[nz_der] / (q1 - q0)[nz_der]\n",
      "C:\\Users\\Viktor G\\.conda\\envs\\jupyterlab\\lib\\site-packages\\scipy\\optimize\\zeros.py:459: RuntimeWarning: some failed to converge after 50 iterations\n",
      "  warnings.warn(msg, RuntimeWarning)\n"
     ]
    },
    {
     "data": {
      "text/plain": [
       "[<matplotlib.lines.Line2D at 0x220a69804c0>]"
      ]
     },
     "execution_count": 114,
     "metadata": {},
     "output_type": "execute_result"
    },
    {
     "data": {
      "image/png": "[encoded data removed]",
      "text/plain": [
       "<Figure size 432x288 with 1 Axes>"
      ]
     },
     "metadata": {
      "needs_background": "light"
     },
     "output_type": "display_data"
    }
   ],
   "source": [
    "# fish plot for Ηfunction\n",
    "def omegalamda(zs,omegam,h):\n",
    "      return 1 - ((100*h)/Ηfunction(zs,[omegam,h,0.5],equation_list[6]))**2*omegam*((1+zs)**3)\n",
    "omegalamda(zs,0.3,0.7)\n",
    "plt.plot(zs,omegalamda(zs,0.3,0.7))\n",
    "plt.plot(zs,((omegam)*((1+zs)**3))/((Ηfunction(zs,[omegam,h,0.5],equation_list[6])/(100*h))**2))\n",
    "# intersection point, to the left accelarated, to the right disaccelerated "
   ]
  }
 ],
 "metadata": {
  "kernelspec": {
   "display_name": "Python 3 (ipykernel)",
   "language": "python",
   "name": "python3"
  },
  "language_info": {
   "codemirror_mode": {
    "name": "ipython",
    "version": 3
   },
   "file_extension": ".py",
   "mimetype": "text/x-python",
   "name": "python",
   "nbconvert_exporter": "python",
   "pygments_lexer": "ipython3",
   "version": "3.9.7"
  }
 },
 "nbformat": 4,
 "nbformat_minor": 5
}
