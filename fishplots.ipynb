{
 "cells": [
  {
   "cell_type": "markdown",
   "id": "7c1996ed-5c09-487e-a8c6-466ec8753826",
   "metadata": {
    "tags": []
   },
   "source": [
    "## General"
   ]
  },
  {
   "cell_type": "code",
   "execution_count": 1,
   "id": "a77f2baa-18e1-4ee3-91d9-250f4ad60d29",
   "metadata": {
    "tags": []
   },
   "outputs": [],
   "source": [
    "# evaluate all lines in cells\n",
    "from IPython.core.interactiveshell import InteractiveShell\n",
    "InteractiveShell.ast_node_interactivity = \"all\"\n",
    "\n",
    "import datetime\n",
    "# TODAY = datetime.datetime.today()"
   ]
  },
  {
   "cell_type": "code",
   "execution_count": 2,
   "id": "55bcd162-3e30-443d-a83d-8bb289a87fda",
   "metadata": {
    "tags": []
   },
   "outputs": [],
   "source": [
    "import matplotlib.pyplot as plt\n",
    "import numpy as np\n",
    "from scipy import special,optimize"
   ]
  },
  {
   "cell_type": "code",
   "execution_count": 45,
   "id": "2f6b8084-6dc3-4cfc-9425-1ffcdc7c0917",
   "metadata": {
    "tags": []
   },
   "outputs": [
    {
     "data": {
      "text/plain": [
       "array([0.        , 0.02525253, 0.05050505, 0.07575758, 0.1010101 ,\n",
       "       0.12626263, 0.15151515, 0.17676768, 0.2020202 , 0.22727273,\n",
       "       0.25252525, 0.27777778, 0.3030303 , 0.32828283, 0.35353535,\n",
       "       0.37878788, 0.4040404 , 0.42929293, 0.45454545, 0.47979798,\n",
       "       0.50505051, 0.53030303, 0.55555556, 0.58080808, 0.60606061,\n",
       "       0.63131313, 0.65656566, 0.68181818, 0.70707071, 0.73232323,\n",
       "       0.75757576, 0.78282828, 0.80808081, 0.83333333, 0.85858586,\n",
       "       0.88383838, 0.90909091, 0.93434343, 0.95959596, 0.98484848,\n",
       "       1.01010101, 1.03535354, 1.06060606, 1.08585859, 1.11111111,\n",
       "       1.13636364, 1.16161616, 1.18686869, 1.21212121, 1.23737374,\n",
       "       1.26262626, 1.28787879, 1.31313131, 1.33838384, 1.36363636,\n",
       "       1.38888889, 1.41414141, 1.43939394, 1.46464646, 1.48989899,\n",
       "       1.51515152, 1.54040404, 1.56565657, 1.59090909, 1.61616162,\n",
       "       1.64141414, 1.66666667, 1.69191919, 1.71717172, 1.74242424,\n",
       "       1.76767677, 1.79292929, 1.81818182, 1.84343434, 1.86868687,\n",
       "       1.89393939, 1.91919192, 1.94444444, 1.96969697, 1.99494949,\n",
       "       2.02020202, 2.04545455, 2.07070707, 2.0959596 , 2.12121212,\n",
       "       2.14646465, 2.17171717, 2.1969697 , 2.22222222, 2.24747475,\n",
       "       2.27272727, 2.2979798 , 2.32323232, 2.34848485, 2.37373737,\n",
       "       2.3989899 , 2.42424242, 2.44949495, 2.47474747, 2.5       ])"
      ]
     },
     "execution_count": 45,
     "metadata": {},
     "output_type": "execute_result"
    }
   ],
   "source": [
    "zs = np.linspace(0.0,2.5,100)\n",
    "zs"
   ]
  },
  {
   "cell_type": "code",
   "execution_count": 46,
   "id": "d8b36b85-0430-40f2-9d91-41739ef0bc77",
   "metadata": {
    "tags": []
   },
   "outputs": [],
   "source": [
    "def ΗfunctionLCDM(z,y):\n",
    "    omegam = y[0]\n",
    "    h = y[1]\n",
    "    E = (omegam*((1+z)**3)+(1-omegam))**0.5\n",
    "    return 100*h*E"
   ]
  },
  {
   "cell_type": "code",
   "execution_count": 47,
   "id": "4ca434ed-908f-4d41-aaf8-00572847e283",
   "metadata": {
    "tags": []
   },
   "outputs": [
    {
     "data": {
      "text/plain": [
       "array([ 70.        ,  70.81101271,  71.65309135,  72.52613299,\n",
       "        73.43000035,  74.36452438,  75.32950685,  76.32472293,\n",
       "        77.34992373,  78.40483879,  79.48917847,  80.60263631,\n",
       "        81.74489116,  82.91560939,  84.11444678,  85.34105047,\n",
       "        86.59506062,  87.87611207,  89.18383583,  90.51786044,\n",
       "        91.8778132 ,  93.26332132,  94.67401293,  96.10951801,\n",
       "        97.56946919,  99.05350249, 100.5612579 , 102.09238001,\n",
       "       103.64651845, 105.22332825, 106.82247027, 108.4436114 ,\n",
       "       110.08642487, 111.75059035, 113.43579416, 115.1417293 ,\n",
       "       116.86809558, 118.61459963, 120.38095488, 122.16688157,\n",
       "       123.97210671, 125.79636399, 127.63939377, 129.50094292,\n",
       "       131.38076476, 133.27861895, 135.19427137, 137.12749396,\n",
       "       139.07806467, 141.04576724, 143.03039112, 145.0317313 ,\n",
       "       147.0495882 , 149.0837675 , 151.13408002, 153.20034155,\n",
       "       155.28237275, 157.37999899, 159.49305023, 161.62136084,\n",
       "       163.76476954, 165.92311921, 168.09625679, 170.28403317,\n",
       "       172.48630304, 174.70292478, 176.93376036, 179.17867522,\n",
       "       181.43753816, 183.71022123, 185.99659964, 188.29655165,\n",
       "       190.60995848, 192.93670423, 195.27667575, 197.62976259,\n",
       "       199.9958569 , 202.37485337, 204.7666491 , 207.17114358,\n",
       "       209.58823858, 212.0178381 , 214.4598483 , 216.91417739,\n",
       "       219.38073564, 221.85943526, 224.35019037, 226.85291691,\n",
       "       229.36753262, 231.89395698, 234.43211112, 236.98191784,\n",
       "       239.54330147, 242.11618793, 244.70050457, 247.29618022,\n",
       "       249.90314511, 252.52133082, 255.15067025, 257.7910976 ])"
      ]
     },
     "execution_count": 47,
     "metadata": {},
     "output_type": "execute_result"
    }
   ],
   "source": [
    "ΗfunctionLCDM(zs,[0.3,0.7])"
   ]
  },
  {
   "cell_type": "code",
   "execution_count": 48,
   "id": "806266a8-18e1-473d-a55c-39550a4b9913",
   "metadata": {
    "tags": []
   },
   "outputs": [
    {
     "data": {
      "text/plain": [
       "[<matplotlib.lines.Line2D at 0x7fe6b7f68fd0>]"
      ]
     },
     "execution_count": 48,
     "metadata": {},
     "output_type": "execute_result"
    },
    {
     "data": {
      "image/png": "[encoded data removed]",
      "text/plain": [
       "<Figure size 432x288 with 1 Axes>"
      ]
     },
     "metadata": {
      "needs_background": "light"
     },
     "output_type": "display_data"
    }
   ],
   "source": [
    "plt.plot(zs,ΗfunctionLCDM(zs,[0.3,0.7]))"
   ]
  },
  {
   "cell_type": "code",
   "execution_count": 49,
   "id": "d7eefefa-bc65-4136-8114-4e9bd0cb1ab8",
   "metadata": {
    "tags": []
   },
   "outputs": [],
   "source": [
    "def Ηfunction(z,y,equationE):\n",
    "    '''\n",
    "    f(Q) = Qexp(lmbd*Q_0/Q)\n",
    "    '''\n",
    "    global  Om_m0, a, h\n",
    "    a = y[2]\n",
    "    Om_m0 = y[0]\n",
    "    h = y[1]\n",
    "    T_cmb = 2.7255\n",
    "    Omr = Om_m0/(1. + 2.5e4 * Om_m0 * h**2. * (T_cmb/2.7)**(-4.))\n",
    "    expr = (Om_m0 + Omr)/(-2*np.exp(0.5))\n",
    "    H_0 = 100*h\n",
    "    T_cmb = 2.7255\n",
    "    Om_r = Om_m0/(1. + 2.5e4 * Om_m0* h**2. * (T_cmb/2.7)**(-4.))\n",
    "    Og_mod = 31500. * (T_cmb/2.7)**(-4.)\n",
    "    Om_l = 1. - Om_m0- Om_r\n",
    "    x0E = (Om_m0*(1.+z)**3. + Om_r*(1.+ z)**4. + Om_l)**0.5\n",
    "    res = optimize.newton(equationE, x0E, args = (z,)) \n",
    "    return H_0*res"
   ]
  },
  {
   "cell_type": "code",
   "execution_count": 50,
   "id": "6c78d79a-bd9d-46e6-aa50-ae92989b2e47",
   "metadata": {
    "tags": []
   },
   "outputs": [
    {
     "data": {
      "text/plain": [
       "array([0.7       , 0.68405734, 0.66807352, 0.6520863 , 0.63613173,\n",
       "       0.62024391, 0.60445486, 0.58879437, 0.57328997, 0.55796684,\n",
       "       0.54284783, 0.52795344, 0.51330191, 0.49890922, 0.4847892 ,\n",
       "       0.47095363, 0.45741234, 0.4441733 , 0.43124277, 0.41862538,\n",
       "       0.40632432, 0.39434139, 0.38267717, 0.3713311 , 0.36030164,\n",
       "       0.34958633, 0.33918194, 0.32908453, 0.31928953, 0.30979189,\n",
       "       0.3005861 , 0.29166625, 0.28302616, 0.2746594 , 0.26655933,\n",
       "       0.25871918, 0.25113208, 0.24379109, 0.23668926, 0.22981964,\n",
       "       0.22317532, 0.21674942, 0.21053517, 0.20452587, 0.19871495,\n",
       "       0.19309594, 0.18766252, 0.18240849, 0.17732781, 0.17241459,\n",
       "       0.16766309, 0.16306774, 0.15862312, 0.15432398, 0.1501652 ,\n",
       "       0.14614187, 0.14224919, 0.13848255, 0.13483747, 0.13130964,\n",
       "       0.12789488, 0.12458918, 0.12138864, 0.11828952, 0.11528821,\n",
       "       0.11238123, 0.10956522, 0.10683695, 0.10419331, 0.1016313 ,\n",
       "       0.09914803, 0.09674074, 0.09440673, 0.09214344, 0.08994839,\n",
       "       0.08781919, 0.08575355, 0.08374927, 0.08180421, 0.07991634,\n",
       "       0.07808369, 0.07630435, 0.07457652, 0.07289844, 0.07126842,\n",
       "       0.06968484, 0.06814614, 0.0666508 , 0.06519739, 0.06378451,\n",
       "       0.06241082, 0.06107503, 0.05977589, 0.05851221, 0.05728282,\n",
       "       0.05608662, 0.05492255, 0.05378956, 0.05268666, 0.0516129 ])"
      ]
     },
     "execution_count": 50,
     "metadata": {},
     "output_type": "execute_result"
    },
    {
     "data": {
      "text/plain": [
       "[<matplotlib.lines.Line2D at 0x7fe6b7ee73a0>]"
      ]
     },
     "execution_count": 50,
     "metadata": {},
     "output_type": "execute_result"
    },
    {
     "data": {
      "text/plain": [
       "[<matplotlib.lines.Line2D at 0x7fe6b7ee76d0>]"
      ]
     },
     "execution_count": 50,
     "metadata": {},
     "output_type": "execute_result"
    },
    {
     "data": {
      "image/png": "[encoded data removed]",
      "text/plain": [
       "<Figure size 432x288 with 1 Axes>"
      ]
     },
     "metadata": {
      "needs_background": "light"
     },
     "output_type": "display_data"
    }
   ],
   "source": [
    "# fish plot for LCDM \n",
    "# \\Omega_{\\Lambda} = E**2 -Omega_{m0} (1+z)**3\n",
    "omegam = 0.2\n",
    "h = 0.6\n",
    "def omegalamda(zs,omegam,h):\n",
    "      return 1 - ((100*h)/ΗfunctionLCDM(zs,[omegam,h]))**2*omegam*((1+zs)**3)\n",
    "omegalamda(zs,0.3,0.7)\n",
    "plt.plot(zs,omegalamda(zs,0.3,0.7))\n",
    "plt.plot(zs,((omegam)*((1+zs)**3))/((ΗfunctionLCDM(zs,[omegam,h])/(100*h))**2))\n",
    "# intersection point(transition redshift), to the left accelarated, to the right disaccelerated "
   ]
  },
  {
   "cell_type": "markdown",
   "id": "1e09f21e-4ce8-4d36-87b0-43b227459d6b",
   "metadata": {
    "execution": {
     "iopub.execute_input": "2021-10-14T18:21:49.574857Z",
     "iopub.status.busy": "2021-10-14T18:21:49.574857Z",
     "iopub.status.idle": "2021-10-14T18:21:49.591812Z",
     "shell.execute_reply": "2021-10-14T18:21:49.591812Z",
     "shell.execute_reply.started": "2021-10-14T18:21:49.574857Z"
    },
    "tags": []
   },
   "source": [
    "# Model 1"
   ]
  },
  {
   "cell_type": "code",
   "execution_count": 91,
   "id": "6a9b08e4-9f7d-4a96-998a-e9945bf845c7",
   "metadata": {
    "tags": []
   },
   "outputs": [],
   "source": [
    "equation_E1 = lambda E,z: E**2 + E**(2*a)*(-1 + (Om_m0)) - (1 + z)**3*(Om_m0)"
   ]
  },
  {
   "cell_type": "code",
   "execution_count": 92,
   "id": "694a369f-3fd7-4347-9a40-af4e4e1f6b0a",
   "metadata": {
    "tags": []
   },
   "outputs": [
    {
     "name": "stdout",
     "output_type": "stream",
     "text": [
      "70.0\n"
     ]
    }
   ],
   "source": [
    "# Ηfunctionexp1(zs,[0.3,0.7])\n",
    "print(Ηfunction(0,[0.3,0.7,-0.5],equation_E1))"
   ]
  },
  {
   "cell_type": "code",
   "execution_count": 93,
   "id": "37921621-5688-469a-9090-8509ef11168c",
   "metadata": {
    "tags": []
   },
   "outputs": [
    {
     "data": {
      "text/plain": [
       "[<matplotlib.lines.Line2D at 0x7fe6b778a9d0>]"
      ]
     },
     "execution_count": 93,
     "metadata": {},
     "output_type": "execute_result"
    },
    {
     "data": {
      "text/plain": [
       "[<matplotlib.lines.Line2D at 0x7fe6b778ae20>]"
      ]
     },
     "execution_count": 93,
     "metadata": {},
     "output_type": "execute_result"
    },
    {
     "data": {
      "image/png": "[encoded data removed]",
      "text/plain": [
       "<Figure size 432x288 with 1 Axes>"
      ]
     },
     "metadata": {
      "needs_background": "light"
     },
     "output_type": "display_data"
    }
   ],
   "source": [
    "plt.plot(zs,ΗfunctionLCDM(zs,[0.3,0.7]))\n",
    "plt.plot(zs,Ηfunction(zs,[0.3,0.7,-0.5],equation_E1))"
   ]
  },
  {
   "cell_type": "code",
   "execution_count": 94,
   "id": "869cad73-34ef-4c8e-a314-e5fdf0976cc7",
   "metadata": {
    "tags": []
   },
   "outputs": [
    {
     "data": {
      "text/plain": [
       "array([0.7       , 0.68281644, 0.66548058, 0.64803722, 0.63053068,\n",
       "       0.61300437, 0.5955005 , 0.57805978, 0.56072113, 0.54352144,\n",
       "       0.52649539, 0.50967527, 0.49309086, 0.47676937, 0.46073533,\n",
       "       0.44501063, 0.42961452, 0.41456361, 0.39987201, 0.38555134,\n",
       "       0.37161091, 0.35805778, 0.34489695, 0.33213146, 0.31976254,\n",
       "       0.30778979, 0.29621131, 0.28502383, 0.27422292, 0.26380305,\n",
       "       0.25375778, 0.24407988, 0.23476143, 0.22579397, 0.21716854,\n",
       "       0.20887585, 0.20090633, 0.1932502 , 0.18589756, 0.17883845,\n",
       "       0.17206289, 0.16556097, 0.15932284, 0.15333878, 0.14759924,\n",
       "       0.14209483, 0.13681638, 0.13175493, 0.12690177, 0.12224841,\n",
       "       0.11778666, 0.11350855, 0.1094064 , 0.10547278, 0.10170055,\n",
       "       0.0980828 , 0.09461292, 0.09128452, 0.0880915 , 0.08502797,\n",
       "       0.08208832, 0.07926715, 0.07655929, 0.0739598 , 0.07146395,\n",
       "       0.06906721, 0.06676526, 0.06455396, 0.06242937, 0.06038772,\n",
       "       0.05842539, 0.05653896, 0.05472513, 0.05298078, 0.05130291,\n",
       "       0.04968866, 0.04813532, 0.04664028, 0.04520106, 0.04381529,\n",
       "       0.04248072, 0.04119518, 0.03995663, 0.03876309, 0.03761269,\n",
       "       0.03650366, 0.03543426, 0.03440289, 0.03340798, 0.03244804,\n",
       "       0.03152166, 0.03062747, 0.0297642 , 0.02893059, 0.02812546,\n",
       "       0.0273477 , 0.02659621, 0.02586997, 0.02516799, 0.02448932])"
      ]
     },
     "execution_count": 94,
     "metadata": {},
     "output_type": "execute_result"
    },
    {
     "data": {
      "text/plain": [
       "[<matplotlib.lines.Line2D at 0x7fe6b76f7730>]"
      ]
     },
     "execution_count": 94,
     "metadata": {},
     "output_type": "execute_result"
    },
    {
     "data": {
      "text/plain": [
       "[<matplotlib.lines.Line2D at 0x7fe6b76f7b80>]"
      ]
     },
     "execution_count": 94,
     "metadata": {},
     "output_type": "execute_result"
    },
    {
     "data": {
      "image/png": "[encoded data removed]",
      "text/plain": [
       "<Figure size 432x288 with 1 Axes>"
      ]
     },
     "metadata": {
      "needs_background": "light"
     },
     "output_type": "display_data"
    }
   ],
   "source": [
    "omegam = 0.3\n",
    "h = 0.6\n",
    "a = -0.3\n",
    "def omegalamda(zs,omegam,h):\n",
    "      return 1 - ((100*h)/Ηfunction(zs,[omegam,h,a],equation_E1))**2*omegam*((1+zs)**3)\n",
    "omegalamda(zs,0.3,0.7)\n",
    "plt.plot(zs,omegalamda(zs,0.3,0.7))\n",
    "plt.plot(zs,((omegam)*((1+zs)**3))/((Ηfunction(zs,[omegam,h,a],equation_E1)/(100*h))**2))\n",
    "# intersection point(transition redshift), to the left accelarated, to the right "
   ]
  },
  {
   "cell_type": "markdown",
   "id": "f2b9b5fc-11a2-45c5-af23-d4386604e54a",
   "metadata": {
    "execution": {
     "iopub.execute_input": "2021-10-14T18:21:49.574857Z",
     "iopub.status.busy": "2021-10-14T18:21:49.574857Z",
     "iopub.status.idle": "2021-10-14T18:21:49.591812Z",
     "shell.execute_reply": "2021-10-14T18:21:49.591812Z",
     "shell.execute_reply.started": "2021-10-14T18:21:49.574857Z"
    },
    "tags": []
   },
   "source": [
    "# Model 2"
   ]
  },
  {
   "cell_type": "code",
   "execution_count": 72,
   "id": "6b19ec93-9e5f-4806-8bf4-25dde458ad1e",
   "metadata": {
    "tags": []
   },
   "outputs": [],
   "source": [
    "def Ηfunctionexp1(z,y):\n",
    "    '''\n",
    "    f(Q) = Qexp(lmbd*Q_0/Q)\n",
    "    '''\n",
    "    Om_m0 = y[0]\n",
    "    h = y[1]\n",
    "    T_cmb = 2.7255\n",
    "    Omr = Om_m0/(1. + 2.5e4 * Om_m0 * h**2. * (T_cmb/2.7)**(-4.))\n",
    "    expr = (Om_m0 + Omr)/(-2*np.exp(0.5))\n",
    "    a = (0.5 + special.lambertw(expr,k=0)).real\n",
    "    H_0 = 100*h\n",
    "    T_cmb = 2.7255\n",
    "    Om_r = Om_m0/(1. + 2.5e4 * Om_m0* h**2. * (T_cmb/2.7)**(-4.))\n",
    "    Og_mod = 31500. * (T_cmb/2.7)**(-4.)\n",
    "    Om_l = 1. - Om_m0- Om_r\n",
    "    x0E = (Om_m0*(1.+z)**3. + Om_r*(1.+z)**4. + Om_l)**0.5\n",
    "    equation_E = lambda E: (E**2.- 2*a)* np.exp(a*1./E**2)- Om_m0*(1.+z)**3- Om_r*(1.+z)**4\n",
    "    res = optimize.newton(equation_E, x0E) \n",
    "    return H_0*res"
   ]
  },
  {
   "cell_type": "code",
   "execution_count": 73,
   "id": "cd9228d2-b71d-4380-a284-17fb92861cc0",
   "metadata": {
    "tags": []
   },
   "outputs": [
    {
     "name": "stdout",
     "output_type": "stream",
     "text": [
      "70.0\n"
     ]
    }
   ],
   "source": [
    "# Ηfunctionexp1(zs,[0.3,0.7])\n",
    "print(Ηfunctionexp1(0,[0.3,0.7]))"
   ]
  },
  {
   "cell_type": "code",
   "execution_count": 74,
   "id": "c9ae03a7-f617-4be5-bed3-25e3b027cf2a",
   "metadata": {
    "tags": []
   },
   "outputs": [
    {
     "data": {
      "text/plain": [
       "[<matplotlib.lines.Line2D at 0x7fe6b7a3c3a0>]"
      ]
     },
     "execution_count": 74,
     "metadata": {},
     "output_type": "execute_result"
    },
    {
     "data": {
      "text/plain": [
       "[<matplotlib.lines.Line2D at 0x7fe6b7a3c7f0>]"
      ]
     },
     "execution_count": 74,
     "metadata": {},
     "output_type": "execute_result"
    },
    {
     "data": {
      "image/png": "[encoded data removed]",
      "text/plain": [
       "<Figure size 432x288 with 1 Axes>"
      ]
     },
     "metadata": {
      "needs_background": "light"
     },
     "output_type": "display_data"
    }
   ],
   "source": [
    "plt.plot(zs,ΗfunctionLCDM(zs,[0.3,0.7]))\n",
    "plt.plot(zs,Ηfunctionexp1(zs,[0.3,0.7]))"
   ]
  },
  {
   "cell_type": "code",
   "execution_count": 75,
   "id": "bce1de1c-751b-4742-9096-c76a42db3942",
   "metadata": {
    "tags": []
   },
   "outputs": [
    {
     "data": {
      "text/plain": [
       "array([0.7       , 0.68405734, 0.66807352, 0.6520863 , 0.63613173,\n",
       "       0.62024391, 0.60445486, 0.58879437, 0.57328997, 0.55796684,\n",
       "       0.54284783, 0.52795344, 0.51330191, 0.49890922, 0.4847892 ,\n",
       "       0.47095363, 0.45741234, 0.4441733 , 0.43124277, 0.41862538,\n",
       "       0.40632432, 0.39434139, 0.38267717, 0.3713311 , 0.36030164,\n",
       "       0.34958633, 0.33918194, 0.32908453, 0.31928953, 0.30979189,\n",
       "       0.3005861 , 0.29166625, 0.28302616, 0.2746594 , 0.26655933,\n",
       "       0.25871918, 0.25113208, 0.24379109, 0.23668926, 0.22981964,\n",
       "       0.22317532, 0.21674942, 0.21053517, 0.20452587, 0.19871495,\n",
       "       0.19309594, 0.18766252, 0.18240849, 0.17732781, 0.17241459,\n",
       "       0.16766309, 0.16306774, 0.15862312, 0.15432398, 0.1501652 ,\n",
       "       0.14614187, 0.14224919, 0.13848255, 0.13483747, 0.13130964,\n",
       "       0.12789488, 0.12458918, 0.12138864, 0.11828952, 0.11528821,\n",
       "       0.11238123, 0.10956522, 0.10683695, 0.10419331, 0.1016313 ,\n",
       "       0.09914803, 0.09674074, 0.09440673, 0.09214344, 0.08994839,\n",
       "       0.08781919, 0.08575355, 0.08374927, 0.08180421, 0.07991634,\n",
       "       0.07808369, 0.07630435, 0.07457652, 0.07289844, 0.07126842,\n",
       "       0.06968484, 0.06814614, 0.0666508 , 0.06519739, 0.06378451,\n",
       "       0.06241082, 0.06107503, 0.05977589, 0.05851221, 0.05728282,\n",
       "       0.05608662, 0.05492255, 0.05378956, 0.05268666, 0.0516129 ])"
      ]
     },
     "execution_count": 75,
     "metadata": {},
     "output_type": "execute_result"
    },
    {
     "data": {
      "text/plain": [
       "[<matplotlib.lines.Line2D at 0x7fe6b7a28310>]"
      ]
     },
     "execution_count": 75,
     "metadata": {},
     "output_type": "execute_result"
    },
    {
     "data": {
      "text/plain": [
       "[<matplotlib.lines.Line2D at 0x7fe6b7a28760>]"
      ]
     },
     "execution_count": 75,
     "metadata": {},
     "output_type": "execute_result"
    },
    {
     "data": {
      "image/png": "[encoded data removed]",
      "text/plain": [
       "<Figure size 432x288 with 1 Axes>"
      ]
     },
     "metadata": {
      "needs_background": "light"
     },
     "output_type": "display_data"
    }
   ],
   "source": [
    "# fish plot for LCDM \n",
    "# \\Omega_{\\Lambda} = E**2 -Omega_{m0} (1+z)**3\n",
    "omegam = 0.2\n",
    "h = 0.6\n",
    "def omegalamda(zs,omegam,h):\n",
    "      return 1 - ((100*h)/ΗfunctionLCDM(zs,[omegam,h]))**2*omegam*((1+zs)**3)\n",
    "omegalamda(zs,0.3,0.7)\n",
    "plt.plot(zs,omegalamda(zs,0.3,0.7))\n",
    "plt.plot(zs,((omegam)*((1+zs)**3))/((ΗfunctionLCDM(zs,[omegam,h])/(100*h))**2))\n",
    "# intersection point(transition redshift), to the left accelarated, to the right disaccelerated "
   ]
  },
  {
   "cell_type": "code",
   "execution_count": 76,
   "id": "2f5e2ce2-c0f1-4f0e-95d2-c9cd915bc2d2",
   "metadata": {
    "tags": []
   },
   "outputs": [
    {
     "data": {
      "text/plain": [
       "array([0.7       , 0.6821295 , 0.66405735, 0.64583617, 0.62751906,\n",
       "       0.60915905, 0.59080853, 0.57251874, 0.55433924, 0.53631745,\n",
       "       0.5184982 , 0.50092336, 0.48363152, 0.46665774, 0.45003338,\n",
       "       0.43378596, 0.41793914, 0.40251275, 0.38752285, 0.37298187,\n",
       "       0.3588988 , 0.34527939, 0.33212641, 0.31943988, 0.30721739,\n",
       "       0.29545431, 0.28414412, 0.27327866, 0.26284837, 0.25284256,\n",
       "       0.24324958, 0.23405709, 0.22525219, 0.21682162, 0.20875188,\n",
       "       0.20102937, 0.1936405 , 0.1865718 , 0.17980995, 0.1733419 ,\n",
       "       0.16715487, 0.16123645, 0.15557457, 0.15015759, 0.14497425,\n",
       "       0.14001372, 0.13526561, 0.13071995, 0.12636719, 0.12219821,\n",
       "       0.1182043 , 0.11437714, 0.11070882, 0.1071918 , 0.1038189 ,\n",
       "       0.10058329, 0.09747849, 0.09449834, 0.09163698, 0.08888884,\n",
       "       0.08624865, 0.08371141, 0.08127234, 0.07892694, 0.07667092,\n",
       "       0.07450021, 0.07241096, 0.07039949, 0.06846234, 0.06659618,\n",
       "       0.0647979 , 0.06306451, 0.06139317, 0.05978121, 0.05822606,\n",
       "       0.05672529, 0.0552766 , 0.05387779, 0.05252676, 0.05122154,\n",
       "       0.04996023, 0.04874103, 0.04756221, 0.04642216, 0.04531931,\n",
       "       0.04425217, 0.04321934, 0.04221947, 0.04125126, 0.04031349,\n",
       "       0.03940499, 0.03852463, 0.03767136, 0.03684415, 0.03604202,\n",
       "       0.03526405, 0.03450933, 0.03377702, 0.0330663 , 0.0323764 ])"
      ]
     },
     "execution_count": 76,
     "metadata": {},
     "output_type": "execute_result"
    },
    {
     "data": {
      "text/plain": [
       "[<matplotlib.lines.Line2D at 0x7fe6b798c070>]"
      ]
     },
     "execution_count": 76,
     "metadata": {},
     "output_type": "execute_result"
    },
    {
     "data": {
      "text/plain": [
       "[<matplotlib.lines.Line2D at 0x7fe6b798c340>]"
      ]
     },
     "execution_count": 76,
     "metadata": {},
     "output_type": "execute_result"
    },
    {
     "data": {
      "image/png": "[encoded data removed]",
      "text/plain": [
       "<Figure size 432x288 with 1 Axes>"
      ]
     },
     "metadata": {
      "needs_background": "light"
     },
     "output_type": "display_data"
    }
   ],
   "source": [
    "# fish plot for exp1 \n",
    "def omegalamda(zs,omegam,h):\n",
    "      return 1 - ((100*h)/Ηfunctionexp1(zs,[omegam,h]))**2*omegam*((1+zs)**3)\n",
    "omegalamda(zs,0.3,0.7)\n",
    "plt.plot(zs,omegalamda(zs,0.3,0.7))\n",
    "plt.plot(zs,((omegam)*((1+zs)**3))/((Ηfunctionexp1(zs,[omegam,h])/(100*h))**2))\n",
    "# intersection point, to the left accelarated, to the right disaccelerated "
   ]
  },
  {
   "cell_type": "markdown",
   "id": "df267e49-1e3e-451d-866b-1d20aaaec4bd",
   "metadata": {
    "execution": {
     "iopub.execute_input": "2021-10-14T18:21:49.574857Z",
     "iopub.status.busy": "2021-10-14T18:21:49.574857Z",
     "iopub.status.idle": "2021-10-14T18:21:49.591812Z",
     "shell.execute_reply": "2021-10-14T18:21:49.591812Z",
     "shell.execute_reply.started": "2021-10-14T18:21:49.574857Z"
    },
    "tags": []
   },
   "source": [
    "# Model 3"
   ]
  },
  {
   "cell_type": "code",
   "execution_count": 77,
   "id": "87944e9c-ab88-42b5-a119-6863e0a01b8d",
   "metadata": {
    "tags": []
   },
   "outputs": [],
   "source": [
    "equation_E3 = lambda E,z: E**2 - (1 + z)**3*(Om_m0) - E**2*(1 + np.exp(1)**((E**2*(-1 + 2*special.lambertw((np.sqrt(np.exp(1))*(Om_m0))/2).real))/2)*(-1 + E**2 - 2*E**2*special.lambertw((np.sqrt(np.exp(1))*(Om_m0))/2).real))"
   ]
  },
  {
   "cell_type": "code",
   "execution_count": 78,
   "id": "87a9db70-39fb-454d-815a-6a4b20e0ca23",
   "metadata": {
    "tags": []
   },
   "outputs": [
    {
     "name": "stdout",
     "output_type": "stream",
     "text": [
      "70.0\n"
     ]
    }
   ],
   "source": [
    "# Ηfunctionexp1(zs,[0.3,0.7])\n",
    "print(Ηfunction(0,[0.3,0.7,-0.5],equation_E3))"
   ]
  },
  {
   "cell_type": "code",
   "execution_count": 79,
   "id": "547fac91-dd88-4438-bc62-148c5c45d275",
   "metadata": {
    "tags": []
   },
   "outputs": [
    {
     "data": {
      "text/plain": [
       "[<matplotlib.lines.Line2D at 0x7fe6b795b550>]"
      ]
     },
     "execution_count": 79,
     "metadata": {},
     "output_type": "execute_result"
    },
    {
     "name": "stderr",
     "output_type": "stream",
     "text": [
      "/home/fotis/miniconda3/lib/python3.8/site-packages/scipy/optimize/zeros.py:445: RuntimeWarning: RMS of 124.862 reached\n",
      "  warnings.warn(\n"
     ]
    },
    {
     "data": {
      "text/plain": [
       "[<matplotlib.lines.Line2D at 0x7fe6b795bac0>]"
      ]
     },
     "execution_count": 79,
     "metadata": {},
     "output_type": "execute_result"
    },
    {
     "data": {
      "image/png": "[encoded data removed]",
      "text/plain": [
       "<Figure size 432x288 with 1 Axes>"
      ]
     },
     "metadata": {
      "needs_background": "light"
     },
     "output_type": "display_data"
    }
   ],
   "source": [
    "plt.plot(zs,ΗfunctionLCDM(zs,[0.3,0.7]))\n",
    "plt.plot(zs,Ηfunction(zs,[0.3,0.7,-0.5],equation_E3))"
   ]
  },
  {
   "cell_type": "code",
   "execution_count": 80,
   "id": "e770f987-6e21-48ee-a31f-ee47bcaba7b9",
   "metadata": {
    "tags": []
   },
   "outputs": [
    {
     "name": "stderr",
     "output_type": "stream",
     "text": [
      "/home/fotis/miniconda3/lib/python3.8/site-packages/scipy/optimize/zeros.py:445: RuntimeWarning: RMS of 124.862 reached\n",
      "  warnings.warn(\n"
     ]
    },
    {
     "data": {
      "text/plain": [
       "array([0.7       , 0.62840636, 1.        , 0.78624319, 1.        ,\n",
       "       1.        , 1.        , 1.        , 1.        , 1.        ,\n",
       "       1.        , 1.        , 1.        , 1.        , 1.        ,\n",
       "       1.        , 1.        , 1.        , 1.        , 1.        ,\n",
       "       1.        , 1.        , 1.        , 1.        , 1.        ,\n",
       "       0.99902472, 1.        , 1.        , 1.        , 1.        ,\n",
       "       1.        , 1.        , 1.        , 1.        , 1.        ,\n",
       "       1.        , 1.        , 1.        , 1.        , 1.        ,\n",
       "       1.        , 1.        , 1.        , 1.        , 0.99997611,\n",
       "       1.        , 0.99953545, 1.        , 1.        , 1.        ,\n",
       "       1.        , 1.        , 1.        , 1.        , 1.        ,\n",
       "       1.        , 1.        , 1.        , 1.        , 1.        ,\n",
       "       1.        , 1.        , 1.        , 1.        , 1.        ,\n",
       "       1.        , 1.        , 1.        , 1.        , 1.        ,\n",
       "       0.99656474, 1.        , 1.        , 1.        , 1.        ,\n",
       "       1.        , 1.        , 1.        , 1.        , 1.        ,\n",
       "       0.99424011, 1.        , 1.        , 0.99116767, 1.        ,\n",
       "       1.        , 1.        , 1.        , 1.        , 1.        ,\n",
       "       1.        , 1.        , 1.        , 1.        , 1.        ,\n",
       "       1.        , 1.        , 1.        , 1.        , 1.        ])"
      ]
     },
     "execution_count": 80,
     "metadata": {},
     "output_type": "execute_result"
    },
    {
     "data": {
      "text/plain": [
       "[<matplotlib.lines.Line2D at 0x7fe6b78bbd30>]"
      ]
     },
     "execution_count": 80,
     "metadata": {},
     "output_type": "execute_result"
    },
    {
     "name": "stderr",
     "output_type": "stream",
     "text": [
      "/home/fotis/miniconda3/lib/python3.8/site-packages/scipy/optimize/zeros.py:445: RuntimeWarning: RMS of 176.704 reached\n",
      "  warnings.warn(\n"
     ]
    },
    {
     "data": {
      "text/plain": [
       "[<matplotlib.lines.Line2D at 0x7fe6b78cf310>]"
      ]
     },
     "execution_count": 80,
     "metadata": {},
     "output_type": "execute_result"
    },
    {
     "data": {
      "image/png": "[encoded data removed]",
      "text/plain": [
       "<Figure size 432x288 with 1 Axes>"
      ]
     },
     "metadata": {
      "needs_background": "light"
     },
     "output_type": "display_data"
    }
   ],
   "source": [
    "# fish plot for Ηfunction\n",
    "def omegalamda(zs,omegam,h):\n",
    "      return 1 - ((100*h)/Ηfunction(zs,[omegam,h,1,-0.5],equation_E3))**2*omegam*((1+zs)**3)\n",
    "omegalamda(zs,0.3,0.7)\n",
    "plt.plot(zs,omegalamda(zs,0.3,0.7))\n",
    "plt.plot(zs,((omegam)*((1+zs)**3))/((Ηfunction(zs,[omegam,h,-0.5],equation_E3)/(100*h))**2))\n",
    "# intersection point, to the left accelarated, to the right disaccelerated "
   ]
  },
  {
   "cell_type": "markdown",
   "id": "2097b89f-baf5-47f2-b04f-cc1ad60fec50",
   "metadata": {
    "tags": []
   },
   "source": [
    "# Model 4"
   ]
  },
  {
   "cell_type": "code",
   "execution_count": 81,
   "id": "1e7e77f5-d020-4706-b241-23b91c4557f4",
   "metadata": {
    "tags": []
   },
   "outputs": [],
   "source": [
    "equation_E4 = lambda E,z: E**2 - (100**(2.7755575615628914*(10**-17)*np.exp(1)**(a - special.lambertw((np.exp(1)**(-1/2 + a)*(-1 + (Om_m0)))/2).real))*\n",
    "    h**(np.exp(1)**(a - special.lambertw((np.exp(1)**(-1/2 + a)*(-1 + (Om_m0)))/2).real)*(-0.18201499873448362 + \n",
    "       0.6065306597126335*(Om_m0)))*\n",
    "    (h*E)**(2*a + np.exp(1)**(a - special.lambertw((np.exp(1)**(-1/2 + a)*(-1 + (Om_m0)))/2).real)*\n",
    "       (0.18201499873448365 - 0.6065306597126335*(Om_m0)))*\n",
    "    (np.exp(1)**(((-1 + E**2)*(1 - 2*a + 2*special.lambertw((np.exp(1)**(-1/2 + a)*(-1 + (Om_m0)))/2).real))/2)*\n",
    "      (-0.3000919999999996 + 0.9999999999999998*E**2) + \n",
    "     np.exp(1)**((E**2*(1 - 2*a + 2*special.lambertw((np.exp(1)**(-1/2 + a)*(-1 + (Om_m0)))/2).real))/2)*\n",
    "      (0.9999999999999998 - 1.9999999999999996*a - 0.9999999999999998*E**2 + \n",
    "       1.9999999999999996*a*E**2)) + \n",
    "   (100**(2.7755575615628914*(10**-17)*np.exp(1)**(a - special.lambertw((np.exp(1)**(-1/2 + a)*(-1 + (Om_m0)))/2).real))*\n",
    "      np.exp(1)**(((-1 + E**2)*(1 - 2*a + 2*special.lambertw((np.exp(1)**(-1/2 + a)*(-1 + (Om_m0)))/2).real))/2)*\n",
    "      h**(np.exp(1)**(a - special.lambertw((np.exp(1)**(-1/2 + a)*(-1 + (Om_m0)))/2).real)*(-0.18201499873448362 + \n",
    "         0.6065306597126335*(Om_m0)))*\n",
    "      (h*E)**(2*a + np.exp(1)**(a - special.lambertw((np.exp(1)**(-1/2 + a)*(-1 + (Om_m0)))/2).real)*\n",
    "         (0.18201499873448365 - 0.6065306597126335*(Om_m0)))*(0.9999999999999998 - \n",
    "       0.9999999999999998*E**2) + 1.*h**(2*a)*(1. + 1.*z)**3)*(Om_m0))/h**(2*a)\n",
    "# fix friedmann"
   ]
  },
  {
   "cell_type": "code",
   "execution_count": 82,
   "id": "fd42c448-ded1-4b0f-9c50-29a4c61d8928",
   "metadata": {
    "tags": []
   },
   "outputs": [
    {
     "name": "stdout",
     "output_type": "stream",
     "text": [
      "69.99932012446848\n"
     ]
    }
   ],
   "source": [
    "# Ηfunctionexp1(zs,[0.3,0.7])\n",
    "print(Ηfunction(0,[0.3,0.7,-0.5],equation_E4))"
   ]
  },
  {
   "cell_type": "code",
   "execution_count": 83,
   "id": "08d31e78-4141-4367-a7c8-bb0dd5499b31",
   "metadata": {
    "tags": []
   },
   "outputs": [
    {
     "data": {
      "text/plain": [
       "[<matplotlib.lines.Line2D at 0x7fe6b7836d30>]"
      ]
     },
     "execution_count": 83,
     "metadata": {},
     "output_type": "execute_result"
    },
    {
     "data": {
      "text/plain": [
       "[<matplotlib.lines.Line2D at 0x7fe6b78440d0>]"
      ]
     },
     "execution_count": 83,
     "metadata": {},
     "output_type": "execute_result"
    },
    {
     "data": {
      "image/png": "[encoded data removed]",
      "text/plain": [
       "<Figure size 432x288 with 1 Axes>"
      ]
     },
     "metadata": {
      "needs_background": "light"
     },
     "output_type": "display_data"
    }
   ],
   "source": [
    "plt.plot(zs,ΗfunctionLCDM(zs,[0.3,0.7]))\n",
    "plt.plot(zs,Ηfunction(zs,[0.3,0.7,1],equation_E4))"
   ]
  },
  {
   "cell_type": "code",
   "execution_count": 84,
   "id": "f544dc87-0470-4ab1-b91c-63d01032970f",
   "metadata": {
    "tags": []
   },
   "outputs": [
    {
     "data": {
      "text/plain": [
       "array([6.99795647e-01, 7.10379858e-01, 7.08979755e-01, 7.03628403e-01,\n",
       "       6.96196112e-01, 6.87437925e-01, 6.77737199e-01, 6.67316953e-01,\n",
       "       6.56319708e-01, 6.44843265e-01, 6.32958700e-01, 6.20720229e-01,\n",
       "       6.08170964e-01, 5.95346470e-01, 5.82277040e-01, 5.68989208e-01,\n",
       "       5.55506796e-01, 5.41851637e-01, 5.28044103e-01, 5.14103489e-01,\n",
       "       5.00048302e-01, 4.85896473e-01, 4.71665529e-01, 4.57372717e-01,\n",
       "       4.43035106e-01, 4.28669668e-01, 4.14293337e-01, 3.99923060e-01,\n",
       "       3.85575834e-01, 3.71268736e-01, 3.57018942e-01, 3.42843745e-01,\n",
       "       3.28760559e-01, 3.14786924e-01, 3.00940501e-01, 2.87239063e-01,\n",
       "       2.73700477e-01, 2.60342685e-01, 2.47183675e-01, 2.34241438e-01,\n",
       "       2.21533934e-01, 2.09079028e-01, 1.96894435e-01, 1.84997641e-01,\n",
       "       1.73405823e-01, 1.62135750e-01, 1.51203674e-01, 1.40625213e-01,\n",
       "       1.30415212e-01, 1.20587600e-01, 1.11155232e-01, 1.02129719e-01,\n",
       "       9.35212562e-02, 8.53384393e-02, 7.75880868e-02, 7.02750638e-02,\n",
       "       6.34021176e-02, 5.69697322e-02, 5.09760085e-02, 4.54165784e-02,\n",
       "       4.02845618e-02, 3.55705722e-02, 3.12627775e-02, 2.73470190e-02,\n",
       "       2.38069895e-02, 2.06244678e-02, 1.77796037e-02, 1.52512443e-02,\n",
       "       1.30172897e-02, 1.10550638e-02, 9.34168669e-03, 7.85443190e-03,\n",
       "       6.57105738e-03, 5.47009799e-03, 4.53111188e-03, 3.73487590e-03,\n",
       "       3.06352840e-03, 2.50066078e-03, 2.03136151e-03, 1.64221811e-03,\n",
       "       1.32128377e-03, 1.05801552e-03, 8.43191187e-04, 6.68811677e-04,\n",
       "       5.27994376e-04, 4.14862824e-04, 3.24436634e-04, 2.52524843e-04,\n",
       "       1.95624991e-04, 1.50829490e-04, 1.15740213e-04, 8.83917160e-05,\n",
       "       6.71831329e-05, 5.08184626e-05, 3.82547823e-05, 2.86577793e-05,\n",
       "       2.13639200e-05, 1.58485472e-05, 1.16991988e-05, 8.59347070e-06])"
      ]
     },
     "execution_count": 84,
     "metadata": {},
     "output_type": "execute_result"
    },
    {
     "data": {
      "text/plain": [
       "[<matplotlib.lines.Line2D at 0x7fe6b7825850>]"
      ]
     },
     "execution_count": 84,
     "metadata": {},
     "output_type": "execute_result"
    },
    {
     "data": {
      "text/plain": [
       "[<matplotlib.lines.Line2D at 0x7fe6b7825be0>]"
      ]
     },
     "execution_count": 84,
     "metadata": {},
     "output_type": "execute_result"
    },
    {
     "data": {
      "image/png": "[encoded data removed]",
      "text/plain": [
       "<Figure size 432x288 with 1 Axes>"
      ]
     },
     "metadata": {
      "needs_background": "light"
     },
     "output_type": "display_data"
    }
   ],
   "source": [
    "# fish plot for Ηfunction\n",
    "def omegalamda(zs,omegam,h):\n",
    "      return 1 - (((100*h)/Ηfunction(zs,[omegam,h,1,-1],equation_E4))**2)*omegam*((1+zs)**3)\n",
    "omegalamda(zs,0.3,0.7)\n",
    "plt.plot(zs,omegalamda(zs,0.3,0.7))\n",
    "plt.plot(zs,((omegam)*((1+zs)**3))/((Ηfunction(zs,[omegam,h,-1],equation_E4)/(100*h))**2))\n",
    "# intersection point, to the left accelarated, to the right disaccelerated "
   ]
  },
  {
   "cell_type": "markdown",
   "id": "d6e74098-52d9-4493-ab76-bb365a962c04",
   "metadata": {
    "execution": {
     "iopub.execute_input": "2021-10-14T18:21:49.574857Z",
     "iopub.status.busy": "2021-10-14T18:21:49.574857Z",
     "iopub.status.idle": "2021-10-14T18:21:49.591812Z",
     "shell.execute_reply": "2021-10-14T18:21:49.591812Z",
     "shell.execute_reply.started": "2021-10-14T18:21:49.574857Z"
    },
    "tags": []
   },
   "source": [
    "# Model 5"
   ]
  },
  {
   "cell_type": "code",
   "execution_count": 27,
   "id": "ff48219d-cf42-41e8-b002-8705e5aef029",
   "metadata": {
    "tags": []
   },
   "outputs": [],
   "source": [
    "equation_E5 = lambda E,z: -E + E**2 - (-E + (1 + z)**3)*(Om_m0)"
   ]
  },
  {
   "cell_type": "code",
   "execution_count": 73,
   "id": "e0593366-ae39-47a9-8710-8170f26c791c",
   "metadata": {
    "tags": []
   },
   "outputs": [
    {
     "name": "stdout",
     "output_type": "stream",
     "text": [
      "70.0\n"
     ]
    }
   ],
   "source": [
    "# Ηfunctionexp1(zs,[0.3,0.7])\n",
    "print(Ηfunction(0,[0.3,0.7,-0.5],equation_E5))"
   ]
  },
  {
   "cell_type": "code",
   "execution_count": 28,
   "id": "3c6aa4fc-9bc0-429f-89ad-4cbd80ffe32d",
   "metadata": {
    "tags": []
   },
   "outputs": [
    {
     "data": {
      "text/plain": [
       "[<matplotlib.lines.Line2D at 0x7fb1d146f5b0>]"
      ]
     },
     "execution_count": 28,
     "metadata": {},
     "output_type": "execute_result"
    },
    {
     "data": {
      "text/plain": [
       "[<matplotlib.lines.Line2D at 0x7fb1d146f880>]"
      ]
     },
     "execution_count": 28,
     "metadata": {},
     "output_type": "execute_result"
    },
    {
     "data": {
      "image/png": "[encoded data removed]",
      "text/plain": [
       "<Figure size 432x288 with 1 Axes>"
      ]
     },
     "metadata": {
      "needs_background": "light"
     },
     "output_type": "display_data"
    }
   ],
   "source": [
    "plt.plot(zs,ΗfunctionLCDM(zs,[0.3,0.7]))\n",
    "plt.plot(zs,Ηfunction(zs,[0.3,0.7,1],equation_E5))"
   ]
  },
  {
   "cell_type": "code",
   "execution_count": 29,
   "id": "b3cdadf1-1dc2-4b2e-bcc6-9a7f7bfb1590",
   "metadata": {
    "tags": []
   },
   "outputs": [
    {
     "data": {
      "text/plain": [
       "array([0.7       , 0.69025555, 0.6806075 , 0.67106248, 0.66162636,\n",
       "       0.6523042 , 0.64310039, 0.63401864, 0.62506206, 0.61623322,\n",
       "       0.60753415, 0.59896645, 0.59053128, 0.58222939, 0.57406122,\n",
       "       0.56602688, 0.55812618, 0.5503587 , 0.54272379, 0.53522058,\n",
       "       0.52784803, 0.52060496, 0.51349003, 0.5065018 , 0.49963869,\n",
       "       0.49289908, 0.48628123, 0.47978336, 0.47340363, 0.46714017,\n",
       "       0.46099106, 0.45495436, 0.4490281 , 0.44321033, 0.43749906,\n",
       "       0.43189232, 0.42638813, 0.42098453, 0.41567956, 0.41047129,\n",
       "       0.40535779, 0.40033716, 0.39540753, 0.39056703, 0.38581384,\n",
       "       0.38114616, 0.3765622 , 0.37206022, 0.36763851, 0.36329537,\n",
       "       0.35902916, 0.35483825, 0.35072104, 0.34667596, 0.3427015 ,\n",
       "       0.33879615, 0.33495843, 0.33118692, 0.3274802 , 0.3238369 ,\n",
       "       0.32025567, 0.31673519, 0.31327418, 0.30987137, 0.30652553,\n",
       "       0.30323547, 0.3       , 0.29681798, 0.29368828, 0.29060981,\n",
       "       0.2875815 , 0.2846023 , 0.28167119, 0.27878718, 0.27594928,\n",
       "       0.27315655, 0.27040806, 0.2677029 , 0.26504019, 0.26241905,\n",
       "       0.25983865, 0.25729817, 0.25479678, 0.25233372, 0.24990821,\n",
       "       0.2475195 , 0.24516685, 0.24284956, 0.24056693, 0.23831826,\n",
       "       0.2361029 , 0.2339202 , 0.23176952, 0.22965023, 0.22756174,\n",
       "       0.22550345, 0.22347477, 0.22147515, 0.21950404, 0.21756088])"
      ]
     },
     "execution_count": 29,
     "metadata": {},
     "output_type": "execute_result"
    },
    {
     "data": {
      "text/plain": [
       "[<matplotlib.lines.Line2D at 0x7fb1d1466520>]"
      ]
     },
     "execution_count": 29,
     "metadata": {},
     "output_type": "execute_result"
    },
    {
     "data": {
      "text/plain": [
       "[<matplotlib.lines.Line2D at 0x7fb1d1466820>]"
      ]
     },
     "execution_count": 29,
     "metadata": {},
     "output_type": "execute_result"
    },
    {
     "data": {
      "image/png": "[encoded data removed]",
      "text/plain": [
       "<Figure size 432x288 with 1 Axes>"
      ]
     },
     "metadata": {
      "needs_background": "light"
     },
     "output_type": "display_data"
    }
   ],
   "source": [
    "# fish plot for Ηfunction\n",
    "def omegalamda(zs,omegam,h):\n",
    "      return 1 - ((100*h)/Ηfunction(zs,[omegam,h,1],equation_E5))**2*omegam*((1+zs)**3)\n",
    "omegalamda(zs,0.3,0.7)\n",
    "plt.plot(zs,omegalamda(zs,0.3,0.7))\n",
    "plt.plot(zs,((omegam)*((1+zs)**3))/((Ηfunction(zs,[omegam,h,1],equation_E5)/(100*h))**2))\n",
    "# intersection point, to the left accelarated, to the right disaccelerated "
   ]
  },
  {
   "cell_type": "markdown",
   "id": "cbf6bed7-abf4-4ca3-8747-efd1fdc6e987",
   "metadata": {
    "execution": {
     "iopub.execute_input": "2021-10-14T18:21:49.574857Z",
     "iopub.status.busy": "2021-10-14T18:21:49.574857Z",
     "iopub.status.idle": "2021-10-14T18:21:49.591812Z",
     "shell.execute_reply": "2021-10-14T18:21:49.591812Z",
     "shell.execute_reply.started": "2021-10-14T18:21:49.574857Z"
    },
    "tags": []
   },
   "source": [
    "# Model 6"
   ]
  },
  {
   "cell_type": "code",
   "execution_count": 30,
   "id": "52235ac9-ff60-4777-ad85-3e59f776d6b6",
   "metadata": {
    "tags": []
   },
   "outputs": [],
   "source": [
    "equation_E6 = lambda E,z: E**2 - (1 + z)**3*(Om_m0) - (E**(-2 + 2*a)*(-1 + (Om_m0))*(-2*(1/(np.cosh(E**(-2))))**2 + (-1 + 2*a)*E**2*np.tanh(E**(-2))))/(2*(1/(np.cosh(1)))**2 + np.tanh(1) - 2*a*np.tanh(1))"
   ]
  },
  {
   "cell_type": "code",
   "execution_count": 31,
   "id": "c32da258-4a2f-4899-b67c-7a7556260b5f",
   "metadata": {
    "tags": []
   },
   "outputs": [
    {
     "name": "stdout",
     "output_type": "stream",
     "text": [
      "70.0\n"
     ]
    }
   ],
   "source": [
    "# Ηfunctionexp1(zs,[0.3,0.7])\n",
    "print(Ηfunction(0,[0.3,0.7,-0.5],equation_E6))"
   ]
  },
  {
   "cell_type": "code",
   "execution_count": 32,
   "id": "50e03305-c635-4b8f-a546-eae2003495d6",
   "metadata": {
    "tags": []
   },
   "outputs": [
    {
     "data": {
      "text/plain": [
       "[<matplotlib.lines.Line2D at 0x7fb1d13ce3a0>]"
      ]
     },
     "execution_count": 32,
     "metadata": {},
     "output_type": "execute_result"
    },
    {
     "data": {
      "text/plain": [
       "[<matplotlib.lines.Line2D at 0x7fb1d13ce7c0>]"
      ]
     },
     "execution_count": 32,
     "metadata": {},
     "output_type": "execute_result"
    },
    {
     "data": {
      "image/png": "[encoded data removed]",
      "text/plain": [
       "<Figure size 432x288 with 1 Axes>"
      ]
     },
     "metadata": {
      "needs_background": "light"
     },
     "output_type": "display_data"
    }
   ],
   "source": [
    "plt.plot(zs,ΗfunctionLCDM(zs,[0.3,0.7]))\n",
    "plt.plot(zs,Ηfunction(zs,[0.3,0.7,0.5],equation_E6))"
   ]
  },
  {
   "cell_type": "code",
   "execution_count": 33,
   "id": "1afda828-01d2-40db-922e-0c66e184b9ad",
   "metadata": {
    "tags": []
   },
   "outputs": [
    {
     "data": {
      "text/plain": [
       "array([0.7       , 0.69845543, 0.6938855 , 0.68773315, 0.68058677,\n",
       "       0.67274946, 0.66440026, 0.65565522, 0.646595  , 0.63727883,\n",
       "       0.62775221, 0.6180514 , 0.60820631, 0.5982422 , 0.58818096,\n",
       "       0.57804193, 0.56784242, 0.55759819, 0.54732372, 0.53703242,\n",
       "       0.52673683, 0.51644869, 0.50617908, 0.49593848, 0.48573682,\n",
       "       0.47558349, 0.46548744, 0.45545712, 0.44550058, 0.43562542,\n",
       "       0.42583883, 0.41614761, 0.40655815, 0.39707644, 0.3877081 ,\n",
       "       0.37845836, 0.36933205, 0.36033367, 0.3514673 , 0.34273671,\n",
       "       0.33414526, 0.32569599, 0.31739159, 0.3092344 , 0.30122646,\n",
       "       0.29336944, 0.28566476, 0.27811348, 0.27071641, 0.26347407,\n",
       "       0.25638669, 0.24945428, 0.24267659, 0.23605312, 0.22958317,\n",
       "       0.22326584, 0.21710001, 0.21108441, 0.20521757, 0.19949789,\n",
       "       0.19392361, 0.18849284, 0.18320359, 0.17805374, 0.17304107,\n",
       "       0.16816329, 0.16341803, 0.15880286, 0.15431528, 0.14995275,\n",
       "       0.1457127 , 0.14159252, 0.13758958, 0.13370125, 0.12992487,\n",
       "       0.1262578 , 0.12269738, 0.11924098, 0.11588598, 0.11262977,\n",
       "       0.10946979, 0.10640348, 0.10342831, 0.10054181, 0.09774153,\n",
       "       0.09502505, 0.09239001, 0.08983408, 0.08735498, 0.08495047,\n",
       "       0.08261837, 0.08035653, 0.07816286, 0.07603532, 0.07397191,\n",
       "       0.07197068, 0.07002974, 0.06814723, 0.06632136, 0.06455038])"
      ]
     },
     "execution_count": 33,
     "metadata": {},
     "output_type": "execute_result"
    },
    {
     "data": {
      "text/plain": [
       "[<matplotlib.lines.Line2D at 0x7fb1d133aca0>]"
      ]
     },
     "execution_count": 33,
     "metadata": {},
     "output_type": "execute_result"
    },
    {
     "data": {
      "text/plain": [
       "[<matplotlib.lines.Line2D at 0x7fb1d1347130>]"
      ]
     },
     "execution_count": 33,
     "metadata": {},
     "output_type": "execute_result"
    },
    {
     "data": {
      "image/png": "[encoded data removed]",
      "text/plain": [
       "<Figure size 432x288 with 1 Axes>"
      ]
     },
     "metadata": {
      "needs_background": "light"
     },
     "output_type": "display_data"
    }
   ],
   "source": [
    "# fish plot for Ηfunction\n",
    "def omegalamda(zs,omegam,h):\n",
    "      return 1 - ((100*h)/Ηfunction(zs,[omegam,h,0.5],equation_E6))**2*omegam*((1+zs)**3)\n",
    "omegalamda(zs,0.3,0.7)\n",
    "plt.plot(zs,omegalamda(zs,0.3,0.7))\n",
    "plt.plot(zs,((omegam)*((1+zs)**3))/((Ηfunction(zs,[omegam,h,0.5],equation_E6)/(100*h))**2))\n",
    "# intersection point, to the left accelarated, to the right disaccelerated "
   ]
  },
  {
   "cell_type": "markdown",
   "id": "9fd44cbd-09f1-4c6e-a376-4e5a840a34a6",
   "metadata": {
    "execution": {
     "iopub.execute_input": "2021-10-14T18:21:49.574857Z",
     "iopub.status.busy": "2021-10-14T18:21:49.574857Z",
     "iopub.status.idle": "2021-10-14T18:21:49.591812Z",
     "shell.execute_reply": "2021-10-14T18:21:49.591812Z",
     "shell.execute_reply.started": "2021-10-14T18:21:49.574857Z"
    },
    "tags": []
   },
   "source": [
    "# Model 7"
   ]
  },
  {
   "cell_type": "code",
   "execution_count": 34,
   "id": "47354d18-2066-4f40-9e5f-bbe485fae08e",
   "metadata": {
    "tags": []
   },
   "outputs": [],
   "source": [
    "equation_E7 = lambda E,z: E**2 + (np.exp(1)**(-1 + E**2)*(1 - E**2 + 2*E**4)*(-1 + (Om_m0)))/2 - (1 + z)**3*(Om_m0)"
   ]
  },
  {
   "cell_type": "code",
   "execution_count": 35,
   "id": "7237a755-2e04-4645-b77d-00a5a3b42ce1",
   "metadata": {
    "tags": []
   },
   "outputs": [
    {
     "name": "stdout",
     "output_type": "stream",
     "text": [
      "70.0\n"
     ]
    }
   ],
   "source": [
    "# Ηfunctionexp1(zs,[0.3,0.7])\n",
    "print(Ηfunction(0,[0.3,0.7,-0.5],equation_E7))"
   ]
  },
  {
   "cell_type": "code",
   "execution_count": 36,
   "id": "e43709e7-aee5-4571-8e07-7b4b2444226a",
   "metadata": {
    "tags": []
   },
   "outputs": [
    {
     "name": "stderr",
     "output_type": "stream",
     "text": [
      "/tmp/ipykernel_58172/2306859768.py:1: RuntimeWarning: overflow encountered in power\n",
      "  equation_E7 = lambda E,z: E**2 + (np.exp(1)**(-1 + E**2)*(1 - E**2 + 2*E**4)*(-1 + (Om_m0)))/2 - (1 + z)**3*(Om_m0)\n",
      "/home/fotis/miniconda3/lib/python3.8/site-packages/scipy/optimize/zeros.py:419: RuntimeWarning: invalid value encountered in true_divide\n",
      "  dp = (q1 * (p1 - p))[nz_der] / (q1 - q0)[nz_der]\n",
      "/home/fotis/miniconda3/lib/python3.8/site-packages/scipy/optimize/zeros.py:426: RuntimeWarning: invalid value encountered in greater_equal\n",
      "  failures[nz_der] = np.abs(dp) >= tol  # not yet converged\n",
      "/home/fotis/miniconda3/lib/python3.8/site-packages/scipy/optimize/zeros.py:459: RuntimeWarning: some failed to converge after 50 iterations\n",
      "  warnings.warn(msg, RuntimeWarning)\n"
     ]
    },
    {
     "data": {
      "text/plain": [
       "array([ 7.00000000e-01,  6.72710583e-01,  6.40485141e-01,  5.99015894e-01,\n",
       "        5.05227402e-01, -1.97392254e+00,  5.31629233e-01, -1.50848972e-01,\n",
       "       -2.49368691e+03,  3.47702826e-01, -2.51620772e+01,  6.31404684e-01,\n",
       "                   nan,  4.78342911e-01,             nan, -2.20574868e+00,\n",
       "       -2.55802973e+01, -4.73009753e+00, -3.17549055e+01,             nan,\n",
       "       -1.95225515e+02,             nan,  9.51483961e-01,  4.24530759e-01,\n",
       "       -1.67984222e+01, -3.55817717e+01, -5.40374084e+02, -2.52975019e+01,\n",
       "       -1.28450549e+01, -1.15088941e+01, -1.05702212e+01, -9.55834430e+00,\n",
       "       -8.31318111e+00, -1.81487551e+00, -2.26272074e+00,             nan,\n",
       "       -3.15650937e+00, -7.83326970e+01, -9.18964946e+01, -1.59445317e+01,\n",
       "       -8.09405316e+00, -5.49565844e+00, -3.61448152e+00, -2.87056362e+00,\n",
       "       -1.67396619e+00, -3.56601303e+00, -1.08751852e+02, -7.82720251e+01,\n",
       "        8.31065807e-01, -7.90720499e+00,             nan,  7.94616086e-01,\n",
       "       -2.45723190e-01, -1.06288388e+01,             nan, -3.36731319e+01,\n",
       "       -1.18294261e+01,             nan, -4.89644086e+00, -1.15986759e+00,\n",
       "       -2.99330957e+01, -2.39276260e+02, -2.21439445e+01,             nan,\n",
       "       -6.39052763e+00, -1.01437961e+01, -2.59551703e+01, -2.81995691e+02,\n",
       "       -2.32313518e+01, -1.04493649e+01, -6.71843346e+00,             nan,\n",
       "       -3.54725232e+02, -5.26167021e+01,             nan, -8.49994301e+00,\n",
       "       -2.71248628e+00, -1.35270973e+02, -6.93915978e+01,             nan,\n",
       "       -9.19413677e+00,             nan, -1.09298697e+03, -4.36893554e+01,\n",
       "       -1.44713237e+01,             nan,             nan, -1.85283514e+02,\n",
       "                   nan, -1.09688729e+01,             nan, -1.73947361e+03,\n",
       "                   nan, -1.27933265e+01,             nan, -4.81484177e+03,\n",
       "                   nan, -1.33082521e+01,             nan, -5.08033684e+02])"
      ]
     },
     "execution_count": 36,
     "metadata": {},
     "output_type": "execute_result"
    },
    {
     "data": {
      "text/plain": [
       "[<matplotlib.lines.Line2D at 0x7fb1d12b4790>]"
      ]
     },
     "execution_count": 36,
     "metadata": {},
     "output_type": "execute_result"
    },
    {
     "name": "stderr",
     "output_type": "stream",
     "text": [
      "/tmp/ipykernel_58172/2306859768.py:1: RuntimeWarning: overflow encountered in power\n",
      "  equation_E7 = lambda E,z: E**2 + (np.exp(1)**(-1 + E**2)*(1 - E**2 + 2*E**4)*(-1 + (Om_m0)))/2 - (1 + z)**3*(Om_m0)\n",
      "/home/fotis/miniconda3/lib/python3.8/site-packages/scipy/optimize/zeros.py:419: RuntimeWarning: invalid value encountered in true_divide\n",
      "  dp = (q1 * (p1 - p))[nz_der] / (q1 - q0)[nz_der]\n",
      "/home/fotis/miniconda3/lib/python3.8/site-packages/scipy/optimize/zeros.py:426: RuntimeWarning: invalid value encountered in greater_equal\n",
      "  failures[nz_der] = np.abs(dp) >= tol  # not yet converged\n",
      "/home/fotis/miniconda3/lib/python3.8/site-packages/scipy/optimize/zeros.py:459: RuntimeWarning: some failed to converge after 50 iterations\n",
      "  warnings.warn(msg, RuntimeWarning)\n"
     ]
    },
    {
     "data": {
      "text/plain": [
       "[<matplotlib.lines.Line2D at 0x7fb1d12b4dc0>]"
      ]
     },
     "execution_count": 36,
     "metadata": {},
     "output_type": "execute_result"
    },
    {
     "data": {
      "image/png": "[encoded data removed]",
      "text/plain": [
       "<Figure size 432x288 with 1 Axes>"
      ]
     },
     "metadata": {
      "needs_background": "light"
     },
     "output_type": "display_data"
    }
   ],
   "source": [
    "# fish plot for Ηfunction\n",
    "def omegalamda(zs,omegam,h):\n",
    "      return 1 - ((100*h)/Ηfunction(zs,[omegam,h,0.5],equation_E7))**2*omegam*((1+zs)**3)\n",
    "omegalamda(zs,0.3,0.7)\n",
    "plt.plot(zs,omegalamda(zs,0.3,0.7))\n",
    "plt.plot(zs,((omegam)*((1+zs)**3))/((Ηfunction(zs,[omegam,h,0.5],equation_E7)/(100*h))**2))\n",
    "# intersection point, to the left accelarated, to the right disaccelerated "
   ]
  },
  {
   "cell_type": "code",
   "execution_count": null,
   "id": "becef4e8-a8aa-4c2d-a69c-58f981f4d345",
   "metadata": {},
   "outputs": [],
   "source": []
  },
  {
   "cell_type": "code",
   "execution_count": null,
   "id": "773f7b18",
   "metadata": {},
   "outputs": [],
   "source": []
  }
 ],
 "metadata": {
  "kernelspec": {
   "display_name": "Python 3 (ipykernel)",
   "language": "python",
   "name": "python3"
  },
  "language_info": {
   "codemirror_mode": {
    "name": "ipython",
    "version": 3
   },
   "file_extension": ".py",
   "mimetype": "text/x-python",
   "name": "python",
   "nbconvert_exporter": "python",
   "pygments_lexer": "ipython3",
   "version": "3.8.12"
  }
 },
 "nbformat": 4,
 "nbformat_minor": 5
}
